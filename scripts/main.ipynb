{
 "cells": [
  {
   "cell_type": "markdown",
   "id": "9c4ab2c6",
   "metadata": {},
   "source": [
    "# Palm Case Study\n",
    "\n",
    "Tasks:\n",
    "- Generate insights about ResortChain\n",
    "- Identify main cash flow drivers (both for CRDIT an DBIT). \n",
    "- Outlier analysis, trends (e.g. spikes, seasonality, causality)"
   ]
  },
  {
   "cell_type": "markdown",
   "id": "e9edb23f",
   "metadata": {},
   "source": [
    "## 1) Load datasets\n",
    "\n",
    "This section imports all provided datasets and prepares them for analysis. We start with `transactions.csv` (semicolon-separated, comma decimals) and also load `balances.csv`, `system_forecasts.csv`, and `user_forecasts.csv` for later use.\n"
   ]
  },
  {
   "cell_type": "code",
   "execution_count": 24,
   "id": "391babe8",
   "metadata": {
    "tags": [
     "dataset_import"
    ]
   },
   "outputs": [
    {
     "name": "stdout",
     "output_type": "stream",
     "text": [
      "============================================================\n",
      "DATA LOADING SUMMARY\n",
      "============================================================\n",
      "Transactions loaded: True\n",
      "  Shape: (1244, 11)\n",
      "  📅 DATE COLUMN USED: value_date\n",
      "\n",
      "Balances loaded: True\n",
      "  Shape: (243, 6)\n",
      "\n",
      "System forecasts loaded: True\n",
      "  Shape: (108, 20)\n",
      "\n",
      "User forecasts loaded: True\n",
      "  Shape: (267, 18)\n",
      "============================================================\n"
     ]
    },
    {
     "data": {
      "text/html": [
       "<div>\n",
       "<style scoped>\n",
       "    .dataframe tbody tr th:only-of-type {\n",
       "        vertical-align: middle;\n",
       "    }\n",
       "\n",
       "    .dataframe tbody tr th {\n",
       "        vertical-align: top;\n",
       "    }\n",
       "\n",
       "    .dataframe thead th {\n",
       "        text-align: right;\n",
       "    }\n",
       "</style>\n",
       "<table border=\"1\" class=\"dataframe\">\n",
       "  <thead>\n",
       "    <tr style=\"text-align: right;\">\n",
       "      <th></th>\n",
       "      <th>account_number</th>\n",
       "      <th>value_date</th>\n",
       "      <th>booking_date</th>\n",
       "      <th>amount</th>\n",
       "      <th>currency</th>\n",
       "      <th>credit_or_debit</th>\n",
       "      <th>additional_info</th>\n",
       "      <th>remittence_info</th>\n",
       "      <th>bank_reference</th>\n",
       "      <th>creditor_name</th>\n",
       "      <th>debtor_name</th>\n",
       "    </tr>\n",
       "  </thead>\n",
       "  <tbody>\n",
       "    <tr>\n",
       "      <th>0</th>\n",
       "      <td>FR7612345678901234567890123</td>\n",
       "      <td>2025-01-01</td>\n",
       "      <td>2025-01-01</td>\n",
       "      <td>525.98</td>\n",
       "      <td>EUR</td>\n",
       "      <td>CRDT</td>\n",
       "      <td>Resort Revenue - cash_in_resort_revenue</td>\n",
       "      <td>Transaction for Cash In Resort Revenue</td>\n",
       "      <td>REF343962</td>\n",
       "      <td>Resort Customer</td>\n",
       "      <td>France Account Account</td>\n",
       "    </tr>\n",
       "    <tr>\n",
       "      <th>1</th>\n",
       "      <td>FR7612345678901234567890123</td>\n",
       "      <td>2025-01-03</td>\n",
       "      <td>2025-01-01</td>\n",
       "      <td>198.51</td>\n",
       "      <td>EUR</td>\n",
       "      <td>DBIT</td>\n",
       "      <td>Investment Purchase - cash_out_investments_out...</td>\n",
       "      <td>Transaction for Cash Out Investments Outflow</td>\n",
       "      <td>REF308496</td>\n",
       "      <td>France Account Account</td>\n",
       "      <td>Investment Manager</td>\n",
       "    </tr>\n",
       "    <tr>\n",
       "      <th>2</th>\n",
       "      <td>FR7612345678901234567890123</td>\n",
       "      <td>2025-01-02</td>\n",
       "      <td>2025-01-01</td>\n",
       "      <td>151.97</td>\n",
       "      <td>EUR</td>\n",
       "      <td>DBIT</td>\n",
       "      <td>Investment Purchase - cash_out_investments_out...</td>\n",
       "      <td>Transaction for Cash Out Investments Outflow</td>\n",
       "      <td>REF717889</td>\n",
       "      <td>France Account Account</td>\n",
       "      <td>Investment Manager</td>\n",
       "    </tr>\n",
       "    <tr>\n",
       "      <th>3</th>\n",
       "      <td>FR7612345678901234567890123</td>\n",
       "      <td>2025-01-01</td>\n",
       "      <td>2025-01-01</td>\n",
       "      <td>426.18</td>\n",
       "      <td>EUR</td>\n",
       "      <td>DBIT</td>\n",
       "      <td>FX Transaction - cash_out_foreign_exchange_exp...</td>\n",
       "      <td>Transaction for Cash Out Foreign Exchange Expe...</td>\n",
       "      <td>REF895667</td>\n",
       "      <td>France Account Account</td>\n",
       "      <td>FX Bank</td>\n",
       "    </tr>\n",
       "    <tr>\n",
       "      <th>4</th>\n",
       "      <td>FR7612345678901234567890123</td>\n",
       "      <td>2025-01-02</td>\n",
       "      <td>2025-01-01</td>\n",
       "      <td>743.41</td>\n",
       "      <td>EUR</td>\n",
       "      <td>DBIT</td>\n",
       "      <td>Tax Payment - cash_out_tax_payments</td>\n",
       "      <td>Transaction for Cash Out Tax Payments</td>\n",
       "      <td>REF391369</td>\n",
       "      <td>France Account Account</td>\n",
       "      <td>Tax Authority</td>\n",
       "    </tr>\n",
       "  </tbody>\n",
       "</table>\n",
       "</div>"
      ],
      "text/plain": [
       "                account_number value_date booking_date  amount currency  \\\n",
       "0  FR7612345678901234567890123 2025-01-01   2025-01-01  525.98      EUR   \n",
       "1  FR7612345678901234567890123 2025-01-03   2025-01-01  198.51      EUR   \n",
       "2  FR7612345678901234567890123 2025-01-02   2025-01-01  151.97      EUR   \n",
       "3  FR7612345678901234567890123 2025-01-01   2025-01-01  426.18      EUR   \n",
       "4  FR7612345678901234567890123 2025-01-02   2025-01-01  743.41      EUR   \n",
       "\n",
       "  credit_or_debit                                    additional_info  \\\n",
       "0            CRDT            Resort Revenue - cash_in_resort_revenue   \n",
       "1            DBIT  Investment Purchase - cash_out_investments_out...   \n",
       "2            DBIT  Investment Purchase - cash_out_investments_out...   \n",
       "3            DBIT  FX Transaction - cash_out_foreign_exchange_exp...   \n",
       "4            DBIT                Tax Payment - cash_out_tax_payments   \n",
       "\n",
       "                                     remittence_info bank_reference  \\\n",
       "0             Transaction for Cash In Resort Revenue      REF343962   \n",
       "1       Transaction for Cash Out Investments Outflow      REF308496   \n",
       "2       Transaction for Cash Out Investments Outflow      REF717889   \n",
       "3  Transaction for Cash Out Foreign Exchange Expe...      REF895667   \n",
       "4              Transaction for Cash Out Tax Payments      REF391369   \n",
       "\n",
       "            creditor_name             debtor_name  \n",
       "0         Resort Customer  France Account Account  \n",
       "1  France Account Account      Investment Manager  \n",
       "2  France Account Account      Investment Manager  \n",
       "3  France Account Account                 FX Bank  \n",
       "4  France Account Account           Tax Authority  "
      ]
     },
     "metadata": {},
     "output_type": "display_data"
    }
   ],
   "source": [
    "# CELL 1: SETUP & DATA LOADING\n",
    "import warnings\n",
    "warnings.filterwarnings('ignore')\n",
    "\n",
    "from pathlib import Path\n",
    "import pandas as pd\n",
    "import numpy as np\n",
    "import plotly.express as px\n",
    "import plotly.graph_objects as go\n",
    "from plotly.subplots import make_subplots\n",
    "\n",
    "# Display options\n",
    "pd.set_option('display.max_columns', None)\n",
    "pd.set_option('display.max_rows', 100)\n",
    "\n",
    "# Plotly defaults\n",
    "px.defaults.template = 'plotly_white'\n",
    "px.defaults.width = 1100\n",
    "px.defaults.height = 500\n",
    "\n",
    "# Configure dataset paths (absolute)\n",
    "base_dir = Path(\"/Users/gianniskotsas/Documents/Side Projects/palm-case-study/scripts/datasets/raw\")\n",
    "transactions_path = base_dir / \"transactions.csv\"\n",
    "balances_path = base_dir / \"balances.csv\"\n",
    "system_forecasts_path = base_dir / \"system_forecasts.csv\"\n",
    "user_forecasts_path = base_dir / \"user_forecasts.csv\"\n",
    "\n",
    "# Helper: choose main date column name from available candidates\n",
    "# IMPORTANT: value_date is prioritized over booking_date\n",
    "DATE_CANDIDATES = [\n",
    "    'value_date', 'booking_date', 'date', 'transaction_date', 'transactionDate'\n",
    "]\n",
    "\n",
    "def pick_date_column(df: pd.DataFrame) -> str | None:\n",
    "    for c in DATE_CANDIDATES:\n",
    "        if c in df.columns:\n",
    "            return c\n",
    "    # try to detect first column with datetime dtype\n",
    "    for c in df.columns:\n",
    "        if pd.api.types.is_datetime64_any_dtype(df[c]):\n",
    "            return c\n",
    "    # try to parse any column ending with 'date'\n",
    "    for c in df.columns:\n",
    "        if 'date' in c.lower():\n",
    "            try:\n",
    "                _ = pd.to_datetime(df[c], errors='raise')\n",
    "                return c\n",
    "            except Exception:\n",
    "                continue\n",
    "    return None\n",
    "\n",
    "# Load Transactions: support CSV (expected) or Excel fallback\n",
    "transactions = None\n",
    "if transactions_path.suffix.lower() in {'.xlsx', '.xls'}:\n",
    "    # Excel with potential multiple sheets\n",
    "    xl = pd.ExcelFile(transactions_path)\n",
    "    sheet_names = set([s.lower() for s in xl.sheet_names])\n",
    "    try:\n",
    "        tx_sheet = next(s for s in xl.sheet_names if s.lower() in {\"transactions\", \"tx\", \"data\"})\n",
    "    except StopIteration:\n",
    "        tx_sheet = xl.sheet_names[0]\n",
    "    transactions = pd.read_excel(xl, sheet_name=tx_sheet)\n",
    "else:\n",
    "    # CSV (semicolon sep, comma decimal)\n",
    "    parse_cols = ['value_date', 'booking_date']\n",
    "    parse_present = [c for c in parse_cols if c in pd.read_csv(transactions_path, sep=';', nrows=0).columns]\n",
    "    transactions = pd.read_csv(\n",
    "        transactions_path,\n",
    "        sep=';',\n",
    "        decimal=',',\n",
    "        dtype={\n",
    "            'account_number': 'string',\n",
    "            'currency': 'string',\n",
    "            'credit_or_debit': 'string',\n",
    "            'additional_info': 'string',\n",
    "            'remittence_info': 'string',\n",
    "            'bank_reference': 'string',\n",
    "            'creditor_name': 'string',\n",
    "            'debtor_name': 'string',\n",
    "        },\n",
    "        parse_dates=parse_present if len(parse_present) > 0 else None,\n",
    "        dayfirst=True,\n",
    "        infer_datetime_format=True,\n",
    "        engine='python'\n",
    "    )\n",
    "\n",
    "# Load optional datasets when present\n",
    "balances = None\n",
    "if balances_path.exists():\n",
    "    try:\n",
    "        balances = pd.read_csv(balances_path, sep=';', decimal=',', parse_dates=['balance_date'])\n",
    "    except Exception:\n",
    "        balances = pd.read_csv(balances_path, sep=';', decimal=',')\n",
    "        if 'balance_date' in balances.columns:\n",
    "            balances['balance_date'] = pd.to_datetime(balances['balance_date'], errors='coerce')\n",
    "\n",
    "system_forecasts = None\n",
    "if system_forecasts_path.exists():\n",
    "    system_forecasts = pd.read_csv(system_forecasts_path, sep=';', decimal=',')\n",
    "\n",
    "user_forecasts = None\n",
    "if user_forecasts_path.exists():\n",
    "    user_forecasts = pd.read_csv(user_forecasts_path, sep=';', decimal=',')\n",
    "\n",
    "# Identify main date column for transactions\n",
    "trx_date_col = pick_date_column(transactions) if transactions is not None else None\n",
    "if trx_date_col is not None:\n",
    "    transactions[trx_date_col] = pd.to_datetime(transactions[trx_date_col], errors='coerce')\n",
    "\n",
    "# Basic summary\n",
    "print(\"=\" * 60)\n",
    "print(\"DATA LOADING SUMMARY\")\n",
    "print(\"=\" * 60)\n",
    "print(f\"Transactions loaded: {transactions is not None}\")\n",
    "if transactions is not None:\n",
    "    print(f\"  Shape: {transactions.shape}\")\n",
    "    print(f\"  📅 DATE COLUMN USED: {trx_date_col}\")\n",
    "print(f\"\\nBalances loaded: {balances is not None}\")\n",
    "if balances is not None:\n",
    "    print(f\"  Shape: {balances.shape}\")\n",
    "print(f\"\\nSystem forecasts loaded: {system_forecasts is not None}\")\n",
    "if system_forecasts is not None:\n",
    "    print(f\"  Shape: {system_forecasts.shape}\")\n",
    "print(f\"\\nUser forecasts loaded: {user_forecasts is not None}\")\n",
    "if user_forecasts is not None:\n",
    "    print(f\"  Shape: {user_forecasts.shape}\")\n",
    "print(\"=\" * 60)\n",
    "\n",
    "# Peek\n",
    "display(transactions.head(5) if transactions is not None else \"transactions missing\")\n"
   ]
  },
  {
   "cell_type": "code",
   "execution_count": 25,
   "id": "ee416094",
   "metadata": {},
   "outputs": [
    {
     "name": "stdout",
     "output_type": "stream",
     "text": [
      "✓ Ready to create charts using loaded datasets\n"
     ]
    }
   ],
   "source": [
    "# OPTIONAL: OpenAI SDK Setup (if needed for future AI-powered analysis)\n",
    "# Uncomment the code below if you want to use OpenAI:\n",
    "#\n",
    "# import os\n",
    "# from openai import OpenAI\n",
    "# from dotenv import load_dotenv\n",
    "# \n",
    "# # Load .env.local from project root\n",
    "# env_path = Path('/Users/gianniskotsas/Documents/Side Projects/palm-case-study/.env.local')\n",
    "# if env_path.exists():\n",
    "#     load_dotenv(env_path)\n",
    "# \n",
    "# # Initialize OpenAI client\n",
    "# openai_client = OpenAI(api_key=os.getenv('OPENAI_API_KEY'))\n",
    "# print(f\"OpenAI client initialized: {openai_client is not None}\")\n",
    "\n",
    "print(\"✓ Ready to create charts using loaded datasets\")\n"
   ]
  },
  {
   "cell_type": "markdown",
   "id": "41dda0e1",
   "metadata": {},
   "source": [
    "## 2) Chart 1: Monthly Expenses by Category (Stacked Bar) + Hotel Revenue (Line)\n",
    "\n",
    "This chart shows monthly expenses broken down by category as a stacked bar chart, with hotel revenue overlaid as a line chart.\n"
   ]
  },
  {
   "cell_type": "code",
   "execution_count": 38,
   "id": "44f07af6",
   "metadata": {},
   "outputs": [
    {
     "data": {
      "application/vnd.plotly.v1+json": {
       "config": {
        "plotlyServerURL": "https://plot.ly"
       },
       "data": [
        {
         "hovertemplate": "%{x}<br>%{fullData.name}: €%{y:,.2f}<extra></extra>",
         "name": "FX Transaction",
         "type": "bar",
         "x": [
          "2025-01",
          "2025-02",
          "2025-03",
          "2025-04",
          "2025-05",
          "2025-06",
          "2025-07",
          "2025-08"
         ],
         "y": {
          "bdata": "CtejcL2YvkB7FK5HoYezQD0K16NwULlAcT0K1yOGskBmZmZm5km4QKRwPQrXXrdAKVyPwrWzsEBcj8L1qPa1QA==",
          "dtype": "f8"
         }
        },
        {
         "hovertemplate": "%{x}<br>%{fullData.name}: €%{y:,.2f}<extra></extra>",
         "name": "Insurance Premium",
         "type": "bar",
         "x": [
          "2025-01",
          "2025-02",
          "2025-03",
          "2025-04",
          "2025-05",
          "2025-06",
          "2025-07",
          "2025-08"
         ],
         "y": {
          "bdata": "ZmZmZmawi0Bcj8L1KHmSQFK4HoXrWplA16NwPQq7j0AK16NwPU6QQFyPwvUoBJBA7FG4HoXNjUA9CtejcMuUQA==",
          "dtype": "f8"
         }
        },
        {
         "hovertemplate": "%{x}<br>%{fullData.name}: €%{y:,.2f}<extra></extra>",
         "name": "Investment Purchase",
         "type": "bar",
         "x": [
          "2025-01",
          "2025-02",
          "2025-03",
          "2025-04",
          "2025-05",
          "2025-06",
          "2025-07",
          "2025-08"
         ],
         "y": {
          "bdata": "61G4HoWArkAAAAAAAKOlQML1KFwP6KZAzczMzMx0iUBI4XoUrtShQHE9CtejbqFAKVyPwnVFq0ApXI/CdTWsQA==",
          "dtype": "f8"
         }
        },
        {
         "hovertemplate": "%{x}<br>%{fullData.name}: €%{y:,.2f}<extra></extra>",
         "name": "Maintenance Expenses",
         "type": "bar",
         "x": [
          "2025-01",
          "2025-02",
          "2025-03",
          "2025-04",
          "2025-05",
          "2025-06",
          "2025-07",
          "2025-08"
         ],
         "y": {
          "bdata": "cT0K16N1lkCamZmZmYiYQHsUrkfhzI9ACtejcD0GjEB7FK5H4deQQHsUrkfhp5NAAAAAAABIkkBmZmZmZqKDQA==",
          "dtype": "f8"
         }
        },
        {
         "hovertemplate": "%{x}<br>%{fullData.name}: €%{y:,.2f}<extra></extra>",
         "name": "Payroll Payment",
         "type": "bar",
         "x": [
          "2025-01",
          "2025-02",
          "2025-03",
          "2025-04",
          "2025-05",
          "2025-06",
          "2025-07",
          "2025-08"
         ],
         "y": {
          "bdata": "w/UoXG/i30CuR+F6lAPdQOF6FK63VOhAUrgehauw6UBI4XoUDsLjQArXo3BNHuRAAAAAAACa5kAAAAAAEALeQA==",
          "dtype": "f8"
         }
        },
        {
         "hovertemplate": "%{x}<br>%{fullData.name}: €%{y:,.2f}<extra></extra>",
         "name": "Tax Payment",
         "type": "bar",
         "x": [
          "2025-01",
          "2025-02",
          "2025-03",
          "2025-04",
          "2025-05",
          "2025-06",
          "2025-07",
          "2025-08"
         ],
         "y": {
          "bdata": "MzMzM9MVw0ApXI/CFaLDQLgehevx8MZA16NwPYpGxkBcj8L1CPHAQFK4HoXLw8JAuB6F69GxuECF61G4virFQA==",
          "dtype": "f8"
         }
        },
        {
         "hovertemplate": "%{x}<br>Revenue: €%{y:,.2f}<extra></extra>",
         "line": {
          "color": "darkgreen",
          "width": 3
         },
         "marker": {
          "size": 8
         },
         "mode": "lines+markers",
         "name": "Hotel Revenue",
         "type": "scatter",
         "x": [
          "2025-01",
          "2025-02",
          "2025-03",
          "2025-04",
          "2025-05",
          "2025-06",
          "2025-07",
          "2025-08"
         ],
         "y": {
          "bdata": "Urgeheue5UCamZmZISrkQBWuR+HqTNxA4XoUrrcj6EB7FK5HCQLnQD4K16PQo9xAhetRuM762kAfhetRQEbgQA==",
          "dtype": "f8"
         },
         "yaxis": "y2"
        }
       ],
       "layout": {
        "barmode": "stack",
        "height": 600,
        "hovermode": "x unified",
        "legend": {
         "orientation": "v",
         "x": 1.15,
         "xanchor": "left",
         "y": 1,
         "yanchor": "top"
        },
        "template": {
         "data": {
          "bar": [
           {
            "error_x": {
             "color": "#2a3f5f"
            },
            "error_y": {
             "color": "#2a3f5f"
            },
            "marker": {
             "line": {
              "color": "#E5ECF6",
              "width": 0.5
             },
             "pattern": {
              "fillmode": "overlay",
              "size": 10,
              "solidity": 0.2
             }
            },
            "type": "bar"
           }
          ],
          "barpolar": [
           {
            "marker": {
             "line": {
              "color": "#E5ECF6",
              "width": 0.5
             },
             "pattern": {
              "fillmode": "overlay",
              "size": 10,
              "solidity": 0.2
             }
            },
            "type": "barpolar"
           }
          ],
          "carpet": [
           {
            "aaxis": {
             "endlinecolor": "#2a3f5f",
             "gridcolor": "white",
             "linecolor": "white",
             "minorgridcolor": "white",
             "startlinecolor": "#2a3f5f"
            },
            "baxis": {
             "endlinecolor": "#2a3f5f",
             "gridcolor": "white",
             "linecolor": "white",
             "minorgridcolor": "white",
             "startlinecolor": "#2a3f5f"
            },
            "type": "carpet"
           }
          ],
          "choropleth": [
           {
            "colorbar": {
             "outlinewidth": 0,
             "ticks": ""
            },
            "type": "choropleth"
           }
          ],
          "contour": [
           {
            "colorbar": {
             "outlinewidth": 0,
             "ticks": ""
            },
            "colorscale": [
             [
              0,
              "#0d0887"
             ],
             [
              0.1111111111111111,
              "#46039f"
             ],
             [
              0.2222222222222222,
              "#7201a8"
             ],
             [
              0.3333333333333333,
              "#9c179e"
             ],
             [
              0.4444444444444444,
              "#bd3786"
             ],
             [
              0.5555555555555556,
              "#d8576b"
             ],
             [
              0.6666666666666666,
              "#ed7953"
             ],
             [
              0.7777777777777778,
              "#fb9f3a"
             ],
             [
              0.8888888888888888,
              "#fdca26"
             ],
             [
              1,
              "#f0f921"
             ]
            ],
            "type": "contour"
           }
          ],
          "contourcarpet": [
           {
            "colorbar": {
             "outlinewidth": 0,
             "ticks": ""
            },
            "type": "contourcarpet"
           }
          ],
          "heatmap": [
           {
            "colorbar": {
             "outlinewidth": 0,
             "ticks": ""
            },
            "colorscale": [
             [
              0,
              "#0d0887"
             ],
             [
              0.1111111111111111,
              "#46039f"
             ],
             [
              0.2222222222222222,
              "#7201a8"
             ],
             [
              0.3333333333333333,
              "#9c179e"
             ],
             [
              0.4444444444444444,
              "#bd3786"
             ],
             [
              0.5555555555555556,
              "#d8576b"
             ],
             [
              0.6666666666666666,
              "#ed7953"
             ],
             [
              0.7777777777777778,
              "#fb9f3a"
             ],
             [
              0.8888888888888888,
              "#fdca26"
             ],
             [
              1,
              "#f0f921"
             ]
            ],
            "type": "heatmap"
           }
          ],
          "histogram": [
           {
            "marker": {
             "pattern": {
              "fillmode": "overlay",
              "size": 10,
              "solidity": 0.2
             }
            },
            "type": "histogram"
           }
          ],
          "histogram2d": [
           {
            "colorbar": {
             "outlinewidth": 0,
             "ticks": ""
            },
            "colorscale": [
             [
              0,
              "#0d0887"
             ],
             [
              0.1111111111111111,
              "#46039f"
             ],
             [
              0.2222222222222222,
              "#7201a8"
             ],
             [
              0.3333333333333333,
              "#9c179e"
             ],
             [
              0.4444444444444444,
              "#bd3786"
             ],
             [
              0.5555555555555556,
              "#d8576b"
             ],
             [
              0.6666666666666666,
              "#ed7953"
             ],
             [
              0.7777777777777778,
              "#fb9f3a"
             ],
             [
              0.8888888888888888,
              "#fdca26"
             ],
             [
              1,
              "#f0f921"
             ]
            ],
            "type": "histogram2d"
           }
          ],
          "histogram2dcontour": [
           {
            "colorbar": {
             "outlinewidth": 0,
             "ticks": ""
            },
            "colorscale": [
             [
              0,
              "#0d0887"
             ],
             [
              0.1111111111111111,
              "#46039f"
             ],
             [
              0.2222222222222222,
              "#7201a8"
             ],
             [
              0.3333333333333333,
              "#9c179e"
             ],
             [
              0.4444444444444444,
              "#bd3786"
             ],
             [
              0.5555555555555556,
              "#d8576b"
             ],
             [
              0.6666666666666666,
              "#ed7953"
             ],
             [
              0.7777777777777778,
              "#fb9f3a"
             ],
             [
              0.8888888888888888,
              "#fdca26"
             ],
             [
              1,
              "#f0f921"
             ]
            ],
            "type": "histogram2dcontour"
           }
          ],
          "mesh3d": [
           {
            "colorbar": {
             "outlinewidth": 0,
             "ticks": ""
            },
            "type": "mesh3d"
           }
          ],
          "parcoords": [
           {
            "line": {
             "colorbar": {
              "outlinewidth": 0,
              "ticks": ""
             }
            },
            "type": "parcoords"
           }
          ],
          "pie": [
           {
            "automargin": true,
            "type": "pie"
           }
          ],
          "scatter": [
           {
            "fillpattern": {
             "fillmode": "overlay",
             "size": 10,
             "solidity": 0.2
            },
            "type": "scatter"
           }
          ],
          "scatter3d": [
           {
            "line": {
             "colorbar": {
              "outlinewidth": 0,
              "ticks": ""
             }
            },
            "marker": {
             "colorbar": {
              "outlinewidth": 0,
              "ticks": ""
             }
            },
            "type": "scatter3d"
           }
          ],
          "scattercarpet": [
           {
            "marker": {
             "colorbar": {
              "outlinewidth": 0,
              "ticks": ""
             }
            },
            "type": "scattercarpet"
           }
          ],
          "scattergeo": [
           {
            "marker": {
             "colorbar": {
              "outlinewidth": 0,
              "ticks": ""
             }
            },
            "type": "scattergeo"
           }
          ],
          "scattergl": [
           {
            "marker": {
             "colorbar": {
              "outlinewidth": 0,
              "ticks": ""
             }
            },
            "type": "scattergl"
           }
          ],
          "scattermap": [
           {
            "marker": {
             "colorbar": {
              "outlinewidth": 0,
              "ticks": ""
             }
            },
            "type": "scattermap"
           }
          ],
          "scattermapbox": [
           {
            "marker": {
             "colorbar": {
              "outlinewidth": 0,
              "ticks": ""
             }
            },
            "type": "scattermapbox"
           }
          ],
          "scatterpolar": [
           {
            "marker": {
             "colorbar": {
              "outlinewidth": 0,
              "ticks": ""
             }
            },
            "type": "scatterpolar"
           }
          ],
          "scatterpolargl": [
           {
            "marker": {
             "colorbar": {
              "outlinewidth": 0,
              "ticks": ""
             }
            },
            "type": "scatterpolargl"
           }
          ],
          "scatterternary": [
           {
            "marker": {
             "colorbar": {
              "outlinewidth": 0,
              "ticks": ""
             }
            },
            "type": "scatterternary"
           }
          ],
          "surface": [
           {
            "colorbar": {
             "outlinewidth": 0,
             "ticks": ""
            },
            "colorscale": [
             [
              0,
              "#0d0887"
             ],
             [
              0.1111111111111111,
              "#46039f"
             ],
             [
              0.2222222222222222,
              "#7201a8"
             ],
             [
              0.3333333333333333,
              "#9c179e"
             ],
             [
              0.4444444444444444,
              "#bd3786"
             ],
             [
              0.5555555555555556,
              "#d8576b"
             ],
             [
              0.6666666666666666,
              "#ed7953"
             ],
             [
              0.7777777777777778,
              "#fb9f3a"
             ],
             [
              0.8888888888888888,
              "#fdca26"
             ],
             [
              1,
              "#f0f921"
             ]
            ],
            "type": "surface"
           }
          ],
          "table": [
           {
            "cells": {
             "fill": {
              "color": "#EBF0F8"
             },
             "line": {
              "color": "white"
             }
            },
            "header": {
             "fill": {
              "color": "#C8D4E3"
             },
             "line": {
              "color": "white"
             }
            },
            "type": "table"
           }
          ]
         },
         "layout": {
          "annotationdefaults": {
           "arrowcolor": "#2a3f5f",
           "arrowhead": 0,
           "arrowwidth": 1
          },
          "autotypenumbers": "strict",
          "coloraxis": {
           "colorbar": {
            "outlinewidth": 0,
            "ticks": ""
           }
          },
          "colorscale": {
           "diverging": [
            [
             0,
             "#8e0152"
            ],
            [
             0.1,
             "#c51b7d"
            ],
            [
             0.2,
             "#de77ae"
            ],
            [
             0.3,
             "#f1b6da"
            ],
            [
             0.4,
             "#fde0ef"
            ],
            [
             0.5,
             "#f7f7f7"
            ],
            [
             0.6,
             "#e6f5d0"
            ],
            [
             0.7,
             "#b8e186"
            ],
            [
             0.8,
             "#7fbc41"
            ],
            [
             0.9,
             "#4d9221"
            ],
            [
             1,
             "#276419"
            ]
           ],
           "sequential": [
            [
             0,
             "#0d0887"
            ],
            [
             0.1111111111111111,
             "#46039f"
            ],
            [
             0.2222222222222222,
             "#7201a8"
            ],
            [
             0.3333333333333333,
             "#9c179e"
            ],
            [
             0.4444444444444444,
             "#bd3786"
            ],
            [
             0.5555555555555556,
             "#d8576b"
            ],
            [
             0.6666666666666666,
             "#ed7953"
            ],
            [
             0.7777777777777778,
             "#fb9f3a"
            ],
            [
             0.8888888888888888,
             "#fdca26"
            ],
            [
             1,
             "#f0f921"
            ]
           ],
           "sequentialminus": [
            [
             0,
             "#0d0887"
            ],
            [
             0.1111111111111111,
             "#46039f"
            ],
            [
             0.2222222222222222,
             "#7201a8"
            ],
            [
             0.3333333333333333,
             "#9c179e"
            ],
            [
             0.4444444444444444,
             "#bd3786"
            ],
            [
             0.5555555555555556,
             "#d8576b"
            ],
            [
             0.6666666666666666,
             "#ed7953"
            ],
            [
             0.7777777777777778,
             "#fb9f3a"
            ],
            [
             0.8888888888888888,
             "#fdca26"
            ],
            [
             1,
             "#f0f921"
            ]
           ]
          },
          "colorway": [
           "#636efa",
           "#EF553B",
           "#00cc96",
           "#ab63fa",
           "#FFA15A",
           "#19d3f3",
           "#FF6692",
           "#B6E880",
           "#FF97FF",
           "#FECB52"
          ],
          "font": {
           "color": "#2a3f5f"
          },
          "geo": {
           "bgcolor": "white",
           "lakecolor": "white",
           "landcolor": "#E5ECF6",
           "showlakes": true,
           "showland": true,
           "subunitcolor": "white"
          },
          "hoverlabel": {
           "align": "left"
          },
          "hovermode": "closest",
          "mapbox": {
           "style": "light"
          },
          "paper_bgcolor": "white",
          "plot_bgcolor": "#E5ECF6",
          "polar": {
           "angularaxis": {
            "gridcolor": "white",
            "linecolor": "white",
            "ticks": ""
           },
           "bgcolor": "#E5ECF6",
           "radialaxis": {
            "gridcolor": "white",
            "linecolor": "white",
            "ticks": ""
           }
          },
          "scene": {
           "xaxis": {
            "backgroundcolor": "#E5ECF6",
            "gridcolor": "white",
            "gridwidth": 2,
            "linecolor": "white",
            "showbackground": true,
            "ticks": "",
            "zerolinecolor": "white"
           },
           "yaxis": {
            "backgroundcolor": "#E5ECF6",
            "gridcolor": "white",
            "gridwidth": 2,
            "linecolor": "white",
            "showbackground": true,
            "ticks": "",
            "zerolinecolor": "white"
           },
           "zaxis": {
            "backgroundcolor": "#E5ECF6",
            "gridcolor": "white",
            "gridwidth": 2,
            "linecolor": "white",
            "showbackground": true,
            "ticks": "",
            "zerolinecolor": "white"
           }
          },
          "shapedefaults": {
           "line": {
            "color": "#2a3f5f"
           }
          },
          "ternary": {
           "aaxis": {
            "gridcolor": "white",
            "linecolor": "white",
            "ticks": ""
           },
           "baxis": {
            "gridcolor": "white",
            "linecolor": "white",
            "ticks": ""
           },
           "bgcolor": "#E5ECF6",
           "caxis": {
            "gridcolor": "white",
            "linecolor": "white",
            "ticks": ""
           }
          },
          "title": {
           "x": 0.05
          },
          "xaxis": {
           "automargin": true,
           "gridcolor": "white",
           "linecolor": "white",
           "ticks": "",
           "title": {
            "standoff": 15
           },
           "zerolinecolor": "white",
           "zerolinewidth": 2
          },
          "yaxis": {
           "automargin": true,
           "gridcolor": "white",
           "linecolor": "white",
           "ticks": "",
           "title": {
            "standoff": 15
           },
           "zerolinecolor": "white",
           "zerolinewidth": 2
          }
         }
        },
        "title": {
         "text": "Monthly Expenses by Category & Hotel Revenue"
        },
        "width": 1200,
        "xaxis": {
         "title": {
          "text": "Month"
         }
        },
        "yaxis": {
         "side": "left",
         "title": {
          "text": "Expenses (EUR)"
         }
        },
        "yaxis2": {
         "overlaying": "y",
         "side": "right",
         "title": {
          "text": "Revenue (EUR)"
         }
        }
       }
      }
     },
     "metadata": {},
     "output_type": "display_data"
    },
    {
     "name": "stdout",
     "output_type": "stream",
     "text": [
      "\n",
      "=== Average Percentage Share of Expense Categories ===\n",
      "Payroll Payment: 66.26% (€323,486.27)\n",
      "Tax Payment: 16.06% (€78,415.76)\n",
      "FX Transaction: 9.45% (€46,154.06)\n",
      "Investment Purchase: 4.51% (€22,035.51)\n",
      "Insurance Premium: 1.86% (€9,059.60)\n",
      "Maintenance Expenses: 1.85% (€9,056.19)\n",
      "\n",
      "Total Expenses: €488,207.39\n",
      "\n",
      "✓ DataFrame 'revenue_expenses_chart' created for export\n",
      "Shape: (8, 8)\n"
     ]
    },
    {
     "data": {
      "text/html": [
       "<div>\n",
       "<style scoped>\n",
       "    .dataframe tbody tr th:only-of-type {\n",
       "        vertical-align: middle;\n",
       "    }\n",
       "\n",
       "    .dataframe tbody tr th {\n",
       "        vertical-align: top;\n",
       "    }\n",
       "\n",
       "    .dataframe thead th {\n",
       "        text-align: right;\n",
       "    }\n",
       "</style>\n",
       "<table border=\"1\" class=\"dataframe\">\n",
       "  <thead>\n",
       "    <tr style=\"text-align: right;\">\n",
       "      <th></th>\n",
       "      <th>date</th>\n",
       "      <th>Maintenance</th>\n",
       "      <th>Insurance</th>\n",
       "      <th>Investment</th>\n",
       "      <th>FX</th>\n",
       "      <th>Tax</th>\n",
       "      <th>Payroll</th>\n",
       "      <th>Revenue</th>\n",
       "    </tr>\n",
       "  </thead>\n",
       "  <tbody>\n",
       "    <tr>\n",
       "      <th>0</th>\n",
       "      <td>2025-01</td>\n",
       "      <td>1437.41</td>\n",
       "      <td>886.05</td>\n",
       "      <td>3904.26</td>\n",
       "      <td>7832.74</td>\n",
       "      <td>9771.65</td>\n",
       "      <td>32649.74</td>\n",
       "      <td>44279.36</td>\n",
       "    </tr>\n",
       "    <tr>\n",
       "      <th>1</th>\n",
       "      <td>2025-02</td>\n",
       "      <td>1570.15</td>\n",
       "      <td>1182.29</td>\n",
       "      <td>2769.50</td>\n",
       "      <td>4999.63</td>\n",
       "      <td>10052.17</td>\n",
       "      <td>29710.32</td>\n",
       "      <td>41297.05</td>\n",
       "    </tr>\n",
       "    <tr>\n",
       "      <th>2</th>\n",
       "      <td>2025-03</td>\n",
       "      <td>1017.61</td>\n",
       "      <td>1622.73</td>\n",
       "      <td>2932.03</td>\n",
       "      <td>6480.44</td>\n",
       "      <td>11745.89</td>\n",
       "      <td>49829.74</td>\n",
       "      <td>28979.67</td>\n",
       "    </tr>\n",
       "    <tr>\n",
       "      <th>3</th>\n",
       "      <td>2025-04</td>\n",
       "      <td>896.78</td>\n",
       "      <td>1015.38</td>\n",
       "      <td>814.60</td>\n",
       "      <td>4742.14</td>\n",
       "      <td>11405.08</td>\n",
       "      <td>52613.36</td>\n",
       "      <td>49437.74</td>\n",
       "    </tr>\n",
       "    <tr>\n",
       "      <th>4</th>\n",
       "      <td>2025-05</td>\n",
       "      <td>1077.97</td>\n",
       "      <td>1043.56</td>\n",
       "      <td>2282.34</td>\n",
       "      <td>6217.90</td>\n",
       "      <td>8674.07</td>\n",
       "      <td>40464.44</td>\n",
       "      <td>47120.29</td>\n",
       "    </tr>\n",
       "    <tr>\n",
       "      <th>5</th>\n",
       "      <td>2025-06</td>\n",
       "      <td>1257.97</td>\n",
       "      <td>1025.04</td>\n",
       "      <td>2231.32</td>\n",
       "      <td>5982.84</td>\n",
       "      <td>9607.59</td>\n",
       "      <td>41202.42</td>\n",
       "      <td>29327.26</td>\n",
       "    </tr>\n",
       "    <tr>\n",
       "      <th>6</th>\n",
       "      <td>2025-07</td>\n",
       "      <td>1170.00</td>\n",
       "      <td>953.69</td>\n",
       "      <td>3490.73</td>\n",
       "      <td>4275.71</td>\n",
       "      <td>6321.82</td>\n",
       "      <td>46288.00</td>\n",
       "      <td>27627.23</td>\n",
       "    </tr>\n",
       "    <tr>\n",
       "      <th>7</th>\n",
       "      <td>2025-08</td>\n",
       "      <td>628.30</td>\n",
       "      <td>1330.86</td>\n",
       "      <td>3610.73</td>\n",
       "      <td>5622.66</td>\n",
       "      <td>10837.49</td>\n",
       "      <td>30728.25</td>\n",
       "      <td>33330.01</td>\n",
       "    </tr>\n",
       "  </tbody>\n",
       "</table>\n",
       "</div>"
      ],
      "text/plain": [
       "      date  Maintenance  Insurance  Investment       FX       Tax   Payroll  \\\n",
       "0  2025-01      1437.41     886.05     3904.26  7832.74   9771.65  32649.74   \n",
       "1  2025-02      1570.15    1182.29     2769.50  4999.63  10052.17  29710.32   \n",
       "2  2025-03      1017.61    1622.73     2932.03  6480.44  11745.89  49829.74   \n",
       "3  2025-04       896.78    1015.38      814.60  4742.14  11405.08  52613.36   \n",
       "4  2025-05      1077.97    1043.56     2282.34  6217.90   8674.07  40464.44   \n",
       "5  2025-06      1257.97    1025.04     2231.32  5982.84   9607.59  41202.42   \n",
       "6  2025-07      1170.00     953.69     3490.73  4275.71   6321.82  46288.00   \n",
       "7  2025-08       628.30    1330.86     3610.73  5622.66  10837.49  30728.25   \n",
       "\n",
       "    Revenue  \n",
       "0  44279.36  \n",
       "1  41297.05  \n",
       "2  28979.67  \n",
       "3  49437.74  \n",
       "4  47120.29  \n",
       "5  29327.26  \n",
       "6  27627.23  \n",
       "7  33330.01  "
      ]
     },
     "metadata": {},
     "output_type": "display_data"
    },
    {
     "name": "stdout",
     "output_type": "stream",
     "text": [
      "\n",
      "================================================================================\n",
      "COPY-PASTE READY FORMAT:\n",
      "================================================================================\n",
      "const data = [\n",
      "  { date: \"Jan 25\", Maintenance: 1437.41, Insurance: 886.05, Investment: 3904.2599999999998, FX: 7832.74, Tax: 9771.65, Payroll: 32649.74, Revenue: 44279.36 },\n",
      "  { date: \"Feb 25\", Maintenance: 1570.15, Insurance: 1182.29, Investment: 2769.5, FX: 4999.63, Tax: 10052.17, Payroll: 29710.32, Revenue: 41297.05 },\n",
      "  { date: \"Mar 25\", Maintenance: 1017.61, Insurance: 1622.73, Investment: 2932.0299999999997, FX: 6480.44, Tax: 11745.89, Payroll: 49829.74, Revenue: 28979.670000000002 },\n",
      "  { date: \"Apr 25\", Maintenance: 896.78, Insurance: 1015.38, Investment: 814.6, FX: 4742.14, Tax: 11405.08, Payroll: 52613.36, Revenue: 49437.74 },\n",
      "  { date: \"May 25\", Maintenance: 1077.97, Insurance: 1043.56, Investment: 2282.34, FX: 6217.9, Tax: 8674.07, Payroll: 40464.44, Revenue: 47120.29 },\n",
      "  { date: \"Jun 25\", Maintenance: 1257.97, Insurance: 1025.04, Investment: 2231.32, FX: 5982.84, Tax: 9607.59, Payroll: 41202.42, Revenue: 29327.260000000002 },\n",
      "  { date: \"Jul 25\", Maintenance: 1170.0, Insurance: 953.69, Investment: 3490.73, FX: 4275.71, Tax: 6321.82, Payroll: 46288.0, Revenue: 27627.23 },\n",
      "  { date: \"Aug 25\", Maintenance: 628.3, Insurance: 1330.86, Investment: 3610.73, FX: 5622.66, Tax: 10837.49, Payroll: 30728.25, Revenue: 33330.01 },\n",
      "];\n",
      "================================================================================\n"
     ]
    }
   ],
   "source": [
    "# CHART 1: Monthly Expenses by Category (Stacked Bar) + Hotel Revenue (Line)\n",
    "\n",
    "# Prepare data\n",
    "tx = transactions.copy()\n",
    "tx['month'] = pd.to_datetime(tx[trx_date_col]).dt.to_period('M')\n",
    "\n",
    "# Extract category from additional_info\n",
    "tx['category'] = tx['additional_info'].str.extract(r'(.*?) - ')[0]\n",
    "\n",
    "# Separate expenses (DBIT) and revenue (CRDT)\n",
    "expenses = tx[(tx['credit_or_debit'] == 'DBIT') & (tx['category'].notna())]\n",
    "revenue = tx[(tx['credit_or_debit'] == 'CRDT')]\n",
    "\n",
    "# Aggregate monthly expenses by category\n",
    "monthly_expenses = expenses.groupby(['month', 'category'])['amount'].sum().reset_index()\n",
    "monthly_expenses['month_str'] = monthly_expenses['month'].astype(str)\n",
    "\n",
    "# Aggregate monthly revenue\n",
    "monthly_revenue = revenue.groupby('month')['amount'].sum().reset_index()\n",
    "monthly_revenue['month_str'] = monthly_revenue['month'].astype(str)\n",
    "\n",
    "# Create stacked bar chart for expenses\n",
    "fig1 = go.Figure()\n",
    "\n",
    "# Add expense bars by category\n",
    "categories = monthly_expenses['category'].unique()\n",
    "for category in sorted(categories):\n",
    "    cat_data = monthly_expenses[monthly_expenses['category'] == category]\n",
    "    fig1.add_trace(go.Bar(\n",
    "        x=cat_data['month_str'],\n",
    "        y=cat_data['amount'],\n",
    "        name=category,\n",
    "        hovertemplate='%{x}<br>%{fullData.name}: €%{y:,.2f}<extra></extra>'\n",
    "    ))\n",
    "\n",
    "# Add revenue line\n",
    "fig1.add_trace(go.Scatter(\n",
    "    x=monthly_revenue['month_str'],\n",
    "    y=monthly_revenue['amount'],\n",
    "    name='Hotel Revenue',\n",
    "    mode='lines+markers',\n",
    "    line=dict(color='darkgreen', width=3),\n",
    "    marker=dict(size=8),\n",
    "    yaxis='y2',\n",
    "    hovertemplate='%{x}<br>Revenue: €%{y:,.2f}<extra></extra>'\n",
    "))\n",
    "\n",
    "# Update layout\n",
    "fig1.update_layout(\n",
    "    title='Monthly Expenses by Category & Hotel Revenue',\n",
    "    xaxis=dict(title='Month'),\n",
    "    yaxis=dict(title='Expenses (EUR)', side='left'),\n",
    "    yaxis2=dict(title='Revenue (EUR)', overlaying='y', side='right'),\n",
    "    barmode='stack',\n",
    "    legend=dict(orientation='v', yanchor='top', y=1, xanchor='left', x=1.15),\n",
    "    hovermode='x unified',\n",
    "    height=600,\n",
    "    width=1200\n",
    ")\n",
    "\n",
    "fig1.show()\n",
    "\n",
    "# Calculate and display average percentage share of each expense category\n",
    "print(\"\\n=== Average Percentage Share of Expense Categories ===\")\n",
    "total_expenses_by_category = expenses.groupby('category')['amount'].sum().reset_index()\n",
    "total_expenses_overall = total_expenses_by_category['amount'].sum()\n",
    "total_expenses_by_category['percentage'] = (total_expenses_by_category['amount'] / total_expenses_overall) * 100\n",
    "total_expenses_by_category = total_expenses_by_category.sort_values('percentage', ascending=False)\n",
    "\n",
    "for idx, row in total_expenses_by_category.iterrows():\n",
    "    print(f\"{row['category']}: {row['percentage']:.2f}% (€{row['amount']:,.2f})\")\n",
    "print(f\"\\nTotal Expenses: €{total_expenses_overall:,.2f}\")\n",
    "\n",
    "# Create DataFrame for CSV export\n",
    "# Pivot expenses to have categories as columns\n",
    "monthly_expenses_pivot = monthly_expenses.pivot(index='month', columns='category', values='amount').reset_index()\n",
    "\n",
    "# Rename columns to match expected format\n",
    "category_mapping = {\n",
    "    'Payroll Payment': 'Payroll',\n",
    "    'Tax Payment': 'Tax',\n",
    "    'FX Transaction': 'FX',\n",
    "    'Investment Purchase': 'Investment',\n",
    "    'Insurance Premium': 'Insurance',\n",
    "    'Maintenance Expenses': 'Maintenance'\n",
    "}\n",
    "monthly_expenses_pivot = monthly_expenses_pivot.rename(columns=category_mapping)\n",
    "\n",
    "# Add revenue column\n",
    "monthly_revenue_for_merge = monthly_revenue.copy()\n",
    "monthly_revenue_for_merge['month'] = monthly_revenue_for_merge['month'].astype(str).apply(lambda x: pd.Period(x, freq='M'))\n",
    "monthly_expenses_pivot = monthly_expenses_pivot.merge(\n",
    "    monthly_revenue_for_merge[['month', 'amount']], \n",
    "    on='month', \n",
    "    how='left'\n",
    ").rename(columns={'amount': 'Revenue'})\n",
    "\n",
    "# Convert month to date string\n",
    "monthly_expenses_pivot['date'] = monthly_expenses_pivot['month'].astype(str)\n",
    "monthly_expenses_pivot = monthly_expenses_pivot.drop('month', axis=1)\n",
    "\n",
    "# Fill NaN with 0 and reorder columns\n",
    "expected_columns = ['date', 'Maintenance', 'Insurance', 'Investment', 'FX', 'Tax', 'Payroll', 'Revenue']\n",
    "for col in expected_columns:\n",
    "    if col not in monthly_expenses_pivot.columns and col != 'date':\n",
    "        monthly_expenses_pivot[col] = 0\n",
    "\n",
    "monthly_expenses_pivot = monthly_expenses_pivot[expected_columns].fillna(0)\n",
    "\n",
    "# Create alias for export\n",
    "revenue_expenses_chart = monthly_expenses_pivot.copy()\n",
    "\n",
    "print(\"\\n✓ DataFrame 'revenue_expenses_chart' created for export\")\n",
    "print(f\"Shape: {revenue_expenses_chart.shape}\")\n",
    "display(revenue_expenses_chart)\n",
    "\n",
    "# Format output for JavaScript/TypeScript\n",
    "print(\"\\n\" + \"=\"*80)\n",
    "print(\"COPY-PASTE READY FORMAT:\")\n",
    "print(\"=\"*80)\n",
    "print(\"const data = [\")\n",
    "\n",
    "for idx, row in revenue_expenses_chart.iterrows():\n",
    "    # Convert date string \"2025-01\" to \"Jan 25\" format\n",
    "    month_period = pd.Period(row['date'], freq='M')\n",
    "    date_formatted = month_period.strftime('%b %y')\n",
    "    \n",
    "    print(f\"  {{ date: \\\"{date_formatted}\\\", Maintenance: {row['Maintenance']}, Insurance: {row['Insurance']}, Investment: {row['Investment']}, FX: {row['FX']}, Tax: {row['Tax']}, Payroll: {row['Payroll']}, Revenue: {row['Revenue']} }},\")\n",
    "\n",
    "print(\"];\")\n",
    "print(\"=\"*80)\n"
   ]
  },
  {
   "cell_type": "code",
   "execution_count": 37,
   "id": "be81fe70",
   "metadata": {},
   "outputs": [
    {
     "name": "stdout",
     "output_type": "stream",
     "text": [
      "Chart data exported to revenue_expenses_chart_data.csv\n"
     ]
    }
   ],
   "source": [
    "import csv\n",
    "\n",
    "# Export the revenue and expenses chart data to CSV using the DataFrame `revenue_expenses_chart`\n",
    "# (If your DataFrame is named differently, update the variable name below accordingly.)\n",
    "\n",
    "# Check if the DataFrame exists in the environment\n",
    "if \"revenue_expenses_chart\" in locals():\n",
    "    export_df = revenue_expenses_chart.copy()\n",
    "elif \"monthly_expenses_pivot\" in locals():\n",
    "    # Fallback: try to use monthly_expenses_pivot if available\n",
    "    export_df = monthly_expenses_pivot.copy()\n",
    "else:\n",
    "    raise NameError(\"No DataFrame named 'revenue_expenses_chart' or 'monthly_expenses_pivot' found. Please define it before exporting.\")\n",
    "\n",
    "# Ensure the columns exist and are in the correct order\n",
    "csv_columns = [\"date\", \"Maintenance\", \"Insurance\", \"Investment\", \"FX\", \"Tax\", \"Payroll\", \"Revenue\"]\n",
    "missing_cols = [col for col in csv_columns if col not in export_df.columns]\n",
    "if missing_cols:\n",
    "    raise ValueError(f\"Missing columns in export DataFrame: {missing_cols}\")\n",
    "\n",
    "# Reorder columns and convert to list of dicts\n",
    "export_data = export_df[csv_columns].to_dict(orient=\"records\")\n",
    "\n",
    "csv_filename = \"revenue_expenses_chart_data.csv\"\n",
    "\n",
    "with open(csv_filename, mode=\"w\", newline=\"\", encoding=\"utf-8\") as csvfile:\n",
    "    writer = csv.DictWriter(csvfile, fieldnames=csv_columns)\n",
    "    writer.writeheader()\n",
    "    for row in export_data:\n",
    "        writer.writerow(row)\n",
    "\n",
    "print(f\"Chart data exported to {csv_filename}\")\n"
   ]
  },
  {
   "cell_type": "code",
   "execution_count": null,
   "id": "e9a80cd0",
   "metadata": {},
   "outputs": [
    {
     "data": {
      "text/html": [
       "<div>\n",
       "<style scoped>\n",
       "    .dataframe tbody tr th:only-of-type {\n",
       "        vertical-align: middle;\n",
       "    }\n",
       "\n",
       "    .dataframe tbody tr th {\n",
       "        vertical-align: top;\n",
       "    }\n",
       "\n",
       "    .dataframe thead th {\n",
       "        text-align: right;\n",
       "    }\n",
       "</style>\n",
       "<table border=\"1\" class=\"dataframe\">\n",
       "  <thead>\n",
       "    <tr style=\"text-align: right;\">\n",
       "      <th></th>\n",
       "      <th>account_number</th>\n",
       "      <th>value_date</th>\n",
       "      <th>booking_date</th>\n",
       "      <th>amount</th>\n",
       "      <th>currency</th>\n",
       "      <th>credit_or_debit</th>\n",
       "      <th>additional_info</th>\n",
       "      <th>remittence_info</th>\n",
       "      <th>bank_reference</th>\n",
       "      <th>creditor_name</th>\n",
       "      <th>debtor_name</th>\n",
       "    </tr>\n",
       "  </thead>\n",
       "  <tbody>\n",
       "    <tr>\n",
       "      <th>0</th>\n",
       "      <td>FR7612345678901234567890123</td>\n",
       "      <td>2025-01-01</td>\n",
       "      <td>2025-01-01</td>\n",
       "      <td>525.98</td>\n",
       "      <td>EUR</td>\n",
       "      <td>CRDT</td>\n",
       "      <td>Resort Revenue - cash_in_resort_revenue</td>\n",
       "      <td>Transaction for Cash In Resort Revenue</td>\n",
       "      <td>REF343962</td>\n",
       "      <td>Resort Customer</td>\n",
       "      <td>France Account Account</td>\n",
       "    </tr>\n",
       "    <tr>\n",
       "      <th>1</th>\n",
       "      <td>FR7612345678901234567890123</td>\n",
       "      <td>2025-01-03</td>\n",
       "      <td>2025-01-01</td>\n",
       "      <td>198.51</td>\n",
       "      <td>EUR</td>\n",
       "      <td>DBIT</td>\n",
       "      <td>Investment Purchase - cash_out_investments_out...</td>\n",
       "      <td>Transaction for Cash Out Investments Outflow</td>\n",
       "      <td>REF308496</td>\n",
       "      <td>France Account Account</td>\n",
       "      <td>Investment Manager</td>\n",
       "    </tr>\n",
       "    <tr>\n",
       "      <th>2</th>\n",
       "      <td>FR7612345678901234567890123</td>\n",
       "      <td>2025-01-02</td>\n",
       "      <td>2025-01-01</td>\n",
       "      <td>151.97</td>\n",
       "      <td>EUR</td>\n",
       "      <td>DBIT</td>\n",
       "      <td>Investment Purchase - cash_out_investments_out...</td>\n",
       "      <td>Transaction for Cash Out Investments Outflow</td>\n",
       "      <td>REF717889</td>\n",
       "      <td>France Account Account</td>\n",
       "      <td>Investment Manager</td>\n",
       "    </tr>\n",
       "    <tr>\n",
       "      <th>3</th>\n",
       "      <td>FR7612345678901234567890123</td>\n",
       "      <td>2025-01-01</td>\n",
       "      <td>2025-01-01</td>\n",
       "      <td>426.18</td>\n",
       "      <td>EUR</td>\n",
       "      <td>DBIT</td>\n",
       "      <td>FX Transaction - cash_out_foreign_exchange_exp...</td>\n",
       "      <td>Transaction for Cash Out Foreign Exchange Expe...</td>\n",
       "      <td>REF895667</td>\n",
       "      <td>France Account Account</td>\n",
       "      <td>FX Bank</td>\n",
       "    </tr>\n",
       "    <tr>\n",
       "      <th>4</th>\n",
       "      <td>FR7612345678901234567890123</td>\n",
       "      <td>2025-01-02</td>\n",
       "      <td>2025-01-01</td>\n",
       "      <td>743.41</td>\n",
       "      <td>EUR</td>\n",
       "      <td>DBIT</td>\n",
       "      <td>Tax Payment - cash_out_tax_payments</td>\n",
       "      <td>Transaction for Cash Out Tax Payments</td>\n",
       "      <td>REF391369</td>\n",
       "      <td>France Account Account</td>\n",
       "      <td>Tax Authority</td>\n",
       "    </tr>\n",
       "  </tbody>\n",
       "</table>\n",
       "</div>"
      ],
      "text/plain": [
       "                account_number  value_date booking_date  amount currency  \\\n",
       "0  FR7612345678901234567890123  2025-01-01   2025-01-01  525.98      EUR   \n",
       "1  FR7612345678901234567890123  2025-01-03   2025-01-01  198.51      EUR   \n",
       "2  FR7612345678901234567890123  2025-01-02   2025-01-01  151.97      EUR   \n",
       "3  FR7612345678901234567890123  2025-01-01   2025-01-01  426.18      EUR   \n",
       "4  FR7612345678901234567890123  2025-01-02   2025-01-01  743.41      EUR   \n",
       "\n",
       "  credit_or_debit                                    additional_info  \\\n",
       "0            CRDT            Resort Revenue - cash_in_resort_revenue   \n",
       "1            DBIT  Investment Purchase - cash_out_investments_out...   \n",
       "2            DBIT  Investment Purchase - cash_out_investments_out...   \n",
       "3            DBIT  FX Transaction - cash_out_foreign_exchange_exp...   \n",
       "4            DBIT                Tax Payment - cash_out_tax_payments   \n",
       "\n",
       "                                     remittence_info bank_reference  \\\n",
       "0             Transaction for Cash In Resort Revenue      REF343962   \n",
       "1       Transaction for Cash Out Investments Outflow      REF308496   \n",
       "2       Transaction for Cash Out Investments Outflow      REF717889   \n",
       "3  Transaction for Cash Out Foreign Exchange Expe...      REF895667   \n",
       "4              Transaction for Cash Out Tax Payments      REF391369   \n",
       "\n",
       "            creditor_name             debtor_name  \n",
       "0         Resort Customer  France Account Account  \n",
       "1  France Account Account      Investment Manager  \n",
       "2  France Account Account      Investment Manager  \n",
       "3  France Account Account                 FX Bank  \n",
       "4  France Account Account           Tax Authority  "
      ]
     },
     "metadata": {},
     "output_type": "display_data"
    },
    {
     "data": {
      "text/html": [
       "<div>\n",
       "<style scoped>\n",
       "    .dataframe tbody tr th:only-of-type {\n",
       "        vertical-align: middle;\n",
       "    }\n",
       "\n",
       "    .dataframe tbody tr th {\n",
       "        vertical-align: top;\n",
       "    }\n",
       "\n",
       "    .dataframe thead th {\n",
       "        text-align: right;\n",
       "    }\n",
       "</style>\n",
       "<table border=\"1\" class=\"dataframe\">\n",
       "  <thead>\n",
       "    <tr style=\"text-align: right;\">\n",
       "      <th></th>\n",
       "      <th>account_number</th>\n",
       "      <th>value_date</th>\n",
       "      <th>booking_date</th>\n",
       "      <th>amount</th>\n",
       "      <th>currency</th>\n",
       "      <th>credit_or_debit</th>\n",
       "      <th>additional_info</th>\n",
       "      <th>remittence_info</th>\n",
       "      <th>bank_reference</th>\n",
       "      <th>creditor_name</th>\n",
       "      <th>debtor_name</th>\n",
       "    </tr>\n",
       "  </thead>\n",
       "  <tbody>\n",
       "    <tr>\n",
       "      <th>1239</th>\n",
       "      <td>FR7612345678901234567890123</td>\n",
       "      <td>2025-08-31</td>\n",
       "      <td>2025-08-30</td>\n",
       "      <td>79.07</td>\n",
       "      <td>EUR</td>\n",
       "      <td>DBIT</td>\n",
       "      <td>Maintenance Expenses - cash_out_resort_mainten...</td>\n",
       "      <td>Transaction for Cash Out Resort Maintenance Ex...</td>\n",
       "      <td>REF752004</td>\n",
       "      <td>France Account Account</td>\n",
       "      <td>Maintenance Co</td>\n",
       "    </tr>\n",
       "    <tr>\n",
       "      <th>1240</th>\n",
       "      <td>FR7612345678901234567890123</td>\n",
       "      <td>2025-08-31</td>\n",
       "      <td>2025-08-31</td>\n",
       "      <td>135.21</td>\n",
       "      <td>EUR</td>\n",
       "      <td>DBIT</td>\n",
       "      <td>Investment Purchase - cash_out_investments_out...</td>\n",
       "      <td>Transaction for Cash Out Investments Outflow</td>\n",
       "      <td>REF503953</td>\n",
       "      <td>France Account Account</td>\n",
       "      <td>Investment Manager</td>\n",
       "    </tr>\n",
       "    <tr>\n",
       "      <th>1241</th>\n",
       "      <td>FR7612345678901234567890123</td>\n",
       "      <td>2025-08-31</td>\n",
       "      <td>2025-08-31</td>\n",
       "      <td>98.99</td>\n",
       "      <td>EUR</td>\n",
       "      <td>DBIT</td>\n",
       "      <td>Maintenance Expenses - cash_out_resort_mainten...</td>\n",
       "      <td>Transaction for Cash Out Resort Maintenance Ex...</td>\n",
       "      <td>REF954141</td>\n",
       "      <td>France Account Account</td>\n",
       "      <td>Maintenance Co</td>\n",
       "    </tr>\n",
       "    <tr>\n",
       "      <th>1242</th>\n",
       "      <td>FR7612345678901234567890123</td>\n",
       "      <td>2025-08-31</td>\n",
       "      <td>2025-08-31</td>\n",
       "      <td>341.45</td>\n",
       "      <td>EUR</td>\n",
       "      <td>DBIT</td>\n",
       "      <td>FX Transaction - cash_out_foreign_exchange_exp...</td>\n",
       "      <td>Transaction for Cash Out Foreign Exchange Expe...</td>\n",
       "      <td>REF439566</td>\n",
       "      <td>France Account Account</td>\n",
       "      <td>FX Bank</td>\n",
       "    </tr>\n",
       "    <tr>\n",
       "      <th>1243</th>\n",
       "      <td>FR7612345678901234567890123</td>\n",
       "      <td>2025-08-31</td>\n",
       "      <td>2025-08-31</td>\n",
       "      <td>315.69</td>\n",
       "      <td>EUR</td>\n",
       "      <td>CRDT</td>\n",
       "      <td>Tax Refund - cash_in_tax_income</td>\n",
       "      <td>Transaction for Cash In Tax Income</td>\n",
       "      <td>REF357848</td>\n",
       "      <td>Government</td>\n",
       "      <td>France Account Account</td>\n",
       "    </tr>\n",
       "  </tbody>\n",
       "</table>\n",
       "</div>"
      ],
      "text/plain": [
       "                   account_number  value_date booking_date  amount currency  \\\n",
       "1239  FR7612345678901234567890123  2025-08-31   2025-08-30   79.07      EUR   \n",
       "1240  FR7612345678901234567890123  2025-08-31   2025-08-31  135.21      EUR   \n",
       "1241  FR7612345678901234567890123  2025-08-31   2025-08-31   98.99      EUR   \n",
       "1242  FR7612345678901234567890123  2025-08-31   2025-08-31  341.45      EUR   \n",
       "1243  FR7612345678901234567890123  2025-08-31   2025-08-31  315.69      EUR   \n",
       "\n",
       "     credit_or_debit                                    additional_info  \\\n",
       "1239            DBIT  Maintenance Expenses - cash_out_resort_mainten...   \n",
       "1240            DBIT  Investment Purchase - cash_out_investments_out...   \n",
       "1241            DBIT  Maintenance Expenses - cash_out_resort_mainten...   \n",
       "1242            DBIT  FX Transaction - cash_out_foreign_exchange_exp...   \n",
       "1243            CRDT                    Tax Refund - cash_in_tax_income   \n",
       "\n",
       "                                        remittence_info bank_reference  \\\n",
       "1239  Transaction for Cash Out Resort Maintenance Ex...      REF752004   \n",
       "1240       Transaction for Cash Out Investments Outflow      REF503953   \n",
       "1241  Transaction for Cash Out Resort Maintenance Ex...      REF954141   \n",
       "1242  Transaction for Cash Out Foreign Exchange Expe...      REF439566   \n",
       "1243                 Transaction for Cash In Tax Income      REF357848   \n",
       "\n",
       "               creditor_name             debtor_name  \n",
       "1239  France Account Account          Maintenance Co  \n",
       "1240  France Account Account      Investment Manager  \n",
       "1241  France Account Account          Maintenance Co  \n",
       "1242  France Account Account                 FX Bank  \n",
       "1243              Government  France Account Account  "
      ]
     },
     "metadata": {},
     "output_type": "display_data"
    },
    {
     "data": {
      "text/html": [
       "<div>\n",
       "<style scoped>\n",
       "    .dataframe tbody tr th:only-of-type {\n",
       "        vertical-align: middle;\n",
       "    }\n",
       "\n",
       "    .dataframe tbody tr th {\n",
       "        vertical-align: top;\n",
       "    }\n",
       "\n",
       "    .dataframe thead th {\n",
       "        text-align: right;\n",
       "    }\n",
       "</style>\n",
       "<table border=\"1\" class=\"dataframe\">\n",
       "  <thead>\n",
       "    <tr style=\"text-align: right;\">\n",
       "      <th></th>\n",
       "      <th>dtype</th>\n",
       "    </tr>\n",
       "  </thead>\n",
       "  <tbody>\n",
       "    <tr>\n",
       "      <th>account_number</th>\n",
       "      <td>string</td>\n",
       "    </tr>\n",
       "    <tr>\n",
       "      <th>value_date</th>\n",
       "      <td>object</td>\n",
       "    </tr>\n",
       "    <tr>\n",
       "      <th>booking_date</th>\n",
       "      <td>datetime64[ns]</td>\n",
       "    </tr>\n",
       "    <tr>\n",
       "      <th>amount</th>\n",
       "      <td>float64</td>\n",
       "    </tr>\n",
       "    <tr>\n",
       "      <th>currency</th>\n",
       "      <td>string</td>\n",
       "    </tr>\n",
       "    <tr>\n",
       "      <th>credit_or_debit</th>\n",
       "      <td>string</td>\n",
       "    </tr>\n",
       "    <tr>\n",
       "      <th>additional_info</th>\n",
       "      <td>string</td>\n",
       "    </tr>\n",
       "    <tr>\n",
       "      <th>remittence_info</th>\n",
       "      <td>string</td>\n",
       "    </tr>\n",
       "    <tr>\n",
       "      <th>bank_reference</th>\n",
       "      <td>string</td>\n",
       "    </tr>\n",
       "    <tr>\n",
       "      <th>creditor_name</th>\n",
       "      <td>string</td>\n",
       "    </tr>\n",
       "    <tr>\n",
       "      <th>debtor_name</th>\n",
       "      <td>string</td>\n",
       "    </tr>\n",
       "  </tbody>\n",
       "</table>\n",
       "</div>"
      ],
      "text/plain": [
       "                          dtype\n",
       "account_number           string\n",
       "value_date               object\n",
       "booking_date     datetime64[ns]\n",
       "amount                  float64\n",
       "currency                 string\n",
       "credit_or_debit          string\n",
       "additional_info          string\n",
       "remittence_info          string\n",
       "bank_reference           string\n",
       "creditor_name            string\n",
       "debtor_name              string"
      ]
     },
     "metadata": {},
     "output_type": "display_data"
    },
    {
     "data": {
      "text/html": [
       "<div>\n",
       "<style scoped>\n",
       "    .dataframe tbody tr th:only-of-type {\n",
       "        vertical-align: middle;\n",
       "    }\n",
       "\n",
       "    .dataframe tbody tr th {\n",
       "        vertical-align: top;\n",
       "    }\n",
       "\n",
       "    .dataframe thead th {\n",
       "        text-align: right;\n",
       "    }\n",
       "</style>\n",
       "<table border=\"1\" class=\"dataframe\">\n",
       "  <thead>\n",
       "    <tr style=\"text-align: right;\">\n",
       "      <th></th>\n",
       "      <th>missing_count</th>\n",
       "      <th>missing_%</th>\n",
       "    </tr>\n",
       "  </thead>\n",
       "  <tbody>\n",
       "    <tr>\n",
       "      <th>account_number</th>\n",
       "      <td>0</td>\n",
       "      <td>0.0</td>\n",
       "    </tr>\n",
       "    <tr>\n",
       "      <th>value_date</th>\n",
       "      <td>0</td>\n",
       "      <td>0.0</td>\n",
       "    </tr>\n",
       "    <tr>\n",
       "      <th>booking_date</th>\n",
       "      <td>0</td>\n",
       "      <td>0.0</td>\n",
       "    </tr>\n",
       "    <tr>\n",
       "      <th>amount</th>\n",
       "      <td>0</td>\n",
       "      <td>0.0</td>\n",
       "    </tr>\n",
       "    <tr>\n",
       "      <th>currency</th>\n",
       "      <td>0</td>\n",
       "      <td>0.0</td>\n",
       "    </tr>\n",
       "    <tr>\n",
       "      <th>credit_or_debit</th>\n",
       "      <td>0</td>\n",
       "      <td>0.0</td>\n",
       "    </tr>\n",
       "    <tr>\n",
       "      <th>additional_info</th>\n",
       "      <td>0</td>\n",
       "      <td>0.0</td>\n",
       "    </tr>\n",
       "    <tr>\n",
       "      <th>remittence_info</th>\n",
       "      <td>0</td>\n",
       "      <td>0.0</td>\n",
       "    </tr>\n",
       "    <tr>\n",
       "      <th>bank_reference</th>\n",
       "      <td>0</td>\n",
       "      <td>0.0</td>\n",
       "    </tr>\n",
       "    <tr>\n",
       "      <th>creditor_name</th>\n",
       "      <td>0</td>\n",
       "      <td>0.0</td>\n",
       "    </tr>\n",
       "    <tr>\n",
       "      <th>debtor_name</th>\n",
       "      <td>0</td>\n",
       "      <td>0.0</td>\n",
       "    </tr>\n",
       "  </tbody>\n",
       "</table>\n",
       "</div>"
      ],
      "text/plain": [
       "                 missing_count  missing_%\n",
       "account_number               0        0.0\n",
       "value_date                   0        0.0\n",
       "booking_date                 0        0.0\n",
       "amount                       0        0.0\n",
       "currency                     0        0.0\n",
       "credit_or_debit              0        0.0\n",
       "additional_info              0        0.0\n",
       "remittence_info              0        0.0\n",
       "bank_reference               0        0.0\n",
       "creditor_name                0        0.0\n",
       "debtor_name                  0        0.0"
      ]
     },
     "metadata": {},
     "output_type": "display_data"
    },
    {
     "name": "stdout",
     "output_type": "stream",
     "text": [
      "{'date_min': Timestamp('2025-01-01 00:00:00'), 'date_max': Timestamp('2025-08-31 00:00:00')}\n"
     ]
    },
    {
     "data": {
      "text/plain": [
       "{}"
      ]
     },
     "metadata": {},
     "output_type": "display_data"
    },
    {
     "data": {
      "text/html": [
       "<div>\n",
       "<style scoped>\n",
       "    .dataframe tbody tr th:only-of-type {\n",
       "        vertical-align: middle;\n",
       "    }\n",
       "\n",
       "    .dataframe tbody tr th {\n",
       "        vertical-align: top;\n",
       "    }\n",
       "\n",
       "    .dataframe thead th {\n",
       "        text-align: right;\n",
       "    }\n",
       "</style>\n",
       "<table border=\"1\" class=\"dataframe\">\n",
       "  <thead>\n",
       "    <tr style=\"text-align: right;\">\n",
       "      <th></th>\n",
       "      <th>amount_stats</th>\n",
       "    </tr>\n",
       "  </thead>\n",
       "  <tbody>\n",
       "    <tr>\n",
       "      <th>count</th>\n",
       "      <td>1244.000000</td>\n",
       "    </tr>\n",
       "    <tr>\n",
       "      <th>mean</th>\n",
       "      <td>634.731511</td>\n",
       "    </tr>\n",
       "    <tr>\n",
       "      <th>std</th>\n",
       "      <td>868.209700</td>\n",
       "    </tr>\n",
       "    <tr>\n",
       "      <th>min</th>\n",
       "      <td>17.100000</td>\n",
       "    </tr>\n",
       "    <tr>\n",
       "      <th>10%</th>\n",
       "      <td>58.914000</td>\n",
       "    </tr>\n",
       "    <tr>\n",
       "      <th>25%</th>\n",
       "      <td>104.012500</td>\n",
       "    </tr>\n",
       "    <tr>\n",
       "      <th>50%</th>\n",
       "      <td>276.615000</td>\n",
       "    </tr>\n",
       "    <tr>\n",
       "      <th>75%</th>\n",
       "      <td>681.632500</td>\n",
       "    </tr>\n",
       "    <tr>\n",
       "      <th>90%</th>\n",
       "      <td>2037.151000</td>\n",
       "    </tr>\n",
       "    <tr>\n",
       "      <th>max</th>\n",
       "      <td>3978.690000</td>\n",
       "    </tr>\n",
       "  </tbody>\n",
       "</table>\n",
       "</div>"
      ],
      "text/plain": [
       "       amount_stats\n",
       "count   1244.000000\n",
       "mean     634.731511\n",
       "std      868.209700\n",
       "min       17.100000\n",
       "10%       58.914000\n",
       "25%      104.012500\n",
       "50%      276.615000\n",
       "75%      681.632500\n",
       "90%     2037.151000\n",
       "max     3978.690000"
      ]
     },
     "metadata": {},
     "output_type": "display_data"
    },
    {
     "data": {
      "text/html": [
       "<div>\n",
       "<style scoped>\n",
       "    .dataframe tbody tr th:only-of-type {\n",
       "        vertical-align: middle;\n",
       "    }\n",
       "\n",
       "    .dataframe tbody tr th {\n",
       "        vertical-align: top;\n",
       "    }\n",
       "\n",
       "    .dataframe thead th {\n",
       "        text-align: right;\n",
       "    }\n",
       "</style>\n",
       "<table border=\"1\" class=\"dataframe\">\n",
       "  <thead>\n",
       "    <tr style=\"text-align: right;\">\n",
       "      <th></th>\n",
       "      <th>metric</th>\n",
       "      <th>value</th>\n",
       "    </tr>\n",
       "  </thead>\n",
       "  <tbody>\n",
       "    <tr>\n",
       "      <th>0</th>\n",
       "      <td>rows</td>\n",
       "      <td>1244</td>\n",
       "    </tr>\n",
       "    <tr>\n",
       "      <th>1</th>\n",
       "      <td>columns</td>\n",
       "      <td>11</td>\n",
       "    </tr>\n",
       "    <tr>\n",
       "      <th>2</th>\n",
       "      <td>date_min</td>\n",
       "      <td>2025-01-01 00:00:00</td>\n",
       "    </tr>\n",
       "    <tr>\n",
       "      <th>3</th>\n",
       "      <td>date_max</td>\n",
       "      <td>2025-08-31 00:00:00</td>\n",
       "    </tr>\n",
       "    <tr>\n",
       "      <th>4</th>\n",
       "      <td>potential_duplicates</td>\n",
       "      <td>0</td>\n",
       "    </tr>\n",
       "    <tr>\n",
       "      <th>5</th>\n",
       "      <td>non_parsable_dates</td>\n",
       "      <td>0</td>\n",
       "    </tr>\n",
       "    <tr>\n",
       "      <th>6</th>\n",
       "      <td>non_parsable_amounts</td>\n",
       "      <td>0</td>\n",
       "    </tr>\n",
       "    <tr>\n",
       "      <th>7</th>\n",
       "      <td>sign_inconsistencies</td>\n",
       "      <td>839</td>\n",
       "    </tr>\n",
       "  </tbody>\n",
       "</table>\n",
       "</div>"
      ],
      "text/plain": [
       "                 metric                value\n",
       "0                  rows                 1244\n",
       "1               columns                   11\n",
       "2              date_min  2025-01-01 00:00:00\n",
       "3              date_max  2025-08-31 00:00:00\n",
       "4  potential_duplicates                    0\n",
       "5    non_parsable_dates                    0\n",
       "6  non_parsable_amounts                    0\n",
       "7  sign_inconsistencies                  839"
      ]
     },
     "metadata": {},
     "output_type": "display_data"
    },
    {
     "name": "stdout",
     "output_type": "stream",
     "text": [
      "{'balances_date_min': Timestamp('2025-01-01 00:00:00'), 'balances_date_max': Timestamp('2025-08-31 00:00:00'), 'balances_rows': 243}\n",
      "{'system_forecasts_present': True, 'user_forecasts_present': True}\n"
     ]
    }
   ],
   "source": [
    "# CELL 2: DATA EXPLORATION & QUALITY ASSESSMENT\n",
    "from typing import Optional\n",
    "\n",
    "if transactions is None:\n",
    "    display(\"Transactions dataset not found. Please ensure 'transactions.csv' exists under datasets/raw.\")\n",
    "else:\n",
    "    # Helpers to detect amount column and coerce numerics\n",
    "    AMOUNT_CANDIDATES = [\n",
    "        'amount', 'booking_amount', 'transaction_amount', 'value', 'amt'\n",
    "    ]\n",
    "\n",
    "    def pick_amount_column(df: pd.DataFrame) -> Optional[str]:\n",
    "        for c in AMOUNT_CANDIDATES:\n",
    "            if c in df.columns:\n",
    "                return c\n",
    "        # guess: first numeric column named like amount\n",
    "        for c in df.columns:\n",
    "            if 'amount' in c.lower() or 'value' in c.lower():\n",
    "                return c\n",
    "        return None\n",
    "\n",
    "    def coerce_amount(series: pd.Series) -> pd.Series:\n",
    "        # If string with comma decimal, replace and convert\n",
    "        if series.dtype == 'object' or pd.api.types.is_string_dtype(series):\n",
    "            return pd.to_numeric(series.str.replace(',', '.', regex=False).str.replace(' ', ''), errors='coerce')\n",
    "        return pd.to_numeric(series, errors='coerce')\n",
    "\n",
    "    amount_col = pick_amount_column(transactions)\n",
    "    if amount_col is None:\n",
    "        # Try to infer from credits/debits\n",
    "        amount_col = 'amount'\n",
    "        transactions[amount_col] = pd.to_numeric(0)\n",
    "\n",
    "    # Coerce date and amount columns\n",
    "    if trx_date_col is not None:\n",
    "        transactions[trx_date_col] = pd.to_datetime(transactions[trx_date_col], errors='coerce')\n",
    "    transactions[amount_col] = coerce_amount(transactions[amount_col])\n",
    "\n",
    "    # Preview head/tail\n",
    "    display(transactions.head(5))\n",
    "    display(transactions.tail(5))\n",
    "\n",
    "    # Column names and dtypes\n",
    "    display(pd.DataFrame({'dtype': transactions.dtypes.astype(str)}))\n",
    "\n",
    "    # Missingness\n",
    "    missing_counts = transactions.isna().sum().sort_values(ascending=False)\n",
    "    missing_pct = (transactions.isna().mean() * 100).round(2)\n",
    "    dq_missing = pd.concat([missing_counts.rename('missing_count'), missing_pct.rename('missing_%')], axis=1)\n",
    "    display(dq_missing)\n",
    "\n",
    "    # Date range\n",
    "    date_min = transactions[trx_date_col].min() if trx_date_col else None\n",
    "    date_max = transactions[trx_date_col].max() if trx_date_col else None\n",
    "    print({'date_min': date_min, 'date_max': date_max})\n",
    "\n",
    "    # Unique transaction categories/types if present\n",
    "    category_like_cols = [c for c in transactions.columns if 'category' in c.lower() or 'type' in c.lower()]\n",
    "    unique_info = {}\n",
    "    for c in category_like_cols:\n",
    "        nun = transactions[c].nunique(dropna=True)\n",
    "        sample_vals = transactions[c].dropna().astype(str).value_counts().head(10)\n",
    "        unique_info[c] = {'nunique': nun, 'top_values': sample_vals.to_dict()}\n",
    "    display(unique_info)\n",
    "\n",
    "    # Basic amount statistics\n",
    "    amount_stats = transactions[amount_col].describe(percentiles=[0.1, 0.25, 0.5, 0.75, 0.9]).to_frame('amount_stats')\n",
    "    display(amount_stats)\n",
    "\n",
    "    # Obvious data quality issues\n",
    "    # 1) Duplicates\n",
    "    dup_cols = [trx_date_col, amount_col, 'bank_reference'] if 'bank_reference' in transactions.columns else [trx_date_col, amount_col]\n",
    "    potential_dups = transactions.duplicated(subset=[c for c in dup_cols if c is not None], keep=False).sum()\n",
    "\n",
    "    # 2) Non-parsable dates or amounts\n",
    "    non_parsable_dates = transactions[trx_date_col].isna().sum() if trx_date_col else None\n",
    "    non_parsable_amounts = transactions[amount_col].isna().sum()\n",
    "\n",
    "    # 3) Sign consistency vs credit_or_debit\n",
    "    sign_inconsistencies = None\n",
    "    if 'credit_or_debit' in transactions.columns:\n",
    "        cod = transactions['credit_or_debit'].astype(str).str.upper()\n",
    "        # infer sign from amount if signed; if all positive, we cannot check reliably\n",
    "        if transactions[amount_col].notna().any():\n",
    "            sign = np.sign(transactions[amount_col].fillna(0))\n",
    "            sign_inconsistencies = ((cod == 'CRDT') & (sign < 0) | (cod.str.startswith(('DB', 'DR'))) & (sign > 0)).sum()\n",
    "\n",
    "    dq_summary = pd.DataFrame([\n",
    "        {'metric': 'rows', 'value': len(transactions)},\n",
    "        {'metric': 'columns', 'value': transactions.shape[1]},\n",
    "        {'metric': 'date_min', 'value': date_min},\n",
    "        {'metric': 'date_max', 'value': date_max},\n",
    "        {'metric': 'potential_duplicates', 'value': int(potential_dups)},\n",
    "        {'metric': 'non_parsable_dates', 'value': None if non_parsable_dates is None else int(non_parsable_dates)},\n",
    "        {'metric': 'non_parsable_amounts', 'value': int(non_parsable_amounts)},\n",
    "        {'metric': 'sign_inconsistencies', 'value': None if sign_inconsistencies is None else int(sign_inconsistencies)},\n",
    "    ])\n",
    "    display(dq_summary)\n",
    "\n",
    "    # Balances presence and date coverage\n",
    "    if balances is not None:\n",
    "        bmin = balances['balance_date'].min() if 'balance_date' in balances.columns else None\n",
    "        bmax = balances['balance_date'].max() if 'balance_date' in balances.columns else None\n",
    "        print({'balances_date_min': bmin, 'balances_date_max': bmax, 'balances_rows': len(balances)})\n",
    "\n",
    "    # Forecast datasets presence\n",
    "    print({'system_forecasts_present': system_forecasts is not None, 'user_forecasts_present': user_forecasts is not None})\n",
    "\n"
   ]
  },
  {
   "cell_type": "markdown",
   "id": "b53a0ae0",
   "metadata": {},
   "source": [
    "## 3) Chart 2: Revenue Heatmap (Day of Week vs Week of Year)\n",
    "\n",
    "This heat map shows the hotel revenue pattern by day of the week and week of the year.\n"
   ]
  },
  {
   "cell_type": "code",
   "execution_count": 40,
   "id": "6b573578",
   "metadata": {},
   "outputs": [
    {
     "name": "stdout",
     "output_type": "stream",
     "text": [
      "Using date column for heatmap: value_date\n",
      "Heatmap data shape: (100, 3)\n",
      "Sample data:\n",
      "   week_of_year day_of_week   amount\n",
      "0             1   Wednesday   525.98\n",
      "1             2      Sunday  4905.90\n",
      "2             2     Tuesday  2029.42\n",
      "3             2   Wednesday  1939.65\n",
      "4             3      Friday  1491.71\n",
      "5             3      Monday  5634.42\n",
      "6             3    Saturday  2998.90\n",
      "7             4    Saturday   683.98\n",
      "8             4    Thursday  2304.46\n",
      "9             4     Tuesday  8578.78\n",
      "Week range: 1 to 35\n"
     ]
    },
    {
     "data": {
      "application/vnd.plotly.v1+json": {
       "config": {
        "plotlyServerURL": "https://plot.ly"
       },
       "data": [
        {
         "colorbar": {
          "title": {
           "text": "Revenue (EUR)"
          }
         },
         "colorscale": [
          [
           0,
           "rgb(255,255,204)"
          ],
          [
           0.125,
           "rgb(255,237,160)"
          ],
          [
           0.25,
           "rgb(254,217,118)"
          ],
          [
           0.375,
           "rgb(254,178,76)"
          ],
          [
           0.5,
           "rgb(253,141,60)"
          ],
          [
           0.625,
           "rgb(252,78,42)"
          ],
          [
           0.75,
           "rgb(227,26,28)"
          ],
          [
           0.875,
           "rgb(189,0,38)"
          ],
          [
           1,
           "rgb(128,0,38)"
          ]
         ],
         "hovertemplate": "Week %{x}<br>%{y}<br>Revenue: €%{z:,.2f}<extra></extra>",
         "type": "heatmap",
         "x": [
          1,
          2,
          3,
          4,
          5,
          6,
          7,
          8,
          9,
          10,
          11,
          12,
          13,
          14,
          15,
          16,
          17,
          18,
          19,
          20,
          21,
          22,
          23,
          24,
          25,
          26,
          27,
          28,
          29,
          30,
          31,
          32,
          33,
          34,
          35
         ],
         "y": [
          "Monday",
          "Tuesday",
          "Wednesday",
          "Thursday",
          "Friday",
          "Saturday",
          "Sunday"
         ],
         "z": {
          "bdata": "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",
          "dtype": "f8",
          "shape": "7, 35"
         }
        }
       ],
       "layout": {
        "height": 500,
        "template": {
         "data": {
          "bar": [
           {
            "error_x": {
             "color": "#2a3f5f"
            },
            "error_y": {
             "color": "#2a3f5f"
            },
            "marker": {
             "line": {
              "color": "#E5ECF6",
              "width": 0.5
             },
             "pattern": {
              "fillmode": "overlay",
              "size": 10,
              "solidity": 0.2
             }
            },
            "type": "bar"
           }
          ],
          "barpolar": [
           {
            "marker": {
             "line": {
              "color": "#E5ECF6",
              "width": 0.5
             },
             "pattern": {
              "fillmode": "overlay",
              "size": 10,
              "solidity": 0.2
             }
            },
            "type": "barpolar"
           }
          ],
          "carpet": [
           {
            "aaxis": {
             "endlinecolor": "#2a3f5f",
             "gridcolor": "white",
             "linecolor": "white",
             "minorgridcolor": "white",
             "startlinecolor": "#2a3f5f"
            },
            "baxis": {
             "endlinecolor": "#2a3f5f",
             "gridcolor": "white",
             "linecolor": "white",
             "minorgridcolor": "white",
             "startlinecolor": "#2a3f5f"
            },
            "type": "carpet"
           }
          ],
          "choropleth": [
           {
            "colorbar": {
             "outlinewidth": 0,
             "ticks": ""
            },
            "type": "choropleth"
           }
          ],
          "contour": [
           {
            "colorbar": {
             "outlinewidth": 0,
             "ticks": ""
            },
            "colorscale": [
             [
              0,
              "#0d0887"
             ],
             [
              0.1111111111111111,
              "#46039f"
             ],
             [
              0.2222222222222222,
              "#7201a8"
             ],
             [
              0.3333333333333333,
              "#9c179e"
             ],
             [
              0.4444444444444444,
              "#bd3786"
             ],
             [
              0.5555555555555556,
              "#d8576b"
             ],
             [
              0.6666666666666666,
              "#ed7953"
             ],
             [
              0.7777777777777778,
              "#fb9f3a"
             ],
             [
              0.8888888888888888,
              "#fdca26"
             ],
             [
              1,
              "#f0f921"
             ]
            ],
            "type": "contour"
           }
          ],
          "contourcarpet": [
           {
            "colorbar": {
             "outlinewidth": 0,
             "ticks": ""
            },
            "type": "contourcarpet"
           }
          ],
          "heatmap": [
           {
            "colorbar": {
             "outlinewidth": 0,
             "ticks": ""
            },
            "colorscale": [
             [
              0,
              "#0d0887"
             ],
             [
              0.1111111111111111,
              "#46039f"
             ],
             [
              0.2222222222222222,
              "#7201a8"
             ],
             [
              0.3333333333333333,
              "#9c179e"
             ],
             [
              0.4444444444444444,
              "#bd3786"
             ],
             [
              0.5555555555555556,
              "#d8576b"
             ],
             [
              0.6666666666666666,
              "#ed7953"
             ],
             [
              0.7777777777777778,
              "#fb9f3a"
             ],
             [
              0.8888888888888888,
              "#fdca26"
             ],
             [
              1,
              "#f0f921"
             ]
            ],
            "type": "heatmap"
           }
          ],
          "histogram": [
           {
            "marker": {
             "pattern": {
              "fillmode": "overlay",
              "size": 10,
              "solidity": 0.2
             }
            },
            "type": "histogram"
           }
          ],
          "histogram2d": [
           {
            "colorbar": {
             "outlinewidth": 0,
             "ticks": ""
            },
            "colorscale": [
             [
              0,
              "#0d0887"
             ],
             [
              0.1111111111111111,
              "#46039f"
             ],
             [
              0.2222222222222222,
              "#7201a8"
             ],
             [
              0.3333333333333333,
              "#9c179e"
             ],
             [
              0.4444444444444444,
              "#bd3786"
             ],
             [
              0.5555555555555556,
              "#d8576b"
             ],
             [
              0.6666666666666666,
              "#ed7953"
             ],
             [
              0.7777777777777778,
              "#fb9f3a"
             ],
             [
              0.8888888888888888,
              "#fdca26"
             ],
             [
              1,
              "#f0f921"
             ]
            ],
            "type": "histogram2d"
           }
          ],
          "histogram2dcontour": [
           {
            "colorbar": {
             "outlinewidth": 0,
             "ticks": ""
            },
            "colorscale": [
             [
              0,
              "#0d0887"
             ],
             [
              0.1111111111111111,
              "#46039f"
             ],
             [
              0.2222222222222222,
              "#7201a8"
             ],
             [
              0.3333333333333333,
              "#9c179e"
             ],
             [
              0.4444444444444444,
              "#bd3786"
             ],
             [
              0.5555555555555556,
              "#d8576b"
             ],
             [
              0.6666666666666666,
              "#ed7953"
             ],
             [
              0.7777777777777778,
              "#fb9f3a"
             ],
             [
              0.8888888888888888,
              "#fdca26"
             ],
             [
              1,
              "#f0f921"
             ]
            ],
            "type": "histogram2dcontour"
           }
          ],
          "mesh3d": [
           {
            "colorbar": {
             "outlinewidth": 0,
             "ticks": ""
            },
            "type": "mesh3d"
           }
          ],
          "parcoords": [
           {
            "line": {
             "colorbar": {
              "outlinewidth": 0,
              "ticks": ""
             }
            },
            "type": "parcoords"
           }
          ],
          "pie": [
           {
            "automargin": true,
            "type": "pie"
           }
          ],
          "scatter": [
           {
            "fillpattern": {
             "fillmode": "overlay",
             "size": 10,
             "solidity": 0.2
            },
            "type": "scatter"
           }
          ],
          "scatter3d": [
           {
            "line": {
             "colorbar": {
              "outlinewidth": 0,
              "ticks": ""
             }
            },
            "marker": {
             "colorbar": {
              "outlinewidth": 0,
              "ticks": ""
             }
            },
            "type": "scatter3d"
           }
          ],
          "scattercarpet": [
           {
            "marker": {
             "colorbar": {
              "outlinewidth": 0,
              "ticks": ""
             }
            },
            "type": "scattercarpet"
           }
          ],
          "scattergeo": [
           {
            "marker": {
             "colorbar": {
              "outlinewidth": 0,
              "ticks": ""
             }
            },
            "type": "scattergeo"
           }
          ],
          "scattergl": [
           {
            "marker": {
             "colorbar": {
              "outlinewidth": 0,
              "ticks": ""
             }
            },
            "type": "scattergl"
           }
          ],
          "scattermap": [
           {
            "marker": {
             "colorbar": {
              "outlinewidth": 0,
              "ticks": ""
             }
            },
            "type": "scattermap"
           }
          ],
          "scattermapbox": [
           {
            "marker": {
             "colorbar": {
              "outlinewidth": 0,
              "ticks": ""
             }
            },
            "type": "scattermapbox"
           }
          ],
          "scatterpolar": [
           {
            "marker": {
             "colorbar": {
              "outlinewidth": 0,
              "ticks": ""
             }
            },
            "type": "scatterpolar"
           }
          ],
          "scatterpolargl": [
           {
            "marker": {
             "colorbar": {
              "outlinewidth": 0,
              "ticks": ""
             }
            },
            "type": "scatterpolargl"
           }
          ],
          "scatterternary": [
           {
            "marker": {
             "colorbar": {
              "outlinewidth": 0,
              "ticks": ""
             }
            },
            "type": "scatterternary"
           }
          ],
          "surface": [
           {
            "colorbar": {
             "outlinewidth": 0,
             "ticks": ""
            },
            "colorscale": [
             [
              0,
              "#0d0887"
             ],
             [
              0.1111111111111111,
              "#46039f"
             ],
             [
              0.2222222222222222,
              "#7201a8"
             ],
             [
              0.3333333333333333,
              "#9c179e"
             ],
             [
              0.4444444444444444,
              "#bd3786"
             ],
             [
              0.5555555555555556,
              "#d8576b"
             ],
             [
              0.6666666666666666,
              "#ed7953"
             ],
             [
              0.7777777777777778,
              "#fb9f3a"
             ],
             [
              0.8888888888888888,
              "#fdca26"
             ],
             [
              1,
              "#f0f921"
             ]
            ],
            "type": "surface"
           }
          ],
          "table": [
           {
            "cells": {
             "fill": {
              "color": "#EBF0F8"
             },
             "line": {
              "color": "white"
             }
            },
            "header": {
             "fill": {
              "color": "#C8D4E3"
             },
             "line": {
              "color": "white"
             }
            },
            "type": "table"
           }
          ]
         },
         "layout": {
          "annotationdefaults": {
           "arrowcolor": "#2a3f5f",
           "arrowhead": 0,
           "arrowwidth": 1
          },
          "autotypenumbers": "strict",
          "coloraxis": {
           "colorbar": {
            "outlinewidth": 0,
            "ticks": ""
           }
          },
          "colorscale": {
           "diverging": [
            [
             0,
             "#8e0152"
            ],
            [
             0.1,
             "#c51b7d"
            ],
            [
             0.2,
             "#de77ae"
            ],
            [
             0.3,
             "#f1b6da"
            ],
            [
             0.4,
             "#fde0ef"
            ],
            [
             0.5,
             "#f7f7f7"
            ],
            [
             0.6,
             "#e6f5d0"
            ],
            [
             0.7,
             "#b8e186"
            ],
            [
             0.8,
             "#7fbc41"
            ],
            [
             0.9,
             "#4d9221"
            ],
            [
             1,
             "#276419"
            ]
           ],
           "sequential": [
            [
             0,
             "#0d0887"
            ],
            [
             0.1111111111111111,
             "#46039f"
            ],
            [
             0.2222222222222222,
             "#7201a8"
            ],
            [
             0.3333333333333333,
             "#9c179e"
            ],
            [
             0.4444444444444444,
             "#bd3786"
            ],
            [
             0.5555555555555556,
             "#d8576b"
            ],
            [
             0.6666666666666666,
             "#ed7953"
            ],
            [
             0.7777777777777778,
             "#fb9f3a"
            ],
            [
             0.8888888888888888,
             "#fdca26"
            ],
            [
             1,
             "#f0f921"
            ]
           ],
           "sequentialminus": [
            [
             0,
             "#0d0887"
            ],
            [
             0.1111111111111111,
             "#46039f"
            ],
            [
             0.2222222222222222,
             "#7201a8"
            ],
            [
             0.3333333333333333,
             "#9c179e"
            ],
            [
             0.4444444444444444,
             "#bd3786"
            ],
            [
             0.5555555555555556,
             "#d8576b"
            ],
            [
             0.6666666666666666,
             "#ed7953"
            ],
            [
             0.7777777777777778,
             "#fb9f3a"
            ],
            [
             0.8888888888888888,
             "#fdca26"
            ],
            [
             1,
             "#f0f921"
            ]
           ]
          },
          "colorway": [
           "#636efa",
           "#EF553B",
           "#00cc96",
           "#ab63fa",
           "#FFA15A",
           "#19d3f3",
           "#FF6692",
           "#B6E880",
           "#FF97FF",
           "#FECB52"
          ],
          "font": {
           "color": "#2a3f5f"
          },
          "geo": {
           "bgcolor": "white",
           "lakecolor": "white",
           "landcolor": "#E5ECF6",
           "showlakes": true,
           "showland": true,
           "subunitcolor": "white"
          },
          "hoverlabel": {
           "align": "left"
          },
          "hovermode": "closest",
          "mapbox": {
           "style": "light"
          },
          "paper_bgcolor": "white",
          "plot_bgcolor": "#E5ECF6",
          "polar": {
           "angularaxis": {
            "gridcolor": "white",
            "linecolor": "white",
            "ticks": ""
           },
           "bgcolor": "#E5ECF6",
           "radialaxis": {
            "gridcolor": "white",
            "linecolor": "white",
            "ticks": ""
           }
          },
          "scene": {
           "xaxis": {
            "backgroundcolor": "#E5ECF6",
            "gridcolor": "white",
            "gridwidth": 2,
            "linecolor": "white",
            "showbackground": true,
            "ticks": "",
            "zerolinecolor": "white"
           },
           "yaxis": {
            "backgroundcolor": "#E5ECF6",
            "gridcolor": "white",
            "gridwidth": 2,
            "linecolor": "white",
            "showbackground": true,
            "ticks": "",
            "zerolinecolor": "white"
           },
           "zaxis": {
            "backgroundcolor": "#E5ECF6",
            "gridcolor": "white",
            "gridwidth": 2,
            "linecolor": "white",
            "showbackground": true,
            "ticks": "",
            "zerolinecolor": "white"
           }
          },
          "shapedefaults": {
           "line": {
            "color": "#2a3f5f"
           }
          },
          "ternary": {
           "aaxis": {
            "gridcolor": "white",
            "linecolor": "white",
            "ticks": ""
           },
           "baxis": {
            "gridcolor": "white",
            "linecolor": "white",
            "ticks": ""
           },
           "bgcolor": "#E5ECF6",
           "caxis": {
            "gridcolor": "white",
            "linecolor": "white",
            "ticks": ""
           }
          },
          "title": {
           "x": 0.05
          },
          "xaxis": {
           "automargin": true,
           "gridcolor": "white",
           "linecolor": "white",
           "ticks": "",
           "title": {
            "standoff": 15
           },
           "zerolinecolor": "white",
           "zerolinewidth": 2
          },
          "yaxis": {
           "automargin": true,
           "gridcolor": "white",
           "linecolor": "white",
           "ticks": "",
           "title": {
            "standoff": 15
           },
           "zerolinecolor": "white",
           "zerolinewidth": 2
          }
         }
        },
        "title": {
         "text": "Hotel Revenue Heatmap: Day of Week vs Week of Year"
        },
        "width": 1200,
        "xaxis": {
         "title": {
          "text": "Week of Year"
         },
         "type": "category"
        },
        "yaxis": {
         "title": {
          "text": "Day of Week"
         }
        }
       }
      }
     },
     "metadata": {},
     "output_type": "display_data"
    }
   ],
   "source": [
    "# CHART 2: Revenue Heatmap (Day of Week vs Week of Year)\n",
    "\n",
    "# Confirm which date column is being used\n",
    "print(f\"Using date column for heatmap: {trx_date_col}\")\n",
    "\n",
    "# Prepare revenue data - use loaded transactions\n",
    "revenue_data = transactions[(transactions['credit_or_debit'] == 'CRDT') & \n",
    "                             (transactions['additional_info'].str.contains('Resort Revenue', na=False))].copy()\n",
    "\n",
    "revenue_data['date'] = pd.to_datetime(revenue_data[trx_date_col])\n",
    "revenue_data['day_of_week'] = revenue_data['date'].dt.day_name()\n",
    "# Convert week to integer properly\n",
    "revenue_data['week_of_year'] = revenue_data['date'].dt.isocalendar().week.astype(int)\n",
    "\n",
    "# Aggregate revenue by week and day\n",
    "heatmap_data = revenue_data.groupby(['week_of_year', 'day_of_week'], as_index=False)['amount'].sum()\n",
    "\n",
    "# Debug: check data\n",
    "print(f\"Heatmap data shape: {heatmap_data.shape}\")\n",
    "print(f\"Sample data:\\n{heatmap_data.head(10)}\")\n",
    "print(f\"Week range: {heatmap_data['week_of_year'].min()} to {heatmap_data['week_of_year'].max()}\")\n",
    "\n",
    "# Pivot for heatmap\n",
    "day_order = ['Monday', 'Tuesday', 'Wednesday', 'Thursday', 'Friday', 'Saturday', 'Sunday']\n",
    "heatmap_pivot = heatmap_data.pivot(index='day_of_week', columns='week_of_year', values='amount')\n",
    "heatmap_pivot = heatmap_pivot.reindex(day_order)\n",
    "\n",
    "# Replace NaN with 0 for visualization\n",
    "heatmap_pivot = heatmap_pivot.fillna(0)\n",
    "\n",
    "# Create heatmap\n",
    "fig2 = go.Figure(data=go.Heatmap(\n",
    "    z=heatmap_pivot.values,\n",
    "    x=heatmap_pivot.columns.tolist(),\n",
    "    y=heatmap_pivot.index.tolist(),\n",
    "    colorscale='YlOrRd',\n",
    "    hovertemplate='Week %{x}<br>%{y}<br>Revenue: €%{z:,.2f}<extra></extra>',\n",
    "    colorbar=dict(title='Revenue (EUR)'),\n",
    "    zmid=None  # Auto-scale colors\n",
    "))\n",
    "\n",
    "fig2.update_layout(\n",
    "    title='Hotel Revenue Heatmap: Day of Week vs Week of Year',\n",
    "    xaxis=dict(title='Week of Year', type='category'),\n",
    "    yaxis=dict(title='Day of Week'),\n",
    "    height=500,\n",
    "    width=1200\n",
    ")\n",
    "\n",
    "fig2.show()\n"
   ]
  },
  {
   "cell_type": "code",
   "execution_count": 43,
   "id": "f16a3802",
   "metadata": {},
   "outputs": [
    {
     "name": "stdout",
     "output_type": "stream",
     "text": [
      "\n",
      "================================================================================\n",
      "DATA COVERAGE ANALYSIS:\n",
      "================================================================================\n",
      "Week range in data: 1 to 35\n",
      "Total weeks with ANY data: 35\n",
      "\n",
      "Total possible day/week combinations: 245\n",
      "Actual data points with revenue > 0: 100\n",
      "Missing combinations: 145\n",
      "Coverage: 40.8%\n",
      "\n",
      "--------------------------------------------------------------------------------\n",
      "BREAKDOWN BY DAY OF WEEK:\n",
      "--------------------------------------------------------------------------------\n",
      "\n",
      "Sunday:\n",
      "  Weeks with data: 13 out of 35\n",
      "  Missing weeks: 22\n",
      "  Missing week numbers: [1, 3, 4, 5, 7, 9, 13, 16, 17, 18]... (showing first 10)\n",
      "\n",
      "Monday:\n",
      "  Weeks with data: 16 out of 35\n",
      "  Missing weeks: 19\n",
      "  Missing week numbers: [1, 2, 4, 5, 10, 13, 15, 16, 20, 21]... (showing first 10)\n",
      "\n",
      "Tuesday:\n",
      "  Weeks with data: 15 out of 35\n",
      "  Missing weeks: 20\n",
      "  Missing week numbers: [1, 3, 6, 8, 11, 12, 14, 18, 19, 20]... (showing first 10)\n",
      "\n",
      "Wednesday:\n",
      "  Weeks with data: 19 out of 35\n",
      "  Missing weeks: 16\n",
      "  Missing week numbers: [3, 4, 5, 7, 8, 10, 12, 13, 32, 34]... (showing first 10)\n",
      "\n",
      "Thursday:\n",
      "  Weeks with data: 12 out of 35\n",
      "  Missing weeks: 23\n",
      "  Missing week numbers: [1, 2, 3, 5, 6, 8, 9, 10, 11, 12]... (showing first 10)\n",
      "\n",
      "Friday:\n",
      "  Weeks with data: 15 out of 35\n",
      "  Missing weeks: 20\n",
      "  Missing week numbers: [1, 2, 4, 5, 7, 9, 10, 11, 12, 13]... (showing first 10)\n",
      "\n",
      "Saturday:\n",
      "  Weeks with data: 10 out of 35\n",
      "  Missing weeks: 25\n",
      "  Missing week numbers: [1, 2, 7, 8, 9, 10, 11, 12, 13, 15]... (showing first 10)\n",
      "\n",
      "================================================================================\n",
      "CHECKING RAW TRANSACTION DATA:\n",
      "================================================================================\n",
      "\n",
      "Transactions by day of week:\n",
      "  Sunday: 18 transactions, €31,754.98 total\n",
      "  Monday: 20 transactions, €32,456.63 total\n",
      "  Tuesday: 23 transactions, €42,819.01 total\n",
      "  Wednesday: 23 transactions, €39,771.39 total\n",
      "  Thursday: 14 transactions, €24,426.83 total\n",
      "  Friday: 17 transactions, €31,155.48 total\n",
      "  Saturday: 12 transactions, €19,530.69 total\n",
      "\n",
      "================================================================================\n",
      "COPY-PASTE READY HEATMAP DATA (WITH COMPLETE WEEK COVERAGE):\n",
      "================================================================================\n",
      "const data = [\n",
      "  {\n",
      "    \"name\": \"Sunday\",\n",
      "    \"data\": [{ weekOfYear: 1, index: 1, value: 0 }, { weekOfYear: 2, index: 1, value: 4905.9 }, { weekOfYear: 3, index: 1, value: 0 }, { weekOfYear: 4, index: 1, value: 0 }, { weekOfYear: 5, index: 1, value: 0 }, { weekOfYear: 6, index: 1, value: 2137.76 }, { weekOfYear: 7, index: 1, value: 0 }, { weekOfYear: 8, index: 1, value: 5508.78 }, { weekOfYear: 9, index: 1, value: 0 }, { weekOfYear: 10, index: 1, value: 3427.66 }, { weekOfYear: 11, index: 1, value: 3779.93 }, { weekOfYear: 12, index: 1, value: 859.88 }, { weekOfYear: 13, index: 1, value: 0 }, { weekOfYear: 14, index: 1, value: 2209.38 }, { weekOfYear: 15, index: 1, value: 680.85 }, { weekOfYear: 16, index: 1, value: 0 }, { weekOfYear: 17, index: 1, value: 0 }, { weekOfYear: 18, index: 1, value: 0 }, { weekOfYear: 19, index: 1, value: 0 }, { weekOfYear: 20, index: 1, value: 0 }, { weekOfYear: 21, index: 1, value: 2975.17 }, { weekOfYear: 22, index: 1, value: 0 }, { weekOfYear: 23, index: 1, value: 0 }, { weekOfYear: 24, index: 1, value: 0 }, { weekOfYear: 25, index: 1, value: 451.36 }, { weekOfYear: 26, index: 1, value: 0 }, { weekOfYear: 27, index: 1, value: 0 }, { weekOfYear: 28, index: 1, value: 827.14 }, { weekOfYear: 29, index: 1, value: 0 }, { weekOfYear: 30, index: 1, value: 0 }, { weekOfYear: 31, index: 1, value: 0 }, { weekOfYear: 32, index: 1, value: 2006.94 }, { weekOfYear: 33, index: 1, value: 0 }, { weekOfYear: 34, index: 1, value: 0 }, { weekOfYear: 35, index: 1, value: 1984.23 }]\n",
      "  },\n",
      "  {\n",
      "    \"name\": \"Monday\",\n",
      "    \"data\": [{ weekOfYear: 1, index: 1, value: 0 }, { weekOfYear: 2, index: 1, value: 0 }, { weekOfYear: 3, index: 1, value: 5634.42 }, { weekOfYear: 4, index: 1, value: 0 }, { weekOfYear: 5, index: 1, value: 0 }, { weekOfYear: 6, index: 1, value: 3094.25 }, { weekOfYear: 7, index: 1, value: 3485.07 }, { weekOfYear: 8, index: 1, value: 2657.08 }, { weekOfYear: 9, index: 1, value: 1652.99 }, { weekOfYear: 10, index: 1, value: 0 }, { weekOfYear: 11, index: 1, value: 479.69 }, { weekOfYear: 12, index: 1, value: 1248.69 }, { weekOfYear: 13, index: 1, value: 0 }, { weekOfYear: 14, index: 1, value: 602.42 }, { weekOfYear: 15, index: 1, value: 0 }, { weekOfYear: 16, index: 1, value: 0 }, { weekOfYear: 17, index: 1, value: 1165.54 }, { weekOfYear: 18, index: 1, value: 754.35 }, { weekOfYear: 19, index: 1, value: 2401.24 }, { weekOfYear: 20, index: 1, value: 0 }, { weekOfYear: 21, index: 1, value: 0 }, { weekOfYear: 22, index: 1, value: 2615.16 }, { weekOfYear: 23, index: 1, value: 0 }, { weekOfYear: 24, index: 1, value: 1128.5 }, { weekOfYear: 25, index: 1, value: 0 }, { weekOfYear: 26, index: 1, value: 0 }, { weekOfYear: 27, index: 1, value: 2339.65 }, { weekOfYear: 28, index: 1, value: 0 }, { weekOfYear: 29, index: 1, value: 0 }, { weekOfYear: 30, index: 1, value: 0 }, { weekOfYear: 31, index: 1, value: 0 }, { weekOfYear: 32, index: 1, value: 0 }, { weekOfYear: 33, index: 1, value: 759.95 }, { weekOfYear: 34, index: 1, value: 0 }, { weekOfYear: 35, index: 1, value: 2437.63 }]\n",
      "  },\n",
      "  {\n",
      "    \"name\": \"Tuesday\",\n",
      "    \"data\": [{ weekOfYear: 1, index: 1, value: 0 }, { weekOfYear: 2, index: 1, value: 2029.42 }, { weekOfYear: 3, index: 1, value: 0 }, { weekOfYear: 4, index: 1, value: 8578.78 }, { weekOfYear: 5, index: 1, value: 2759.93 }, { weekOfYear: 6, index: 1, value: 0 }, { weekOfYear: 7, index: 1, value: 1588.42 }, { weekOfYear: 8, index: 1, value: 0 }, { weekOfYear: 9, index: 1, value: 4109.26 }, { weekOfYear: 10, index: 1, value: 2970.49 }, { weekOfYear: 11, index: 1, value: 0 }, { weekOfYear: 12, index: 1, value: 0 }, { weekOfYear: 13, index: 1, value: 2398.82 }, { weekOfYear: 14, index: 1, value: 0 }, { weekOfYear: 15, index: 1, value: 1519.93 }, { weekOfYear: 16, index: 1, value: 4379.09 }, { weekOfYear: 17, index: 1, value: 3485.8 }, { weekOfYear: 18, index: 1, value: 0 }, { weekOfYear: 19, index: 1, value: 0 }, { weekOfYear: 20, index: 1, value: 0 }, { weekOfYear: 21, index: 1, value: 0 }, { weekOfYear: 22, index: 1, value: 3214.08 }, { weekOfYear: 23, index: 1, value: 0 }, { weekOfYear: 24, index: 1, value: 0 }, { weekOfYear: 25, index: 1, value: 885.4 }, { weekOfYear: 26, index: 1, value: 0 }, { weekOfYear: 27, index: 1, value: 0 }, { weekOfYear: 28, index: 1, value: 0 }, { weekOfYear: 29, index: 1, value: 0 }, { weekOfYear: 30, index: 1, value: 0 }, { weekOfYear: 31, index: 1, value: 2496.15 }, { weekOfYear: 32, index: 1, value: 0 }, { weekOfYear: 33, index: 1, value: 0 }, { weekOfYear: 34, index: 1, value: 1588.91 }, { weekOfYear: 35, index: 1, value: 814.53 }]\n",
      "  },\n",
      "  {\n",
      "    \"name\": \"Wednesday\",\n",
      "    \"data\": [{ weekOfYear: 1, index: 1, value: 525.98 }, { weekOfYear: 2, index: 1, value: 1939.65 }, { weekOfYear: 3, index: 1, value: 0 }, { weekOfYear: 4, index: 1, value: 0 }, { weekOfYear: 5, index: 1, value: 0 }, { weekOfYear: 6, index: 1, value: 1972.11 }, { weekOfYear: 7, index: 1, value: 0 }, { weekOfYear: 8, index: 1, value: 0 }, { weekOfYear: 9, index: 1, value: 998.3 }, { weekOfYear: 10, index: 1, value: 0 }, { weekOfYear: 11, index: 1, value: 2532.3 }, { weekOfYear: 12, index: 1, value: 0 }, { weekOfYear: 13, index: 1, value: 0 }, { weekOfYear: 14, index: 1, value: 4071.99 }, { weekOfYear: 15, index: 1, value: 1635.45 }, { weekOfYear: 16, index: 1, value: 4047.35 }, { weekOfYear: 17, index: 1, value: 0 }, { weekOfYear: 18, index: 1, value: 2425.46 }, { weekOfYear: 19, index: 1, value: 0 }, { weekOfYear: 20, index: 1, value: 887.92 }, { weekOfYear: 21, index: 1, value: 4103.06 }, { weekOfYear: 22, index: 1, value: 2570.18 }, { weekOfYear: 23, index: 1, value: 0 }, { weekOfYear: 24, index: 1, value: 2104.88 }, { weekOfYear: 25, index: 1, value: 0 }, { weekOfYear: 26, index: 1, value: 0 }, { weekOfYear: 27, index: 1, value: 2968.91 }, { weekOfYear: 28, index: 1, value: 803.77 }, { weekOfYear: 29, index: 1, value: 1172.72 }, { weekOfYear: 30, index: 1, value: 1861.18 }, { weekOfYear: 31, index: 1, value: 0 }, { weekOfYear: 32, index: 1, value: 0 }, { weekOfYear: 33, index: 1, value: 1324.52 }, { weekOfYear: 34, index: 1, value: 0 }, { weekOfYear: 35, index: 1, value: 1825.66 }]\n",
      "  },\n",
      "  {\n",
      "    \"name\": \"Thursday\",\n",
      "    \"data\": [{ weekOfYear: 1, index: 1, value: 0 }, { weekOfYear: 2, index: 1, value: 0 }, { weekOfYear: 3, index: 1, value: 0 }, { weekOfYear: 4, index: 1, value: 2304.46 }, { weekOfYear: 5, index: 1, value: 0 }, { weekOfYear: 6, index: 1, value: 0 }, { weekOfYear: 7, index: 1, value: 688.42 }, { weekOfYear: 8, index: 1, value: 0 }, { weekOfYear: 9, index: 1, value: 0 }, { weekOfYear: 10, index: 1, value: 0 }, { weekOfYear: 11, index: 1, value: 0 }, { weekOfYear: 12, index: 1, value: 0 }, { weekOfYear: 13, index: 1, value: 0 }, { weekOfYear: 14, index: 1, value: 0 }, { weekOfYear: 15, index: 1, value: 0 }, { weekOfYear: 16, index: 1, value: 0 }, { weekOfYear: 17, index: 1, value: 1193.36 }, { weekOfYear: 18, index: 1, value: 0 }, { weekOfYear: 19, index: 1, value: 0 }, { weekOfYear: 20, index: 1, value: 1526.11 }, { weekOfYear: 21, index: 1, value: 4799.67 }, { weekOfYear: 22, index: 1, value: 978.35 }, { weekOfYear: 23, index: 1, value: 0 }, { weekOfYear: 24, index: 1, value: 2804.05 }, { weekOfYear: 25, index: 1, value: 4677.93 }, { weekOfYear: 26, index: 1, value: 824.56 }, { weekOfYear: 27, index: 1, value: 0 }, { weekOfYear: 28, index: 1, value: 0 }, { weekOfYear: 29, index: 1, value: 2953.47 }, { weekOfYear: 30, index: 1, value: 0 }, { weekOfYear: 31, index: 1, value: 0 }, { weekOfYear: 32, index: 1, value: 868.26 }, { weekOfYear: 33, index: 1, value: 0 }, { weekOfYear: 34, index: 1, value: 808.19 }, { weekOfYear: 35, index: 1, value: 0 }]\n",
      "  },\n",
      "  {\n",
      "    \"name\": \"Friday\",\n",
      "    \"data\": [{ weekOfYear: 1, index: 1, value: 0 }, { weekOfYear: 2, index: 1, value: 0 }, { weekOfYear: 3, index: 1, value: 1491.71 }, { weekOfYear: 4, index: 1, value: 0 }, { weekOfYear: 5, index: 1, value: 0 }, { weekOfYear: 6, index: 1, value: 1183.45 }, { weekOfYear: 7, index: 1, value: 0 }, { weekOfYear: 8, index: 1, value: 1460.67 }, { weekOfYear: 9, index: 1, value: 0 }, { weekOfYear: 10, index: 1, value: 0 }, { weekOfYear: 11, index: 1, value: 0 }, { weekOfYear: 12, index: 1, value: 0 }, { weekOfYear: 13, index: 1, value: 0 }, { weekOfYear: 14, index: 1, value: 0 }, { weekOfYear: 15, index: 1, value: 4675.92 }, { weekOfYear: 16, index: 1, value: 1426.13 }, { weekOfYear: 17, index: 1, value: 0 }, { weekOfYear: 18, index: 1, value: 2879.08 }, { weekOfYear: 19, index: 1, value: 2211.24 }, { weekOfYear: 20, index: 1, value: 1364.9 }, { weekOfYear: 21, index: 1, value: 2830.44 }, { weekOfYear: 22, index: 1, value: 0 }, { weekOfYear: 23, index: 1, value: 0 }, { weekOfYear: 24, index: 1, value: 0 }, { weekOfYear: 25, index: 1, value: 2329.14 }, { weekOfYear: 26, index: 1, value: 1008.21 }, { weekOfYear: 27, index: 1, value: 0 }, { weekOfYear: 28, index: 1, value: 0 }, { weekOfYear: 29, index: 1, value: 2805.05 }, { weekOfYear: 30, index: 1, value: 0 }, { weekOfYear: 31, index: 1, value: 2343.76 }, { weekOfYear: 32, index: 1, value: 0 }, { weekOfYear: 33, index: 1, value: 2189.16 }, { weekOfYear: 34, index: 1, value: 0 }, { weekOfYear: 35, index: 1, value: 956.62 }]\n",
      "  },\n",
      "  {\n",
      "    \"name\": \"Saturday\",\n",
      "    \"data\": [{ weekOfYear: 1, index: 1, value: 0 }, { weekOfYear: 2, index: 1, value: 0 }, { weekOfYear: 3, index: 1, value: 2998.9 }, { weekOfYear: 4, index: 1, value: 683.98 }, { weekOfYear: 5, index: 1, value: 814.08 }, { weekOfYear: 6, index: 1, value: 1590.59 }, { weekOfYear: 7, index: 1, value: 0 }, { weekOfYear: 8, index: 1, value: 0 }, { weekOfYear: 9, index: 1, value: 0 }, { weekOfYear: 10, index: 1, value: 0 }, { weekOfYear: 11, index: 1, value: 0 }, { weekOfYear: 12, index: 1, value: 0 }, { weekOfYear: 13, index: 1, value: 0 }, { weekOfYear: 14, index: 1, value: 4903.31 }, { weekOfYear: 15, index: 1, value: 0 }, { weekOfYear: 16, index: 1, value: 0 }, { weekOfYear: 17, index: 1, value: 0 }, { weekOfYear: 18, index: 1, value: 0 }, { weekOfYear: 19, index: 1, value: 0 }, { weekOfYear: 20, index: 1, value: 0 }, { weekOfYear: 21, index: 1, value: 861.61 }, { weekOfYear: 22, index: 1, value: 2801.46 }, { weekOfYear: 23, index: 1, value: 1057.06 }, { weekOfYear: 24, index: 1, value: 0 }, { weekOfYear: 25, index: 1, value: 0 }, { weekOfYear: 26, index: 1, value: 0 }, { weekOfYear: 27, index: 1, value: 0 }, { weekOfYear: 28, index: 1, value: 1664.41 }, { weekOfYear: 29, index: 1, value: 0 }, { weekOfYear: 30, index: 1, value: 0 }, { weekOfYear: 31, index: 1, value: 0 }, { weekOfYear: 32, index: 1, value: 0 }, { weekOfYear: 33, index: 1, value: 2155.29 }, { weekOfYear: 34, index: 1, value: 0 }, { weekOfYear: 35, index: 1, value: 0 }]\n",
      "  },\n",
      "];\n",
      "================================================================================\n",
      "\n",
      "Note: Complete dataset includes ALL 35 weeks for each day.\n",
      "Missing week/day combinations now included with value: 0\n",
      "\n",
      "Summary:\n",
      "- Total data points: 100\n",
      "- Days with data: 7\n",
      "- Weeks with data: 35\n",
      "- Total revenue: €221,915.01\n",
      "- Average daily revenue: €2,219.15\n"
     ]
    }
   ],
   "source": [
    "# Export heatmap data in copy-paste ready format for TypeScript/JavaScript\n",
    "\n",
    "# Use the heatmap_data DataFrame from the previous cell\n",
    "# Group by day and create the nested structure\n",
    "day_order = ['Sunday', 'Monday', 'Tuesday', 'Wednesday', 'Thursday', 'Friday', 'Saturday']\n",
    "\n",
    "# First, let's analyze the data coverage\n",
    "print(\"\\n\" + \"=\"*80)\n",
    "print(\"DATA COVERAGE ANALYSIS:\")\n",
    "print(\"=\"*80)\n",
    "\n",
    "# Get the range of weeks in the data\n",
    "all_weeks = sorted(heatmap_data['week_of_year'].unique())\n",
    "min_week = heatmap_data['week_of_year'].min()\n",
    "max_week = heatmap_data['week_of_year'].max()\n",
    "print(f\"Week range in data: {min_week} to {max_week}\")\n",
    "print(f\"Total weeks with ANY data: {len(all_weeks)}\")\n",
    "\n",
    "# Create a complete grid of all possible day/week combinations\n",
    "all_possible_weeks = range(min_week, max_week + 1)\n",
    "total_possible_combinations = len(day_order) * len(all_possible_weeks)\n",
    "actual_data_points = len(heatmap_data)\n",
    "\n",
    "print(f\"\\nTotal possible day/week combinations: {total_possible_combinations}\")\n",
    "print(f\"Actual data points with revenue > 0: {actual_data_points}\")\n",
    "print(f\"Missing combinations: {total_possible_combinations - actual_data_points}\")\n",
    "print(f\"Coverage: {(actual_data_points / total_possible_combinations * 100):.1f}%\")\n",
    "\n",
    "# Check each day of week\n",
    "print(\"\\n\" + \"-\"*80)\n",
    "print(\"BREAKDOWN BY DAY OF WEEK:\")\n",
    "print(\"-\"*80)\n",
    "for day in day_order:\n",
    "    day_data = heatmap_data[heatmap_data['day_of_week'] == day]\n",
    "    weeks_with_data = set(day_data['week_of_year'].values)\n",
    "    missing_weeks = set(all_possible_weeks) - weeks_with_data\n",
    "    \n",
    "    print(f\"\\n{day}:\")\n",
    "    print(f\"  Weeks with data: {len(weeks_with_data)} out of {len(all_possible_weeks)}\")\n",
    "    print(f\"  Missing weeks: {len(missing_weeks)}\")\n",
    "    if len(missing_weeks) > 0 and len(missing_weeks) <= 10:\n",
    "        print(f\"  Missing week numbers: {sorted(missing_weeks)}\")\n",
    "    elif len(missing_weeks) > 10:\n",
    "        print(f\"  Missing week numbers: {sorted(list(missing_weeks)[:10])}... (showing first 10)\")\n",
    "\n",
    "# Now let's check the raw revenue data to see if missing means no transactions\n",
    "print(\"\\n\" + \"=\"*80)\n",
    "print(\"CHECKING RAW TRANSACTION DATA:\")\n",
    "print(\"=\"*80)\n",
    "\n",
    "# Go back to the original revenue_data to see all days\n",
    "revenue_check = revenue_data.copy()\n",
    "revenue_check['has_revenue'] = revenue_check['amount'] > 0\n",
    "\n",
    "# Count by day of week\n",
    "print(\"\\nTransactions by day of week:\")\n",
    "for day in day_order:\n",
    "    day_count = len(revenue_check[revenue_check['day_of_week'] == day])\n",
    "    day_revenue = revenue_check[revenue_check['day_of_week'] == day]['amount'].sum()\n",
    "    print(f\"  {day}: {day_count} transactions, €{day_revenue:,.2f} total\")\n",
    "\n",
    "print(\"\\n\" + \"=\"*80)\n",
    "print(\"COPY-PASTE READY HEATMAP DATA (WITH COMPLETE WEEK COVERAGE):\")\n",
    "print(\"=\"*80)\n",
    "print(\"const data = [\")\n",
    "\n",
    "for day in day_order:\n",
    "    # Filter data for this day\n",
    "    day_data = heatmap_data[heatmap_data['day_of_week'] == day].copy()\n",
    "    \n",
    "    # Create a dictionary for quick lookup of week -> revenue\n",
    "    week_revenue_map = dict(zip(day_data['week_of_year'], day_data['amount']))\n",
    "    \n",
    "    # Format the data array - INCLUDING ALL WEEKS (missing ones get value: 0)\n",
    "    data_entries = []\n",
    "    for week in all_possible_weeks:\n",
    "        # Check if this week has data, otherwise use 0\n",
    "        value = round(week_revenue_map.get(week, 0), 2)\n",
    "        data_entries.append(f'{{ weekOfYear: {week}, index: 1, value: {value} }}')\n",
    "    \n",
    "    # Join all entries for this day\n",
    "    data_str = ', '.join(data_entries)\n",
    "    \n",
    "    print(f'  {{')\n",
    "    print(f'    \"name\": \"{day}\",')\n",
    "    print(f'    \"data\": [{data_str}]')\n",
    "    print(f'  }},')\n",
    "\n",
    "print(\"];\")\n",
    "print(\"=\"*80)\n",
    "print(f\"\\nNote: Complete dataset includes ALL {len(all_possible_weeks)} weeks for each day.\")\n",
    "print(f\"Missing week/day combinations now included with value: 0\")\n",
    "\n",
    "# Summary statistics\n",
    "print(f\"\\nSummary:\")\n",
    "print(f\"- Total data points: {len(heatmap_data)}\")\n",
    "print(f\"- Days with data: {heatmap_data['day_of_week'].nunique()}\")\n",
    "print(f\"- Weeks with data: {heatmap_data['week_of_year'].nunique()}\")\n",
    "print(f\"- Total revenue: €{heatmap_data['amount'].sum():,.2f}\")\n",
    "print(f\"- Average daily revenue: €{heatmap_data['amount'].mean():,.2f}\")\n"
   ]
  },
  {
   "cell_type": "markdown",
   "id": "1da5c0b7",
   "metadata": {},
   "source": [
    "## 4) Chart 3: Net Cashflow (Bar) + Cumulative Cash (Line)\n",
    "\n",
    "This chart shows the daily net cashflow as bars and cumulative cash position as a line.\n"
   ]
  },
  {
   "cell_type": "code",
   "execution_count": 20,
   "id": "c5c8d582",
   "metadata": {},
   "outputs": [
    {
     "name": "stdout",
     "output_type": "stream",
     "text": [
      "Starting balance from balances.csv: €614,655.83\n"
     ]
    },
    {
     "data": {
      "application/vnd.plotly.v1+json": {
       "config": {
        "plotlyServerURL": "https://plot.ly"
       },
       "data": [
        {
         "hovertemplate": "%{x|%Y-%m-%d}<br>Net Cashflow: €%{y:,.2f}<extra></extra>",
         "marker": {
          "color": [
           "red",
           "red",
           "red",
           "green",
           "red",
           "green",
           "red",
           "red",
           "red",
           "red",
           "green",
           "green",
           "red",
           "red",
           "red",
           "red",
           "red",
           "green",
           "green",
           "green",
           "green",
           "red",
           "red",
           "red",
           "red",
           "red",
           "red",
           "green",
           "green",
           "green",
           "red",
           "red",
           "red",
           "green",
           "green",
           "red",
           "green",
           "green",
           "red",
           "green",
           "green",
           "red",
           "green",
           "red",
           "red",
           "red",
           "red",
           "red",
           "red",
           "red",
           "green",
           "red",
           "green",
           "green",
           "red",
           "green",
           "red",
           "red",
           "red",
           "red",
           "red",
           "green",
           "green",
           "red",
           "red",
           "red",
           "red",
           "green",
           "green",
           "green",
           "red",
           "green",
           "green",
           "red",
           "red",
           "red",
           "red",
           "red",
           "red",
           "green",
           "red",
           "green",
           "red",
           "red",
           "red",
           "red",
           "red",
           "green",
           "red",
           "green",
           "green",
           "red",
           "red",
           "green",
           "green",
           "red",
           "red",
           "red",
           "green",
           "green",
           "green",
           "green",
           "green",
           "red",
           "green",
           "red",
           "red",
           "green",
           "red",
           "green",
           "red",
           "red",
           "red",
           "green",
           "green",
           "red",
           "green",
           "red",
           "red",
           "red",
           "red",
           "green",
           "green",
           "red",
           "green",
           "red",
           "green",
           "red",
           "green",
           "red",
           "red",
           "red",
           "red",
           "red",
           "green",
           "red",
           "red",
           "red",
           "red",
           "green",
           "green",
           "green",
           "red",
           "green",
           "green",
           "red",
           "red",
           "green",
           "red",
           "red",
           "red",
           "red",
           "red",
           "green",
           "red",
           "green",
           "red",
           "red",
           "red",
           "green",
           "green",
           "green",
           "green",
           "red",
           "red",
           "red",
           "red",
           "green",
           "red",
           "green",
           "red",
           "green",
           "red",
           "red",
           "green",
           "red",
           "red",
           "red",
           "red",
           "green",
           "green",
           "green",
           "red",
           "red",
           "red",
           "red",
           "green",
           "green",
           "red",
           "red",
           "green",
           "red",
           "green",
           "red",
           "red",
           "green",
           "green",
           "red",
           "red",
           "red",
           "green",
           "red",
           "red",
           "green",
           "red",
           "red",
           "red",
           "green",
           "green",
           "green",
           "green",
           "green",
           "red",
           "red",
           "red",
           "red",
           "green",
           "red",
           "red",
           "red",
           "red",
           "green",
           "red",
           "green",
           "red",
           "green",
           "red",
           "green",
           "green",
           "red",
           "red",
           "red",
           "green",
           "red",
           "green",
           "red",
           "green",
           "red",
           "red",
           "red",
           "green",
           "red",
           "red"
          ]
         },
         "name": "Net Cashflow",
         "type": "bar",
         "x": [
          "2025-01-01T00:00:00.000000000",
          "2025-01-02T00:00:00.000000000",
          "2025-01-03T00:00:00.000000000",
          "2025-01-04T00:00:00.000000000",
          "2025-01-05T00:00:00.000000000",
          "2025-01-06T00:00:00.000000000",
          "2025-01-07T00:00:00.000000000",
          "2025-01-08T00:00:00.000000000",
          "2025-01-09T00:00:00.000000000",
          "2025-01-10T00:00:00.000000000",
          "2025-01-11T00:00:00.000000000",
          "2025-01-12T00:00:00.000000000",
          "2025-01-13T00:00:00.000000000",
          "2025-01-14T00:00:00.000000000",
          "2025-01-15T00:00:00.000000000",
          "2025-01-16T00:00:00.000000000",
          "2025-01-17T00:00:00.000000000",
          "2025-01-18T00:00:00.000000000",
          "2025-01-19T00:00:00.000000000",
          "2025-01-20T00:00:00.000000000",
          "2025-01-21T00:00:00.000000000",
          "2025-01-22T00:00:00.000000000",
          "2025-01-23T00:00:00.000000000",
          "2025-01-24T00:00:00.000000000",
          "2025-01-25T00:00:00.000000000",
          "2025-01-26T00:00:00.000000000",
          "2025-01-27T00:00:00.000000000",
          "2025-01-28T00:00:00.000000000",
          "2025-01-29T00:00:00.000000000",
          "2025-01-30T00:00:00.000000000",
          "2025-01-31T00:00:00.000000000",
          "2025-02-01T00:00:00.000000000",
          "2025-02-02T00:00:00.000000000",
          "2025-02-03T00:00:00.000000000",
          "2025-02-04T00:00:00.000000000",
          "2025-02-05T00:00:00.000000000",
          "2025-02-06T00:00:00.000000000",
          "2025-02-07T00:00:00.000000000",
          "2025-02-08T00:00:00.000000000",
          "2025-02-09T00:00:00.000000000",
          "2025-02-10T00:00:00.000000000",
          "2025-02-11T00:00:00.000000000",
          "2025-02-12T00:00:00.000000000",
          "2025-02-13T00:00:00.000000000",
          "2025-02-14T00:00:00.000000000",
          "2025-02-15T00:00:00.000000000",
          "2025-02-16T00:00:00.000000000",
          "2025-02-17T00:00:00.000000000",
          "2025-02-18T00:00:00.000000000",
          "2025-02-19T00:00:00.000000000",
          "2025-02-20T00:00:00.000000000",
          "2025-02-21T00:00:00.000000000",
          "2025-02-22T00:00:00.000000000",
          "2025-02-23T00:00:00.000000000",
          "2025-02-24T00:00:00.000000000",
          "2025-02-25T00:00:00.000000000",
          "2025-02-26T00:00:00.000000000",
          "2025-02-27T00:00:00.000000000",
          "2025-02-28T00:00:00.000000000",
          "2025-03-01T00:00:00.000000000",
          "2025-03-02T00:00:00.000000000",
          "2025-03-03T00:00:00.000000000",
          "2025-03-04T00:00:00.000000000",
          "2025-03-05T00:00:00.000000000",
          "2025-03-06T00:00:00.000000000",
          "2025-03-07T00:00:00.000000000",
          "2025-03-08T00:00:00.000000000",
          "2025-03-09T00:00:00.000000000",
          "2025-03-10T00:00:00.000000000",
          "2025-03-11T00:00:00.000000000",
          "2025-03-12T00:00:00.000000000",
          "2025-03-13T00:00:00.000000000",
          "2025-03-14T00:00:00.000000000",
          "2025-03-15T00:00:00.000000000",
          "2025-03-16T00:00:00.000000000",
          "2025-03-17T00:00:00.000000000",
          "2025-03-18T00:00:00.000000000",
          "2025-03-19T00:00:00.000000000",
          "2025-03-20T00:00:00.000000000",
          "2025-03-21T00:00:00.000000000",
          "2025-03-22T00:00:00.000000000",
          "2025-03-23T00:00:00.000000000",
          "2025-03-24T00:00:00.000000000",
          "2025-03-25T00:00:00.000000000",
          "2025-03-26T00:00:00.000000000",
          "2025-03-27T00:00:00.000000000",
          "2025-03-28T00:00:00.000000000",
          "2025-03-29T00:00:00.000000000",
          "2025-03-30T00:00:00.000000000",
          "2025-03-31T00:00:00.000000000",
          "2025-04-01T00:00:00.000000000",
          "2025-04-02T00:00:00.000000000",
          "2025-04-03T00:00:00.000000000",
          "2025-04-04T00:00:00.000000000",
          "2025-04-05T00:00:00.000000000",
          "2025-04-06T00:00:00.000000000",
          "2025-04-07T00:00:00.000000000",
          "2025-04-08T00:00:00.000000000",
          "2025-04-09T00:00:00.000000000",
          "2025-04-10T00:00:00.000000000",
          "2025-04-11T00:00:00.000000000",
          "2025-04-12T00:00:00.000000000",
          "2025-04-13T00:00:00.000000000",
          "2025-04-14T00:00:00.000000000",
          "2025-04-15T00:00:00.000000000",
          "2025-04-16T00:00:00.000000000",
          "2025-04-17T00:00:00.000000000",
          "2025-04-18T00:00:00.000000000",
          "2025-04-19T00:00:00.000000000",
          "2025-04-20T00:00:00.000000000",
          "2025-04-21T00:00:00.000000000",
          "2025-04-22T00:00:00.000000000",
          "2025-04-23T00:00:00.000000000",
          "2025-04-24T00:00:00.000000000",
          "2025-04-25T00:00:00.000000000",
          "2025-04-26T00:00:00.000000000",
          "2025-04-27T00:00:00.000000000",
          "2025-04-28T00:00:00.000000000",
          "2025-04-29T00:00:00.000000000",
          "2025-04-30T00:00:00.000000000",
          "2025-05-01T00:00:00.000000000",
          "2025-05-02T00:00:00.000000000",
          "2025-05-03T00:00:00.000000000",
          "2025-05-04T00:00:00.000000000",
          "2025-05-05T00:00:00.000000000",
          "2025-05-06T00:00:00.000000000",
          "2025-05-07T00:00:00.000000000",
          "2025-05-08T00:00:00.000000000",
          "2025-05-09T00:00:00.000000000",
          "2025-05-10T00:00:00.000000000",
          "2025-05-11T00:00:00.000000000",
          "2025-05-12T00:00:00.000000000",
          "2025-05-13T00:00:00.000000000",
          "2025-05-14T00:00:00.000000000",
          "2025-05-15T00:00:00.000000000",
          "2025-05-16T00:00:00.000000000",
          "2025-05-17T00:00:00.000000000",
          "2025-05-18T00:00:00.000000000",
          "2025-05-19T00:00:00.000000000",
          "2025-05-20T00:00:00.000000000",
          "2025-05-21T00:00:00.000000000",
          "2025-05-22T00:00:00.000000000",
          "2025-05-23T00:00:00.000000000",
          "2025-05-24T00:00:00.000000000",
          "2025-05-25T00:00:00.000000000",
          "2025-05-26T00:00:00.000000000",
          "2025-05-27T00:00:00.000000000",
          "2025-05-28T00:00:00.000000000",
          "2025-05-29T00:00:00.000000000",
          "2025-05-30T00:00:00.000000000",
          "2025-05-31T00:00:00.000000000",
          "2025-06-01T00:00:00.000000000",
          "2025-06-02T00:00:00.000000000",
          "2025-06-03T00:00:00.000000000",
          "2025-06-04T00:00:00.000000000",
          "2025-06-05T00:00:00.000000000",
          "2025-06-06T00:00:00.000000000",
          "2025-06-07T00:00:00.000000000",
          "2025-06-08T00:00:00.000000000",
          "2025-06-09T00:00:00.000000000",
          "2025-06-10T00:00:00.000000000",
          "2025-06-11T00:00:00.000000000",
          "2025-06-12T00:00:00.000000000",
          "2025-06-13T00:00:00.000000000",
          "2025-06-14T00:00:00.000000000",
          "2025-06-15T00:00:00.000000000",
          "2025-06-16T00:00:00.000000000",
          "2025-06-17T00:00:00.000000000",
          "2025-06-18T00:00:00.000000000",
          "2025-06-19T00:00:00.000000000",
          "2025-06-20T00:00:00.000000000",
          "2025-06-21T00:00:00.000000000",
          "2025-06-22T00:00:00.000000000",
          "2025-06-23T00:00:00.000000000",
          "2025-06-24T00:00:00.000000000",
          "2025-06-25T00:00:00.000000000",
          "2025-06-26T00:00:00.000000000",
          "2025-06-27T00:00:00.000000000",
          "2025-06-28T00:00:00.000000000",
          "2025-06-29T00:00:00.000000000",
          "2025-06-30T00:00:00.000000000",
          "2025-07-01T00:00:00.000000000",
          "2025-07-02T00:00:00.000000000",
          "2025-07-03T00:00:00.000000000",
          "2025-07-04T00:00:00.000000000",
          "2025-07-05T00:00:00.000000000",
          "2025-07-06T00:00:00.000000000",
          "2025-07-07T00:00:00.000000000",
          "2025-07-08T00:00:00.000000000",
          "2025-07-09T00:00:00.000000000",
          "2025-07-10T00:00:00.000000000",
          "2025-07-11T00:00:00.000000000",
          "2025-07-12T00:00:00.000000000",
          "2025-07-13T00:00:00.000000000",
          "2025-07-14T00:00:00.000000000",
          "2025-07-15T00:00:00.000000000",
          "2025-07-16T00:00:00.000000000",
          "2025-07-17T00:00:00.000000000",
          "2025-07-18T00:00:00.000000000",
          "2025-07-19T00:00:00.000000000",
          "2025-07-20T00:00:00.000000000",
          "2025-07-21T00:00:00.000000000",
          "2025-07-22T00:00:00.000000000",
          "2025-07-23T00:00:00.000000000",
          "2025-07-24T00:00:00.000000000",
          "2025-07-25T00:00:00.000000000",
          "2025-07-26T00:00:00.000000000",
          "2025-07-27T00:00:00.000000000",
          "2025-07-28T00:00:00.000000000",
          "2025-07-29T00:00:00.000000000",
          "2025-07-30T00:00:00.000000000",
          "2025-07-31T00:00:00.000000000",
          "2025-08-01T00:00:00.000000000",
          "2025-08-02T00:00:00.000000000",
          "2025-08-03T00:00:00.000000000",
          "2025-08-04T00:00:00.000000000",
          "2025-08-05T00:00:00.000000000",
          "2025-08-06T00:00:00.000000000",
          "2025-08-07T00:00:00.000000000",
          "2025-08-08T00:00:00.000000000",
          "2025-08-09T00:00:00.000000000",
          "2025-08-10T00:00:00.000000000",
          "2025-08-11T00:00:00.000000000",
          "2025-08-12T00:00:00.000000000",
          "2025-08-13T00:00:00.000000000",
          "2025-08-14T00:00:00.000000000",
          "2025-08-15T00:00:00.000000000",
          "2025-08-16T00:00:00.000000000",
          "2025-08-17T00:00:00.000000000",
          "2025-08-18T00:00:00.000000000",
          "2025-08-19T00:00:00.000000000",
          "2025-08-20T00:00:00.000000000",
          "2025-08-21T00:00:00.000000000",
          "2025-08-22T00:00:00.000000000",
          "2025-08-23T00:00:00.000000000",
          "2025-08-24T00:00:00.000000000",
          "2025-08-25T00:00:00.000000000",
          "2025-08-26T00:00:00.000000000",
          "2025-08-27T00:00:00.000000000",
          "2025-08-28T00:00:00.000000000",
          "2025-08-29T00:00:00.000000000",
          "2025-08-30T00:00:00.000000000",
          "2025-08-31T00:00:00.000000000"
         ],
         "xaxis": "x",
         "y": {
          "bdata": "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",
          "dtype": "f8"
         },
         "yaxis": "y"
        },
        {
         "hovertemplate": "%{x|%Y-%m-%d}<br>Cumulative: €%{y:,.2f}<extra></extra>",
         "line": {
          "color": "blue",
          "width": 2
         },
         "mode": "lines",
         "name": "Cumulative Cash",
         "type": "scatter",
         "x": [
          "2025-01-01T00:00:00.000000000",
          "2025-01-02T00:00:00.000000000",
          "2025-01-03T00:00:00.000000000",
          "2025-01-04T00:00:00.000000000",
          "2025-01-05T00:00:00.000000000",
          "2025-01-06T00:00:00.000000000",
          "2025-01-07T00:00:00.000000000",
          "2025-01-08T00:00:00.000000000",
          "2025-01-09T00:00:00.000000000",
          "2025-01-10T00:00:00.000000000",
          "2025-01-11T00:00:00.000000000",
          "2025-01-12T00:00:00.000000000",
          "2025-01-13T00:00:00.000000000",
          "2025-01-14T00:00:00.000000000",
          "2025-01-15T00:00:00.000000000",
          "2025-01-16T00:00:00.000000000",
          "2025-01-17T00:00:00.000000000",
          "2025-01-18T00:00:00.000000000",
          "2025-01-19T00:00:00.000000000",
          "2025-01-20T00:00:00.000000000",
          "2025-01-21T00:00:00.000000000",
          "2025-01-22T00:00:00.000000000",
          "2025-01-23T00:00:00.000000000",
          "2025-01-24T00:00:00.000000000",
          "2025-01-25T00:00:00.000000000",
          "2025-01-26T00:00:00.000000000",
          "2025-01-27T00:00:00.000000000",
          "2025-01-28T00:00:00.000000000",
          "2025-01-29T00:00:00.000000000",
          "2025-01-30T00:00:00.000000000",
          "2025-01-31T00:00:00.000000000",
          "2025-02-01T00:00:00.000000000",
          "2025-02-02T00:00:00.000000000",
          "2025-02-03T00:00:00.000000000",
          "2025-02-04T00:00:00.000000000",
          "2025-02-05T00:00:00.000000000",
          "2025-02-06T00:00:00.000000000",
          "2025-02-07T00:00:00.000000000",
          "2025-02-08T00:00:00.000000000",
          "2025-02-09T00:00:00.000000000",
          "2025-02-10T00:00:00.000000000",
          "2025-02-11T00:00:00.000000000",
          "2025-02-12T00:00:00.000000000",
          "2025-02-13T00:00:00.000000000",
          "2025-02-14T00:00:00.000000000",
          "2025-02-15T00:00:00.000000000",
          "2025-02-16T00:00:00.000000000",
          "2025-02-17T00:00:00.000000000",
          "2025-02-18T00:00:00.000000000",
          "2025-02-19T00:00:00.000000000",
          "2025-02-20T00:00:00.000000000",
          "2025-02-21T00:00:00.000000000",
          "2025-02-22T00:00:00.000000000",
          "2025-02-23T00:00:00.000000000",
          "2025-02-24T00:00:00.000000000",
          "2025-02-25T00:00:00.000000000",
          "2025-02-26T00:00:00.000000000",
          "2025-02-27T00:00:00.000000000",
          "2025-02-28T00:00:00.000000000",
          "2025-03-01T00:00:00.000000000",
          "2025-03-02T00:00:00.000000000",
          "2025-03-03T00:00:00.000000000",
          "2025-03-04T00:00:00.000000000",
          "2025-03-05T00:00:00.000000000",
          "2025-03-06T00:00:00.000000000",
          "2025-03-07T00:00:00.000000000",
          "2025-03-08T00:00:00.000000000",
          "2025-03-09T00:00:00.000000000",
          "2025-03-10T00:00:00.000000000",
          "2025-03-11T00:00:00.000000000",
          "2025-03-12T00:00:00.000000000",
          "2025-03-13T00:00:00.000000000",
          "2025-03-14T00:00:00.000000000",
          "2025-03-15T00:00:00.000000000",
          "2025-03-16T00:00:00.000000000",
          "2025-03-17T00:00:00.000000000",
          "2025-03-18T00:00:00.000000000",
          "2025-03-19T00:00:00.000000000",
          "2025-03-20T00:00:00.000000000",
          "2025-03-21T00:00:00.000000000",
          "2025-03-22T00:00:00.000000000",
          "2025-03-23T00:00:00.000000000",
          "2025-03-24T00:00:00.000000000",
          "2025-03-25T00:00:00.000000000",
          "2025-03-26T00:00:00.000000000",
          "2025-03-27T00:00:00.000000000",
          "2025-03-28T00:00:00.000000000",
          "2025-03-29T00:00:00.000000000",
          "2025-03-30T00:00:00.000000000",
          "2025-03-31T00:00:00.000000000",
          "2025-04-01T00:00:00.000000000",
          "2025-04-02T00:00:00.000000000",
          "2025-04-03T00:00:00.000000000",
          "2025-04-04T00:00:00.000000000",
          "2025-04-05T00:00:00.000000000",
          "2025-04-06T00:00:00.000000000",
          "2025-04-07T00:00:00.000000000",
          "2025-04-08T00:00:00.000000000",
          "2025-04-09T00:00:00.000000000",
          "2025-04-10T00:00:00.000000000",
          "2025-04-11T00:00:00.000000000",
          "2025-04-12T00:00:00.000000000",
          "2025-04-13T00:00:00.000000000",
          "2025-04-14T00:00:00.000000000",
          "2025-04-15T00:00:00.000000000",
          "2025-04-16T00:00:00.000000000",
          "2025-04-17T00:00:00.000000000",
          "2025-04-18T00:00:00.000000000",
          "2025-04-19T00:00:00.000000000",
          "2025-04-20T00:00:00.000000000",
          "2025-04-21T00:00:00.000000000",
          "2025-04-22T00:00:00.000000000",
          "2025-04-23T00:00:00.000000000",
          "2025-04-24T00:00:00.000000000",
          "2025-04-25T00:00:00.000000000",
          "2025-04-26T00:00:00.000000000",
          "2025-04-27T00:00:00.000000000",
          "2025-04-28T00:00:00.000000000",
          "2025-04-29T00:00:00.000000000",
          "2025-04-30T00:00:00.000000000",
          "2025-05-01T00:00:00.000000000",
          "2025-05-02T00:00:00.000000000",
          "2025-05-03T00:00:00.000000000",
          "2025-05-04T00:00:00.000000000",
          "2025-05-05T00:00:00.000000000",
          "2025-05-06T00:00:00.000000000",
          "2025-05-07T00:00:00.000000000",
          "2025-05-08T00:00:00.000000000",
          "2025-05-09T00:00:00.000000000",
          "2025-05-10T00:00:00.000000000",
          "2025-05-11T00:00:00.000000000",
          "2025-05-12T00:00:00.000000000",
          "2025-05-13T00:00:00.000000000",
          "2025-05-14T00:00:00.000000000",
          "2025-05-15T00:00:00.000000000",
          "2025-05-16T00:00:00.000000000",
          "2025-05-17T00:00:00.000000000",
          "2025-05-18T00:00:00.000000000",
          "2025-05-19T00:00:00.000000000",
          "2025-05-20T00:00:00.000000000",
          "2025-05-21T00:00:00.000000000",
          "2025-05-22T00:00:00.000000000",
          "2025-05-23T00:00:00.000000000",
          "2025-05-24T00:00:00.000000000",
          "2025-05-25T00:00:00.000000000",
          "2025-05-26T00:00:00.000000000",
          "2025-05-27T00:00:00.000000000",
          "2025-05-28T00:00:00.000000000",
          "2025-05-29T00:00:00.000000000",
          "2025-05-30T00:00:00.000000000",
          "2025-05-31T00:00:00.000000000",
          "2025-06-01T00:00:00.000000000",
          "2025-06-02T00:00:00.000000000",
          "2025-06-03T00:00:00.000000000",
          "2025-06-04T00:00:00.000000000",
          "2025-06-05T00:00:00.000000000",
          "2025-06-06T00:00:00.000000000",
          "2025-06-07T00:00:00.000000000",
          "2025-06-08T00:00:00.000000000",
          "2025-06-09T00:00:00.000000000",
          "2025-06-10T00:00:00.000000000",
          "2025-06-11T00:00:00.000000000",
          "2025-06-12T00:00:00.000000000",
          "2025-06-13T00:00:00.000000000",
          "2025-06-14T00:00:00.000000000",
          "2025-06-15T00:00:00.000000000",
          "2025-06-16T00:00:00.000000000",
          "2025-06-17T00:00:00.000000000",
          "2025-06-18T00:00:00.000000000",
          "2025-06-19T00:00:00.000000000",
          "2025-06-20T00:00:00.000000000",
          "2025-06-21T00:00:00.000000000",
          "2025-06-22T00:00:00.000000000",
          "2025-06-23T00:00:00.000000000",
          "2025-06-24T00:00:00.000000000",
          "2025-06-25T00:00:00.000000000",
          "2025-06-26T00:00:00.000000000",
          "2025-06-27T00:00:00.000000000",
          "2025-06-28T00:00:00.000000000",
          "2025-06-29T00:00:00.000000000",
          "2025-06-30T00:00:00.000000000",
          "2025-07-01T00:00:00.000000000",
          "2025-07-02T00:00:00.000000000",
          "2025-07-03T00:00:00.000000000",
          "2025-07-04T00:00:00.000000000",
          "2025-07-05T00:00:00.000000000",
          "2025-07-06T00:00:00.000000000",
          "2025-07-07T00:00:00.000000000",
          "2025-07-08T00:00:00.000000000",
          "2025-07-09T00:00:00.000000000",
          "2025-07-10T00:00:00.000000000",
          "2025-07-11T00:00:00.000000000",
          "2025-07-12T00:00:00.000000000",
          "2025-07-13T00:00:00.000000000",
          "2025-07-14T00:00:00.000000000",
          "2025-07-15T00:00:00.000000000",
          "2025-07-16T00:00:00.000000000",
          "2025-07-17T00:00:00.000000000",
          "2025-07-18T00:00:00.000000000",
          "2025-07-19T00:00:00.000000000",
          "2025-07-20T00:00:00.000000000",
          "2025-07-21T00:00:00.000000000",
          "2025-07-22T00:00:00.000000000",
          "2025-07-23T00:00:00.000000000",
          "2025-07-24T00:00:00.000000000",
          "2025-07-25T00:00:00.000000000",
          "2025-07-26T00:00:00.000000000",
          "2025-07-27T00:00:00.000000000",
          "2025-07-28T00:00:00.000000000",
          "2025-07-29T00:00:00.000000000",
          "2025-07-30T00:00:00.000000000",
          "2025-07-31T00:00:00.000000000",
          "2025-08-01T00:00:00.000000000",
          "2025-08-02T00:00:00.000000000",
          "2025-08-03T00:00:00.000000000",
          "2025-08-04T00:00:00.000000000",
          "2025-08-05T00:00:00.000000000",
          "2025-08-06T00:00:00.000000000",
          "2025-08-07T00:00:00.000000000",
          "2025-08-08T00:00:00.000000000",
          "2025-08-09T00:00:00.000000000",
          "2025-08-10T00:00:00.000000000",
          "2025-08-11T00:00:00.000000000",
          "2025-08-12T00:00:00.000000000",
          "2025-08-13T00:00:00.000000000",
          "2025-08-14T00:00:00.000000000",
          "2025-08-15T00:00:00.000000000",
          "2025-08-16T00:00:00.000000000",
          "2025-08-17T00:00:00.000000000",
          "2025-08-18T00:00:00.000000000",
          "2025-08-19T00:00:00.000000000",
          "2025-08-20T00:00:00.000000000",
          "2025-08-21T00:00:00.000000000",
          "2025-08-22T00:00:00.000000000",
          "2025-08-23T00:00:00.000000000",
          "2025-08-24T00:00:00.000000000",
          "2025-08-25T00:00:00.000000000",
          "2025-08-26T00:00:00.000000000",
          "2025-08-27T00:00:00.000000000",
          "2025-08-28T00:00:00.000000000",
          "2025-08-29T00:00:00.000000000",
          "2025-08-30T00:00:00.000000000",
          "2025-08-31T00:00:00.000000000"
         ],
         "xaxis": "x",
         "y": {
          "bdata": "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",
          "dtype": "f8"
         },
         "yaxis": "y2"
        }
       ],
       "layout": {
        "height": 600,
        "hovermode": "x unified",
        "legend": {
         "orientation": "h",
         "x": 1,
         "xanchor": "right",
         "y": 1.02,
         "yanchor": "bottom"
        },
        "template": {
         "data": {
          "bar": [
           {
            "error_x": {
             "color": "#2a3f5f"
            },
            "error_y": {
             "color": "#2a3f5f"
            },
            "marker": {
             "line": {
              "color": "#E5ECF6",
              "width": 0.5
             },
             "pattern": {
              "fillmode": "overlay",
              "size": 10,
              "solidity": 0.2
             }
            },
            "type": "bar"
           }
          ],
          "barpolar": [
           {
            "marker": {
             "line": {
              "color": "#E5ECF6",
              "width": 0.5
             },
             "pattern": {
              "fillmode": "overlay",
              "size": 10,
              "solidity": 0.2
             }
            },
            "type": "barpolar"
           }
          ],
          "carpet": [
           {
            "aaxis": {
             "endlinecolor": "#2a3f5f",
             "gridcolor": "white",
             "linecolor": "white",
             "minorgridcolor": "white",
             "startlinecolor": "#2a3f5f"
            },
            "baxis": {
             "endlinecolor": "#2a3f5f",
             "gridcolor": "white",
             "linecolor": "white",
             "minorgridcolor": "white",
             "startlinecolor": "#2a3f5f"
            },
            "type": "carpet"
           }
          ],
          "choropleth": [
           {
            "colorbar": {
             "outlinewidth": 0,
             "ticks": ""
            },
            "type": "choropleth"
           }
          ],
          "contour": [
           {
            "colorbar": {
             "outlinewidth": 0,
             "ticks": ""
            },
            "colorscale": [
             [
              0,
              "#0d0887"
             ],
             [
              0.1111111111111111,
              "#46039f"
             ],
             [
              0.2222222222222222,
              "#7201a8"
             ],
             [
              0.3333333333333333,
              "#9c179e"
             ],
             [
              0.4444444444444444,
              "#bd3786"
             ],
             [
              0.5555555555555556,
              "#d8576b"
             ],
             [
              0.6666666666666666,
              "#ed7953"
             ],
             [
              0.7777777777777778,
              "#fb9f3a"
             ],
             [
              0.8888888888888888,
              "#fdca26"
             ],
             [
              1,
              "#f0f921"
             ]
            ],
            "type": "contour"
           }
          ],
          "contourcarpet": [
           {
            "colorbar": {
             "outlinewidth": 0,
             "ticks": ""
            },
            "type": "contourcarpet"
           }
          ],
          "heatmap": [
           {
            "colorbar": {
             "outlinewidth": 0,
             "ticks": ""
            },
            "colorscale": [
             [
              0,
              "#0d0887"
             ],
             [
              0.1111111111111111,
              "#46039f"
             ],
             [
              0.2222222222222222,
              "#7201a8"
             ],
             [
              0.3333333333333333,
              "#9c179e"
             ],
             [
              0.4444444444444444,
              "#bd3786"
             ],
             [
              0.5555555555555556,
              "#d8576b"
             ],
             [
              0.6666666666666666,
              "#ed7953"
             ],
             [
              0.7777777777777778,
              "#fb9f3a"
             ],
             [
              0.8888888888888888,
              "#fdca26"
             ],
             [
              1,
              "#f0f921"
             ]
            ],
            "type": "heatmap"
           }
          ],
          "histogram": [
           {
            "marker": {
             "pattern": {
              "fillmode": "overlay",
              "size": 10,
              "solidity": 0.2
             }
            },
            "type": "histogram"
           }
          ],
          "histogram2d": [
           {
            "colorbar": {
             "outlinewidth": 0,
             "ticks": ""
            },
            "colorscale": [
             [
              0,
              "#0d0887"
             ],
             [
              0.1111111111111111,
              "#46039f"
             ],
             [
              0.2222222222222222,
              "#7201a8"
             ],
             [
              0.3333333333333333,
              "#9c179e"
             ],
             [
              0.4444444444444444,
              "#bd3786"
             ],
             [
              0.5555555555555556,
              "#d8576b"
             ],
             [
              0.6666666666666666,
              "#ed7953"
             ],
             [
              0.7777777777777778,
              "#fb9f3a"
             ],
             [
              0.8888888888888888,
              "#fdca26"
             ],
             [
              1,
              "#f0f921"
             ]
            ],
            "type": "histogram2d"
           }
          ],
          "histogram2dcontour": [
           {
            "colorbar": {
             "outlinewidth": 0,
             "ticks": ""
            },
            "colorscale": [
             [
              0,
              "#0d0887"
             ],
             [
              0.1111111111111111,
              "#46039f"
             ],
             [
              0.2222222222222222,
              "#7201a8"
             ],
             [
              0.3333333333333333,
              "#9c179e"
             ],
             [
              0.4444444444444444,
              "#bd3786"
             ],
             [
              0.5555555555555556,
              "#d8576b"
             ],
             [
              0.6666666666666666,
              "#ed7953"
             ],
             [
              0.7777777777777778,
              "#fb9f3a"
             ],
             [
              0.8888888888888888,
              "#fdca26"
             ],
             [
              1,
              "#f0f921"
             ]
            ],
            "type": "histogram2dcontour"
           }
          ],
          "mesh3d": [
           {
            "colorbar": {
             "outlinewidth": 0,
             "ticks": ""
            },
            "type": "mesh3d"
           }
          ],
          "parcoords": [
           {
            "line": {
             "colorbar": {
              "outlinewidth": 0,
              "ticks": ""
             }
            },
            "type": "parcoords"
           }
          ],
          "pie": [
           {
            "automargin": true,
            "type": "pie"
           }
          ],
          "scatter": [
           {
            "fillpattern": {
             "fillmode": "overlay",
             "size": 10,
             "solidity": 0.2
            },
            "type": "scatter"
           }
          ],
          "scatter3d": [
           {
            "line": {
             "colorbar": {
              "outlinewidth": 0,
              "ticks": ""
             }
            },
            "marker": {
             "colorbar": {
              "outlinewidth": 0,
              "ticks": ""
             }
            },
            "type": "scatter3d"
           }
          ],
          "scattercarpet": [
           {
            "marker": {
             "colorbar": {
              "outlinewidth": 0,
              "ticks": ""
             }
            },
            "type": "scattercarpet"
           }
          ],
          "scattergeo": [
           {
            "marker": {
             "colorbar": {
              "outlinewidth": 0,
              "ticks": ""
             }
            },
            "type": "scattergeo"
           }
          ],
          "scattergl": [
           {
            "marker": {
             "colorbar": {
              "outlinewidth": 0,
              "ticks": ""
             }
            },
            "type": "scattergl"
           }
          ],
          "scattermap": [
           {
            "marker": {
             "colorbar": {
              "outlinewidth": 0,
              "ticks": ""
             }
            },
            "type": "scattermap"
           }
          ],
          "scattermapbox": [
           {
            "marker": {
             "colorbar": {
              "outlinewidth": 0,
              "ticks": ""
             }
            },
            "type": "scattermapbox"
           }
          ],
          "scatterpolar": [
           {
            "marker": {
             "colorbar": {
              "outlinewidth": 0,
              "ticks": ""
             }
            },
            "type": "scatterpolar"
           }
          ],
          "scatterpolargl": [
           {
            "marker": {
             "colorbar": {
              "outlinewidth": 0,
              "ticks": ""
             }
            },
            "type": "scatterpolargl"
           }
          ],
          "scatterternary": [
           {
            "marker": {
             "colorbar": {
              "outlinewidth": 0,
              "ticks": ""
             }
            },
            "type": "scatterternary"
           }
          ],
          "surface": [
           {
            "colorbar": {
             "outlinewidth": 0,
             "ticks": ""
            },
            "colorscale": [
             [
              0,
              "#0d0887"
             ],
             [
              0.1111111111111111,
              "#46039f"
             ],
             [
              0.2222222222222222,
              "#7201a8"
             ],
             [
              0.3333333333333333,
              "#9c179e"
             ],
             [
              0.4444444444444444,
              "#bd3786"
             ],
             [
              0.5555555555555556,
              "#d8576b"
             ],
             [
              0.6666666666666666,
              "#ed7953"
             ],
             [
              0.7777777777777778,
              "#fb9f3a"
             ],
             [
              0.8888888888888888,
              "#fdca26"
             ],
             [
              1,
              "#f0f921"
             ]
            ],
            "type": "surface"
           }
          ],
          "table": [
           {
            "cells": {
             "fill": {
              "color": "#EBF0F8"
             },
             "line": {
              "color": "white"
             }
            },
            "header": {
             "fill": {
              "color": "#C8D4E3"
             },
             "line": {
              "color": "white"
             }
            },
            "type": "table"
           }
          ]
         },
         "layout": {
          "annotationdefaults": {
           "arrowcolor": "#2a3f5f",
           "arrowhead": 0,
           "arrowwidth": 1
          },
          "autotypenumbers": "strict",
          "coloraxis": {
           "colorbar": {
            "outlinewidth": 0,
            "ticks": ""
           }
          },
          "colorscale": {
           "diverging": [
            [
             0,
             "#8e0152"
            ],
            [
             0.1,
             "#c51b7d"
            ],
            [
             0.2,
             "#de77ae"
            ],
            [
             0.3,
             "#f1b6da"
            ],
            [
             0.4,
             "#fde0ef"
            ],
            [
             0.5,
             "#f7f7f7"
            ],
            [
             0.6,
             "#e6f5d0"
            ],
            [
             0.7,
             "#b8e186"
            ],
            [
             0.8,
             "#7fbc41"
            ],
            [
             0.9,
             "#4d9221"
            ],
            [
             1,
             "#276419"
            ]
           ],
           "sequential": [
            [
             0,
             "#0d0887"
            ],
            [
             0.1111111111111111,
             "#46039f"
            ],
            [
             0.2222222222222222,
             "#7201a8"
            ],
            [
             0.3333333333333333,
             "#9c179e"
            ],
            [
             0.4444444444444444,
             "#bd3786"
            ],
            [
             0.5555555555555556,
             "#d8576b"
            ],
            [
             0.6666666666666666,
             "#ed7953"
            ],
            [
             0.7777777777777778,
             "#fb9f3a"
            ],
            [
             0.8888888888888888,
             "#fdca26"
            ],
            [
             1,
             "#f0f921"
            ]
           ],
           "sequentialminus": [
            [
             0,
             "#0d0887"
            ],
            [
             0.1111111111111111,
             "#46039f"
            ],
            [
             0.2222222222222222,
             "#7201a8"
            ],
            [
             0.3333333333333333,
             "#9c179e"
            ],
            [
             0.4444444444444444,
             "#bd3786"
            ],
            [
             0.5555555555555556,
             "#d8576b"
            ],
            [
             0.6666666666666666,
             "#ed7953"
            ],
            [
             0.7777777777777778,
             "#fb9f3a"
            ],
            [
             0.8888888888888888,
             "#fdca26"
            ],
            [
             1,
             "#f0f921"
            ]
           ]
          },
          "colorway": [
           "#636efa",
           "#EF553B",
           "#00cc96",
           "#ab63fa",
           "#FFA15A",
           "#19d3f3",
           "#FF6692",
           "#B6E880",
           "#FF97FF",
           "#FECB52"
          ],
          "font": {
           "color": "#2a3f5f"
          },
          "geo": {
           "bgcolor": "white",
           "lakecolor": "white",
           "landcolor": "#E5ECF6",
           "showlakes": true,
           "showland": true,
           "subunitcolor": "white"
          },
          "hoverlabel": {
           "align": "left"
          },
          "hovermode": "closest",
          "mapbox": {
           "style": "light"
          },
          "paper_bgcolor": "white",
          "plot_bgcolor": "#E5ECF6",
          "polar": {
           "angularaxis": {
            "gridcolor": "white",
            "linecolor": "white",
            "ticks": ""
           },
           "bgcolor": "#E5ECF6",
           "radialaxis": {
            "gridcolor": "white",
            "linecolor": "white",
            "ticks": ""
           }
          },
          "scene": {
           "xaxis": {
            "backgroundcolor": "#E5ECF6",
            "gridcolor": "white",
            "gridwidth": 2,
            "linecolor": "white",
            "showbackground": true,
            "ticks": "",
            "zerolinecolor": "white"
           },
           "yaxis": {
            "backgroundcolor": "#E5ECF6",
            "gridcolor": "white",
            "gridwidth": 2,
            "linecolor": "white",
            "showbackground": true,
            "ticks": "",
            "zerolinecolor": "white"
           },
           "zaxis": {
            "backgroundcolor": "#E5ECF6",
            "gridcolor": "white",
            "gridwidth": 2,
            "linecolor": "white",
            "showbackground": true,
            "ticks": "",
            "zerolinecolor": "white"
           }
          },
          "shapedefaults": {
           "line": {
            "color": "#2a3f5f"
           }
          },
          "ternary": {
           "aaxis": {
            "gridcolor": "white",
            "linecolor": "white",
            "ticks": ""
           },
           "baxis": {
            "gridcolor": "white",
            "linecolor": "white",
            "ticks": ""
           },
           "bgcolor": "#E5ECF6",
           "caxis": {
            "gridcolor": "white",
            "linecolor": "white",
            "ticks": ""
           }
          },
          "title": {
           "x": 0.05
          },
          "xaxis": {
           "automargin": true,
           "gridcolor": "white",
           "linecolor": "white",
           "ticks": "",
           "title": {
            "standoff": 15
           },
           "zerolinecolor": "white",
           "zerolinewidth": 2
          },
          "yaxis": {
           "automargin": true,
           "gridcolor": "white",
           "linecolor": "white",
           "ticks": "",
           "title": {
            "standoff": 15
           },
           "zerolinecolor": "white",
           "zerolinewidth": 2
          }
         }
        },
        "title": {
         "text": "Daily Net Cashflow & Cumulative Cash Position"
        },
        "width": 1200,
        "xaxis": {
         "anchor": "y",
         "domain": [
          0,
          0.94
         ],
         "title": {
          "text": "Date"
         }
        },
        "yaxis": {
         "anchor": "x",
         "domain": [
          0,
          1
         ],
         "title": {
          "text": "Net Cashflow (EUR)"
         }
        },
        "yaxis2": {
         "anchor": "x",
         "overlaying": "y",
         "side": "right",
         "title": {
          "text": "Cumulative Cash (EUR)"
         }
        }
       }
      }
     },
     "metadata": {},
     "output_type": "display_data"
    }
   ],
   "source": [
    "# CHART 3: Net Cashflow (Bar) + Cumulative Cash (Line)\n",
    "\n",
    "# Get starting balance from balances.csv (first date)\n",
    "starting_balance = balances.sort_values('balance_date')['amount'].iloc[0]\n",
    "print(f\"Starting balance from balances.csv: €{starting_balance:,.2f}\")\n",
    "\n",
    "# Calculate net cashflow per day - use loaded transactions\n",
    "cashflow_data = transactions.copy()\n",
    "cashflow_data['date'] = pd.to_datetime(cashflow_data[trx_date_col])\n",
    "cashflow_data['amount_signed'] = cashflow_data.apply(\n",
    "    lambda row: row['amount'] if row['credit_or_debit'] == 'CRDT' else -row['amount'], \n",
    "    axis=1\n",
    ")\n",
    "\n",
    "# Daily net cashflow\n",
    "daily_cashflow = cashflow_data.groupby('date')['amount_signed'].sum().reset_index()\n",
    "daily_cashflow.columns = ['date', 'net_cashflow']\n",
    "\n",
    "# Calculate cumulative cash starting from the initial balance\n",
    "daily_cashflow = daily_cashflow.sort_values('date')\n",
    "daily_cashflow['cumulative_cash'] = starting_balance + daily_cashflow['net_cashflow'].cumsum()\n",
    "\n",
    "# Create figure with secondary y-axis\n",
    "fig3 = make_subplots(specs=[[{\"secondary_y\": True}]])\n",
    "\n",
    "# Add net cashflow bars\n",
    "fig3.add_trace(\n",
    "    go.Bar(\n",
    "        x=daily_cashflow['date'],\n",
    "        y=daily_cashflow['net_cashflow'],\n",
    "        name='Net Cashflow',\n",
    "        marker_color=['green' if x >= 0 else 'red' for x in daily_cashflow['net_cashflow']],\n",
    "        hovertemplate='%{x|%Y-%m-%d}<br>Net Cashflow: €%{y:,.2f}<extra></extra>'\n",
    "    ),\n",
    "    secondary_y=False\n",
    ")\n",
    "\n",
    "# Add cumulative cash line\n",
    "fig3.add_trace(\n",
    "    go.Scatter(\n",
    "        x=daily_cashflow['date'],\n",
    "        y=daily_cashflow['cumulative_cash'],\n",
    "        name='Cumulative Cash',\n",
    "        mode='lines',\n",
    "        line=dict(color='blue', width=2),\n",
    "        hovertemplate='%{x|%Y-%m-%d}<br>Cumulative: €%{y:,.2f}<extra></extra>'\n",
    "    ),\n",
    "    secondary_y=True\n",
    ")\n",
    "\n",
    "# Update layout\n",
    "fig3.update_xaxes(title_text='Date')\n",
    "fig3.update_yaxes(title_text='Net Cashflow (EUR)', secondary_y=False)\n",
    "fig3.update_yaxes(title_text='Cumulative Cash (EUR)', secondary_y=True)\n",
    "\n",
    "fig3.update_layout(\n",
    "    title='Daily Net Cashflow & Cumulative Cash Position',\n",
    "    hovermode='x unified',\n",
    "    height=600,\n",
    "    width=1200,\n",
    "    legend=dict(orientation='h', yanchor='bottom', y=1.02, xanchor='right', x=1)\n",
    ")\n",
    "\n",
    "fig3.show()\n"
   ]
  },
  {
   "cell_type": "markdown",
   "id": "c4b4dd13",
   "metadata": {},
   "source": [
    "## 5) Chart 4: Monthly Balance Deviations\n",
    "\n",
    "This chart shows the deviation between actual end balances (from snapshots) and expected end balances (calculated from transactions using value_date).\n"
   ]
  },
  {
   "cell_type": "code",
   "execution_count": 21,
   "id": "d71c46a1",
   "metadata": {},
   "outputs": [
    {
     "name": "stdout",
     "output_type": "stream",
     "text": [
      "Using date column: booking_date\n"
     ]
    },
    {
     "data": {
      "application/vnd.plotly.v1+json": {
       "config": {
        "plotlyServerURL": "https://plot.ly"
       },
       "data": [
        {
         "hovertemplate": "%{x}<br>Deviation: €%{y:,.2f}<extra></extra>",
         "marker": {
          "color": [
           "green",
           "red",
           "green",
           "green",
           "green",
           "red",
           "red",
           "green"
          ]
         },
         "name": "Deviation",
         "type": "bar",
         "x": [
          "2025-01",
          "2025-02",
          "2025-03",
          "2025-04",
          "2025-05",
          "2025-06",
          "2025-07",
          "2025-08"
         ],
         "y": {
          "bdata": "ABiuR+FegkAAQLgehatAwABcj8J1WKZAAPYoXI/Nl0CACtej8MmqQAC4HoXrEZzAAML1KNzIpcAAAAAAAJ6KQA==",
          "dtype": "f8"
         }
        }
       ],
       "layout": {
        "annotations": [
         {
          "showarrow": false,
          "text": "Zero Deviation",
          "x": 1,
          "xanchor": "right",
          "xref": "x domain",
          "y": 0,
          "yanchor": "bottom",
          "yref": "y"
         }
        ],
        "height": 600,
        "hovermode": "x unified",
        "shapes": [
         {
          "line": {
           "color": "gray",
           "dash": "dash"
          },
          "type": "line",
          "x0": 0,
          "x1": 1,
          "xref": "x domain",
          "y0": 0,
          "y1": 0,
          "yref": "y"
         }
        ],
        "showlegend": false,
        "template": {
         "data": {
          "bar": [
           {
            "error_x": {
             "color": "#2a3f5f"
            },
            "error_y": {
             "color": "#2a3f5f"
            },
            "marker": {
             "line": {
              "color": "#E5ECF6",
              "width": 0.5
             },
             "pattern": {
              "fillmode": "overlay",
              "size": 10,
              "solidity": 0.2
             }
            },
            "type": "bar"
           }
          ],
          "barpolar": [
           {
            "marker": {
             "line": {
              "color": "#E5ECF6",
              "width": 0.5
             },
             "pattern": {
              "fillmode": "overlay",
              "size": 10,
              "solidity": 0.2
             }
            },
            "type": "barpolar"
           }
          ],
          "carpet": [
           {
            "aaxis": {
             "endlinecolor": "#2a3f5f",
             "gridcolor": "white",
             "linecolor": "white",
             "minorgridcolor": "white",
             "startlinecolor": "#2a3f5f"
            },
            "baxis": {
             "endlinecolor": "#2a3f5f",
             "gridcolor": "white",
             "linecolor": "white",
             "minorgridcolor": "white",
             "startlinecolor": "#2a3f5f"
            },
            "type": "carpet"
           }
          ],
          "choropleth": [
           {
            "colorbar": {
             "outlinewidth": 0,
             "ticks": ""
            },
            "type": "choropleth"
           }
          ],
          "contour": [
           {
            "colorbar": {
             "outlinewidth": 0,
             "ticks": ""
            },
            "colorscale": [
             [
              0,
              "#0d0887"
             ],
             [
              0.1111111111111111,
              "#46039f"
             ],
             [
              0.2222222222222222,
              "#7201a8"
             ],
             [
              0.3333333333333333,
              "#9c179e"
             ],
             [
              0.4444444444444444,
              "#bd3786"
             ],
             [
              0.5555555555555556,
              "#d8576b"
             ],
             [
              0.6666666666666666,
              "#ed7953"
             ],
             [
              0.7777777777777778,
              "#fb9f3a"
             ],
             [
              0.8888888888888888,
              "#fdca26"
             ],
             [
              1,
              "#f0f921"
             ]
            ],
            "type": "contour"
           }
          ],
          "contourcarpet": [
           {
            "colorbar": {
             "outlinewidth": 0,
             "ticks": ""
            },
            "type": "contourcarpet"
           }
          ],
          "heatmap": [
           {
            "colorbar": {
             "outlinewidth": 0,
             "ticks": ""
            },
            "colorscale": [
             [
              0,
              "#0d0887"
             ],
             [
              0.1111111111111111,
              "#46039f"
             ],
             [
              0.2222222222222222,
              "#7201a8"
             ],
             [
              0.3333333333333333,
              "#9c179e"
             ],
             [
              0.4444444444444444,
              "#bd3786"
             ],
             [
              0.5555555555555556,
              "#d8576b"
             ],
             [
              0.6666666666666666,
              "#ed7953"
             ],
             [
              0.7777777777777778,
              "#fb9f3a"
             ],
             [
              0.8888888888888888,
              "#fdca26"
             ],
             [
              1,
              "#f0f921"
             ]
            ],
            "type": "heatmap"
           }
          ],
          "histogram": [
           {
            "marker": {
             "pattern": {
              "fillmode": "overlay",
              "size": 10,
              "solidity": 0.2
             }
            },
            "type": "histogram"
           }
          ],
          "histogram2d": [
           {
            "colorbar": {
             "outlinewidth": 0,
             "ticks": ""
            },
            "colorscale": [
             [
              0,
              "#0d0887"
             ],
             [
              0.1111111111111111,
              "#46039f"
             ],
             [
              0.2222222222222222,
              "#7201a8"
             ],
             [
              0.3333333333333333,
              "#9c179e"
             ],
             [
              0.4444444444444444,
              "#bd3786"
             ],
             [
              0.5555555555555556,
              "#d8576b"
             ],
             [
              0.6666666666666666,
              "#ed7953"
             ],
             [
              0.7777777777777778,
              "#fb9f3a"
             ],
             [
              0.8888888888888888,
              "#fdca26"
             ],
             [
              1,
              "#f0f921"
             ]
            ],
            "type": "histogram2d"
           }
          ],
          "histogram2dcontour": [
           {
            "colorbar": {
             "outlinewidth": 0,
             "ticks": ""
            },
            "colorscale": [
             [
              0,
              "#0d0887"
             ],
             [
              0.1111111111111111,
              "#46039f"
             ],
             [
              0.2222222222222222,
              "#7201a8"
             ],
             [
              0.3333333333333333,
              "#9c179e"
             ],
             [
              0.4444444444444444,
              "#bd3786"
             ],
             [
              0.5555555555555556,
              "#d8576b"
             ],
             [
              0.6666666666666666,
              "#ed7953"
             ],
             [
              0.7777777777777778,
              "#fb9f3a"
             ],
             [
              0.8888888888888888,
              "#fdca26"
             ],
             [
              1,
              "#f0f921"
             ]
            ],
            "type": "histogram2dcontour"
           }
          ],
          "mesh3d": [
           {
            "colorbar": {
             "outlinewidth": 0,
             "ticks": ""
            },
            "type": "mesh3d"
           }
          ],
          "parcoords": [
           {
            "line": {
             "colorbar": {
              "outlinewidth": 0,
              "ticks": ""
             }
            },
            "type": "parcoords"
           }
          ],
          "pie": [
           {
            "automargin": true,
            "type": "pie"
           }
          ],
          "scatter": [
           {
            "fillpattern": {
             "fillmode": "overlay",
             "size": 10,
             "solidity": 0.2
            },
            "type": "scatter"
           }
          ],
          "scatter3d": [
           {
            "line": {
             "colorbar": {
              "outlinewidth": 0,
              "ticks": ""
             }
            },
            "marker": {
             "colorbar": {
              "outlinewidth": 0,
              "ticks": ""
             }
            },
            "type": "scatter3d"
           }
          ],
          "scattercarpet": [
           {
            "marker": {
             "colorbar": {
              "outlinewidth": 0,
              "ticks": ""
             }
            },
            "type": "scattercarpet"
           }
          ],
          "scattergeo": [
           {
            "marker": {
             "colorbar": {
              "outlinewidth": 0,
              "ticks": ""
             }
            },
            "type": "scattergeo"
           }
          ],
          "scattergl": [
           {
            "marker": {
             "colorbar": {
              "outlinewidth": 0,
              "ticks": ""
             }
            },
            "type": "scattergl"
           }
          ],
          "scattermap": [
           {
            "marker": {
             "colorbar": {
              "outlinewidth": 0,
              "ticks": ""
             }
            },
            "type": "scattermap"
           }
          ],
          "scattermapbox": [
           {
            "marker": {
             "colorbar": {
              "outlinewidth": 0,
              "ticks": ""
             }
            },
            "type": "scattermapbox"
           }
          ],
          "scatterpolar": [
           {
            "marker": {
             "colorbar": {
              "outlinewidth": 0,
              "ticks": ""
             }
            },
            "type": "scatterpolar"
           }
          ],
          "scatterpolargl": [
           {
            "marker": {
             "colorbar": {
              "outlinewidth": 0,
              "ticks": ""
             }
            },
            "type": "scatterpolargl"
           }
          ],
          "scatterternary": [
           {
            "marker": {
             "colorbar": {
              "outlinewidth": 0,
              "ticks": ""
             }
            },
            "type": "scatterternary"
           }
          ],
          "surface": [
           {
            "colorbar": {
             "outlinewidth": 0,
             "ticks": ""
            },
            "colorscale": [
             [
              0,
              "#0d0887"
             ],
             [
              0.1111111111111111,
              "#46039f"
             ],
             [
              0.2222222222222222,
              "#7201a8"
             ],
             [
              0.3333333333333333,
              "#9c179e"
             ],
             [
              0.4444444444444444,
              "#bd3786"
             ],
             [
              0.5555555555555556,
              "#d8576b"
             ],
             [
              0.6666666666666666,
              "#ed7953"
             ],
             [
              0.7777777777777778,
              "#fb9f3a"
             ],
             [
              0.8888888888888888,
              "#fdca26"
             ],
             [
              1,
              "#f0f921"
             ]
            ],
            "type": "surface"
           }
          ],
          "table": [
           {
            "cells": {
             "fill": {
              "color": "#EBF0F8"
             },
             "line": {
              "color": "white"
             }
            },
            "header": {
             "fill": {
              "color": "#C8D4E3"
             },
             "line": {
              "color": "white"
             }
            },
            "type": "table"
           }
          ]
         },
         "layout": {
          "annotationdefaults": {
           "arrowcolor": "#2a3f5f",
           "arrowhead": 0,
           "arrowwidth": 1
          },
          "autotypenumbers": "strict",
          "coloraxis": {
           "colorbar": {
            "outlinewidth": 0,
            "ticks": ""
           }
          },
          "colorscale": {
           "diverging": [
            [
             0,
             "#8e0152"
            ],
            [
             0.1,
             "#c51b7d"
            ],
            [
             0.2,
             "#de77ae"
            ],
            [
             0.3,
             "#f1b6da"
            ],
            [
             0.4,
             "#fde0ef"
            ],
            [
             0.5,
             "#f7f7f7"
            ],
            [
             0.6,
             "#e6f5d0"
            ],
            [
             0.7,
             "#b8e186"
            ],
            [
             0.8,
             "#7fbc41"
            ],
            [
             0.9,
             "#4d9221"
            ],
            [
             1,
             "#276419"
            ]
           ],
           "sequential": [
            [
             0,
             "#0d0887"
            ],
            [
             0.1111111111111111,
             "#46039f"
            ],
            [
             0.2222222222222222,
             "#7201a8"
            ],
            [
             0.3333333333333333,
             "#9c179e"
            ],
            [
             0.4444444444444444,
             "#bd3786"
            ],
            [
             0.5555555555555556,
             "#d8576b"
            ],
            [
             0.6666666666666666,
             "#ed7953"
            ],
            [
             0.7777777777777778,
             "#fb9f3a"
            ],
            [
             0.8888888888888888,
             "#fdca26"
            ],
            [
             1,
             "#f0f921"
            ]
           ],
           "sequentialminus": [
            [
             0,
             "#0d0887"
            ],
            [
             0.1111111111111111,
             "#46039f"
            ],
            [
             0.2222222222222222,
             "#7201a8"
            ],
            [
             0.3333333333333333,
             "#9c179e"
            ],
            [
             0.4444444444444444,
             "#bd3786"
            ],
            [
             0.5555555555555556,
             "#d8576b"
            ],
            [
             0.6666666666666666,
             "#ed7953"
            ],
            [
             0.7777777777777778,
             "#fb9f3a"
            ],
            [
             0.8888888888888888,
             "#fdca26"
            ],
            [
             1,
             "#f0f921"
            ]
           ]
          },
          "colorway": [
           "#636efa",
           "#EF553B",
           "#00cc96",
           "#ab63fa",
           "#FFA15A",
           "#19d3f3",
           "#FF6692",
           "#B6E880",
           "#FF97FF",
           "#FECB52"
          ],
          "font": {
           "color": "#2a3f5f"
          },
          "geo": {
           "bgcolor": "white",
           "lakecolor": "white",
           "landcolor": "#E5ECF6",
           "showlakes": true,
           "showland": true,
           "subunitcolor": "white"
          },
          "hoverlabel": {
           "align": "left"
          },
          "hovermode": "closest",
          "mapbox": {
           "style": "light"
          },
          "paper_bgcolor": "white",
          "plot_bgcolor": "#E5ECF6",
          "polar": {
           "angularaxis": {
            "gridcolor": "white",
            "linecolor": "white",
            "ticks": ""
           },
           "bgcolor": "#E5ECF6",
           "radialaxis": {
            "gridcolor": "white",
            "linecolor": "white",
            "ticks": ""
           }
          },
          "scene": {
           "xaxis": {
            "backgroundcolor": "#E5ECF6",
            "gridcolor": "white",
            "gridwidth": 2,
            "linecolor": "white",
            "showbackground": true,
            "ticks": "",
            "zerolinecolor": "white"
           },
           "yaxis": {
            "backgroundcolor": "#E5ECF6",
            "gridcolor": "white",
            "gridwidth": 2,
            "linecolor": "white",
            "showbackground": true,
            "ticks": "",
            "zerolinecolor": "white"
           },
           "zaxis": {
            "backgroundcolor": "#E5ECF6",
            "gridcolor": "white",
            "gridwidth": 2,
            "linecolor": "white",
            "showbackground": true,
            "ticks": "",
            "zerolinecolor": "white"
           }
          },
          "shapedefaults": {
           "line": {
            "color": "#2a3f5f"
           }
          },
          "ternary": {
           "aaxis": {
            "gridcolor": "white",
            "linecolor": "white",
            "ticks": ""
           },
           "baxis": {
            "gridcolor": "white",
            "linecolor": "white",
            "ticks": ""
           },
           "bgcolor": "#E5ECF6",
           "caxis": {
            "gridcolor": "white",
            "linecolor": "white",
            "ticks": ""
           }
          },
          "title": {
           "x": 0.05
          },
          "xaxis": {
           "automargin": true,
           "gridcolor": "white",
           "linecolor": "white",
           "ticks": "",
           "title": {
            "standoff": 15
           },
           "zerolinecolor": "white",
           "zerolinewidth": 2
          },
          "yaxis": {
           "automargin": true,
           "gridcolor": "white",
           "linecolor": "white",
           "ticks": "",
           "title": {
            "standoff": 15
           },
           "zerolinecolor": "white",
           "zerolinewidth": 2
          }
         }
        },
        "title": {
         "text": "Monthly Balance Deviations: Actual vs Expected (from Transactions)"
        },
        "width": 1200,
        "xaxis": {
         "title": {
          "text": "Month"
         }
        },
        "yaxis": {
         "title": {
          "text": "Deviation (EUR)"
         },
         "zeroline": true
        }
       }
      }
     },
     "metadata": {},
     "output_type": "display_data"
    },
    {
     "name": "stdout",
     "output_type": "stream",
     "text": [
      "\n",
      "Balance Deviation Summary:\n",
      "  month_str  start_balance_snapshot  tx_net_change  expected_end_balance  \\\n",
      "0   2025-01               614655.83      -12890.15             601765.68   \n",
      "1   2025-02               601786.05       -8386.18             593399.87   \n",
      "2   2025-03               592545.30      -46687.77             545857.53   \n",
      "3   2025-04               545989.01      -20844.24             525144.77   \n",
      "4   2025-05               525710.22      -15111.02             510599.20   \n",
      "5   2025-06               513823.12      -29978.39             483844.73   \n",
      "6   2025-07               480981.11      -31017.15             449963.96   \n",
      "7   2025-08               448789.38      -21893.88             426895.50   \n",
      "\n",
      "   end_balance_snapshot  deviation  \n",
      "0             602353.54     587.86  \n",
      "1             593366.53     -33.34  \n",
      "2             548717.76    2860.23  \n",
      "3             526668.16    1523.39  \n",
      "4             514028.17    3428.97  \n",
      "5             482048.25   -1796.48  \n",
      "6             447175.53   -2788.43  \n",
      "7             427747.25     851.75  \n"
     ]
    }
   ],
   "source": [
    "# CHART 4: Monthly Balance Deviations\n",
    "\n",
    "# Confirm which date column is being used\n",
    "print(f\"Using date column: {trx_date_col}\")\n",
    "\n",
    "# Prepare balances data - use loaded balances\n",
    "bal = balances.copy()\n",
    "bal['date'] = pd.to_datetime(bal['balance_date'])\n",
    "bal['month'] = bal['date'].dt.to_period('M')\n",
    "\n",
    "# Get first and last balance per month from snapshots\n",
    "monthly_bal = bal.groupby('month').agg({\n",
    "    'amount': ['first', 'last'],\n",
    "    'date': ['min', 'max']\n",
    "}).reset_index()\n",
    "monthly_bal.columns = ['month', 'start_balance_snapshot', 'end_balance_snapshot', 'start_date', 'end_date']\n",
    "\n",
    "# Calculate expected balances based on transactions - use loaded transactions\n",
    "tx_calc = transactions.copy()\n",
    "tx_calc['date'] = pd.to_datetime(tx_calc[trx_date_col])\n",
    "tx_calc['month'] = tx_calc['date'].dt.to_period('M')\n",
    "tx_calc['amount_signed'] = tx_calc.apply(\n",
    "    lambda row: row['amount'] if row['credit_or_debit'] == 'CRDT' else -row['amount'], \n",
    "    axis=1\n",
    ")\n",
    "\n",
    "# Calculate monthly net change from transactions\n",
    "monthly_tx_change = tx_calc.groupby('month')['amount_signed'].sum().reset_index()\n",
    "monthly_tx_change.columns = ['month', 'tx_net_change']\n",
    "\n",
    "# Merge with balance data\n",
    "balance_comparison = monthly_bal.merge(monthly_tx_change, on='month', how='left')\n",
    "balance_comparison['tx_net_change'] = balance_comparison['tx_net_change'].fillna(0)\n",
    "\n",
    "# Calculate expected end balance\n",
    "balance_comparison['expected_end_balance'] = balance_comparison['start_balance_snapshot'] + balance_comparison['tx_net_change']\n",
    "\n",
    "# Calculate deviation\n",
    "balance_comparison['deviation'] = balance_comparison['end_balance_snapshot'] - balance_comparison['expected_end_balance']\n",
    "balance_comparison['month_str'] = balance_comparison['month'].astype(str)\n",
    "\n",
    "# Create chart - only showing deviation\n",
    "fig4 = go.Figure()\n",
    "\n",
    "# Add deviation bars only\n",
    "fig4.add_trace(go.Bar(\n",
    "    x=balance_comparison['month_str'],\n",
    "    y=balance_comparison['deviation'],\n",
    "    name='Deviation',\n",
    "    marker_color=['red' if x < 0 else 'green' for x in balance_comparison['deviation']],\n",
    "    hovertemplate='%{x}<br>Deviation: €%{y:,.2f}<extra></extra>'\n",
    "))\n",
    "\n",
    "# Add a zero reference line\n",
    "fig4.add_hline(y=0, line_dash=\"dash\", line_color=\"gray\", annotation_text=\"Zero Deviation\")\n",
    "\n",
    "fig4.update_layout(\n",
    "    title='Monthly Balance Deviations: Actual vs Expected (from Transactions)',\n",
    "    xaxis=dict(title='Month'),\n",
    "    yaxis=dict(title='Deviation (EUR)', zeroline=True),\n",
    "    hovermode='x unified',\n",
    "    height=600,\n",
    "    width=1200,\n",
    "    showlegend=False\n",
    ")\n",
    "\n",
    "fig4.show()\n",
    "\n",
    "# Display deviation summary\n",
    "print(\"\\nBalance Deviation Summary:\")\n",
    "print(balance_comparison[['month_str', 'start_balance_snapshot', 'tx_net_change', \n",
    "                           'expected_end_balance', 'end_balance_snapshot', 'deviation']])\n"
   ]
  },
  {
   "cell_type": "markdown",
   "id": "145d30ed",
   "metadata": {},
   "source": [
    "## 6) Chart 5: Daily Income Transactions with French Holidays\n",
    "\n",
    "This chart shows daily income transactions as bars with vertical lines indicating French bank holidays.\n"
   ]
  },
  {
   "cell_type": "code",
   "execution_count": 44,
   "id": "9ae439f2",
   "metadata": {},
   "outputs": [
    {
     "data": {
      "application/vnd.plotly.v1+json": {
       "config": {
        "plotlyServerURL": "https://plot.ly"
       },
       "data": [
        {
         "hovertemplate": "%{x|%Y-%m-%d}<br>Income: €%{y:,.2f}<extra></extra>",
         "marker": {
          "color": "lightgreen"
         },
         "name": "Daily Income",
         "type": "bar",
         "x": [
          "2025-01-01T00:00:00.000000000",
          "2025-01-03T00:00:00.000000000",
          "2025-01-05T00:00:00.000000000",
          "2025-01-06T00:00:00.000000000",
          "2025-01-07T00:00:00.000000000",
          "2025-01-08T00:00:00.000000000",
          "2025-01-09T00:00:00.000000000",
          "2025-01-10T00:00:00.000000000",
          "2025-01-12T00:00:00.000000000",
          "2025-01-13T00:00:00.000000000",
          "2025-01-14T00:00:00.000000000",
          "2025-01-15T00:00:00.000000000",
          "2025-01-16T00:00:00.000000000",
          "2025-01-17T00:00:00.000000000",
          "2025-01-18T00:00:00.000000000",
          "2025-01-19T00:00:00.000000000",
          "2025-01-21T00:00:00.000000000",
          "2025-01-22T00:00:00.000000000",
          "2025-01-23T00:00:00.000000000",
          "2025-01-24T00:00:00.000000000",
          "2025-01-25T00:00:00.000000000",
          "2025-01-26T00:00:00.000000000",
          "2025-01-28T00:00:00.000000000",
          "2025-01-29T00:00:00.000000000",
          "2025-01-30T00:00:00.000000000",
          "2025-02-01T00:00:00.000000000",
          "2025-02-02T00:00:00.000000000",
          "2025-02-03T00:00:00.000000000",
          "2025-02-04T00:00:00.000000000",
          "2025-02-05T00:00:00.000000000",
          "2025-02-06T00:00:00.000000000",
          "2025-02-07T00:00:00.000000000",
          "2025-02-08T00:00:00.000000000",
          "2025-02-09T00:00:00.000000000",
          "2025-02-10T00:00:00.000000000",
          "2025-02-11T00:00:00.000000000",
          "2025-02-12T00:00:00.000000000",
          "2025-02-13T00:00:00.000000000",
          "2025-02-14T00:00:00.000000000",
          "2025-02-15T00:00:00.000000000",
          "2025-02-16T00:00:00.000000000",
          "2025-02-17T00:00:00.000000000",
          "2025-02-18T00:00:00.000000000",
          "2025-02-20T00:00:00.000000000",
          "2025-02-21T00:00:00.000000000",
          "2025-02-22T00:00:00.000000000",
          "2025-02-23T00:00:00.000000000",
          "2025-02-24T00:00:00.000000000",
          "2025-02-25T00:00:00.000000000",
          "2025-02-26T00:00:00.000000000",
          "2025-02-27T00:00:00.000000000",
          "2025-03-01T00:00:00.000000000",
          "2025-03-02T00:00:00.000000000",
          "2025-03-04T00:00:00.000000000",
          "2025-03-06T00:00:00.000000000",
          "2025-03-08T00:00:00.000000000",
          "2025-03-09T00:00:00.000000000",
          "2025-03-10T00:00:00.000000000",
          "2025-03-11T00:00:00.000000000",
          "2025-03-12T00:00:00.000000000",
          "2025-03-13T00:00:00.000000000",
          "2025-03-16T00:00:00.000000000",
          "2025-03-17T00:00:00.000000000",
          "2025-03-20T00:00:00.000000000",
          "2025-03-21T00:00:00.000000000",
          "2025-03-23T00:00:00.000000000",
          "2025-03-24T00:00:00.000000000",
          "2025-03-25T00:00:00.000000000",
          "2025-03-26T00:00:00.000000000",
          "2025-03-29T00:00:00.000000000",
          "2025-03-31T00:00:00.000000000",
          "2025-04-02T00:00:00.000000000",
          "2025-04-04T00:00:00.000000000",
          "2025-04-05T00:00:00.000000000",
          "2025-04-06T00:00:00.000000000",
          "2025-04-07T00:00:00.000000000",
          "2025-04-08T00:00:00.000000000",
          "2025-04-09T00:00:00.000000000",
          "2025-04-10T00:00:00.000000000",
          "2025-04-11T00:00:00.000000000",
          "2025-04-12T00:00:00.000000000",
          "2025-04-13T00:00:00.000000000",
          "2025-04-14T00:00:00.000000000",
          "2025-04-15T00:00:00.000000000",
          "2025-04-16T00:00:00.000000000",
          "2025-04-17T00:00:00.000000000",
          "2025-04-18T00:00:00.000000000",
          "2025-04-19T00:00:00.000000000",
          "2025-04-21T00:00:00.000000000",
          "2025-04-22T00:00:00.000000000",
          "2025-04-24T00:00:00.000000000",
          "2025-04-25T00:00:00.000000000",
          "2025-04-26T00:00:00.000000000",
          "2025-04-28T00:00:00.000000000",
          "2025-04-29T00:00:00.000000000",
          "2025-04-30T00:00:00.000000000",
          "2025-05-02T00:00:00.000000000",
          "2025-05-03T00:00:00.000000000",
          "2025-05-04T00:00:00.000000000",
          "2025-05-05T00:00:00.000000000",
          "2025-05-07T00:00:00.000000000",
          "2025-05-09T00:00:00.000000000",
          "2025-05-10T00:00:00.000000000",
          "2025-05-11T00:00:00.000000000",
          "2025-05-12T00:00:00.000000000",
          "2025-05-14T00:00:00.000000000",
          "2025-05-15T00:00:00.000000000",
          "2025-05-16T00:00:00.000000000",
          "2025-05-17T00:00:00.000000000",
          "2025-05-18T00:00:00.000000000",
          "2025-05-19T00:00:00.000000000",
          "2025-05-21T00:00:00.000000000",
          "2025-05-22T00:00:00.000000000",
          "2025-05-23T00:00:00.000000000",
          "2025-05-24T00:00:00.000000000",
          "2025-05-25T00:00:00.000000000",
          "2025-05-26T00:00:00.000000000",
          "2025-05-27T00:00:00.000000000",
          "2025-05-28T00:00:00.000000000",
          "2025-05-29T00:00:00.000000000",
          "2025-05-30T00:00:00.000000000",
          "2025-05-31T00:00:00.000000000",
          "2025-06-01T00:00:00.000000000",
          "2025-06-02T00:00:00.000000000",
          "2025-06-03T00:00:00.000000000",
          "2025-06-05T00:00:00.000000000",
          "2025-06-07T00:00:00.000000000",
          "2025-06-08T00:00:00.000000000",
          "2025-06-09T00:00:00.000000000",
          "2025-06-10T00:00:00.000000000",
          "2025-06-11T00:00:00.000000000",
          "2025-06-12T00:00:00.000000000",
          "2025-06-13T00:00:00.000000000",
          "2025-06-14T00:00:00.000000000",
          "2025-06-17T00:00:00.000000000",
          "2025-06-19T00:00:00.000000000",
          "2025-06-20T00:00:00.000000000",
          "2025-06-21T00:00:00.000000000",
          "2025-06-22T00:00:00.000000000",
          "2025-06-23T00:00:00.000000000",
          "2025-06-24T00:00:00.000000000",
          "2025-06-25T00:00:00.000000000",
          "2025-06-26T00:00:00.000000000",
          "2025-06-27T00:00:00.000000000",
          "2025-06-29T00:00:00.000000000",
          "2025-06-30T00:00:00.000000000",
          "2025-07-01T00:00:00.000000000",
          "2025-07-02T00:00:00.000000000",
          "2025-07-03T00:00:00.000000000",
          "2025-07-06T00:00:00.000000000",
          "2025-07-07T00:00:00.000000000",
          "2025-07-08T00:00:00.000000000",
          "2025-07-09T00:00:00.000000000",
          "2025-07-12T00:00:00.000000000",
          "2025-07-13T00:00:00.000000000",
          "2025-07-14T00:00:00.000000000",
          "2025-07-15T00:00:00.000000000",
          "2025-07-16T00:00:00.000000000",
          "2025-07-17T00:00:00.000000000",
          "2025-07-18T00:00:00.000000000",
          "2025-07-19T00:00:00.000000000",
          "2025-07-20T00:00:00.000000000",
          "2025-07-21T00:00:00.000000000",
          "2025-07-23T00:00:00.000000000",
          "2025-07-25T00:00:00.000000000",
          "2025-07-26T00:00:00.000000000",
          "2025-07-28T00:00:00.000000000",
          "2025-07-29T00:00:00.000000000",
          "2025-07-30T00:00:00.000000000",
          "2025-07-31T00:00:00.000000000",
          "2025-08-01T00:00:00.000000000",
          "2025-08-02T00:00:00.000000000",
          "2025-08-03T00:00:00.000000000",
          "2025-08-04T00:00:00.000000000",
          "2025-08-05T00:00:00.000000000",
          "2025-08-07T00:00:00.000000000",
          "2025-08-08T00:00:00.000000000",
          "2025-08-09T00:00:00.000000000",
          "2025-08-10T00:00:00.000000000",
          "2025-08-11T00:00:00.000000000",
          "2025-08-12T00:00:00.000000000",
          "2025-08-13T00:00:00.000000000",
          "2025-08-14T00:00:00.000000000",
          "2025-08-15T00:00:00.000000000",
          "2025-08-16T00:00:00.000000000",
          "2025-08-17T00:00:00.000000000",
          "2025-08-19T00:00:00.000000000",
          "2025-08-20T00:00:00.000000000",
          "2025-08-21T00:00:00.000000000",
          "2025-08-22T00:00:00.000000000",
          "2025-08-23T00:00:00.000000000",
          "2025-08-24T00:00:00.000000000",
          "2025-08-25T00:00:00.000000000",
          "2025-08-26T00:00:00.000000000",
          "2025-08-27T00:00:00.000000000",
          "2025-08-28T00:00:00.000000000",
          "2025-08-29T00:00:00.000000000",
          "2025-08-30T00:00:00.000000000",
          "2025-08-31T00:00:00.000000000"
         ],
         "y": {
          "bdata": "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",
          "dtype": "f8"
         }
        }
       ],
       "layout": {
        "annotations": [
         {
          "font": {
           "color": "red",
           "size": 8
          },
          "showarrow": false,
          "text": "New Year's Day",
          "textangle": -90,
          "x": "2025-01-01T00:00:00",
          "y": 1,
          "yanchor": "bottom",
          "yref": "paper"
         },
         {
          "font": {
           "color": "red",
           "size": 8
          },
          "showarrow": false,
          "text": "Good Friday (Alsace and Moselle only)",
          "textangle": -90,
          "x": "2025-04-18T00:00:00",
          "y": 1,
          "yanchor": "bottom",
          "yref": "paper"
         },
         {
          "font": {
           "color": "red",
           "size": 8
          },
          "showarrow": false,
          "text": "Easter Monday",
          "textangle": -90,
          "x": "2025-04-21T00:00:00",
          "y": 1,
          "yanchor": "bottom",
          "yref": "paper"
         },
         {
          "font": {
           "color": "red",
           "size": 8
          },
          "showarrow": false,
          "text": "Labor Day",
          "textangle": -90,
          "x": "2025-05-01T00:00:00",
          "y": 1,
          "yanchor": "bottom",
          "yref": "paper"
         },
         {
          "font": {
           "color": "red",
           "size": 8
          },
          "showarrow": false,
          "text": "Victory Day",
          "textangle": -90,
          "x": "2025-05-08T00:00:00",
          "y": 1,
          "yanchor": "bottom",
          "yref": "paper"
         },
         {
          "font": {
           "color": "red",
           "size": 8
          },
          "showarrow": false,
          "text": "Ascension Day",
          "textangle": -90,
          "x": "2025-05-29T00:00:00",
          "y": 1,
          "yanchor": "bottom",
          "yref": "paper"
         },
         {
          "font": {
           "color": "red",
           "size": 8
          },
          "showarrow": false,
          "text": "Whit Monday",
          "textangle": -90,
          "x": "2025-06-09T00:00:00",
          "y": 1,
          "yanchor": "bottom",
          "yref": "paper"
         },
         {
          "font": {
           "color": "red",
           "size": 8
          },
          "showarrow": false,
          "text": "Bastille Day",
          "textangle": -90,
          "x": "2025-07-14T00:00:00",
          "y": 1,
          "yanchor": "bottom",
          "yref": "paper"
         },
         {
          "font": {
           "color": "red",
           "size": 8
          },
          "showarrow": false,
          "text": "Assumption of Mary",
          "textangle": -90,
          "x": "2025-08-15T00:00:00",
          "y": 1,
          "yanchor": "bottom",
          "yref": "paper"
         }
        ],
        "height": 600,
        "hovermode": "x unified",
        "shapes": [
         {
          "line": {
           "color": "red",
           "dash": "dash",
           "width": 2
          },
          "type": "line",
          "x0": "2025-01-01T00:00:00",
          "x1": "2025-01-01T00:00:00",
          "y0": 0,
          "y1": 1,
          "yref": "paper"
         },
         {
          "line": {
           "color": "red",
           "dash": "dash",
           "width": 2
          },
          "type": "line",
          "x0": "2025-04-18T00:00:00",
          "x1": "2025-04-18T00:00:00",
          "y0": 0,
          "y1": 1,
          "yref": "paper"
         },
         {
          "line": {
           "color": "red",
           "dash": "dash",
           "width": 2
          },
          "type": "line",
          "x0": "2025-04-21T00:00:00",
          "x1": "2025-04-21T00:00:00",
          "y0": 0,
          "y1": 1,
          "yref": "paper"
         },
         {
          "line": {
           "color": "red",
           "dash": "dash",
           "width": 2
          },
          "type": "line",
          "x0": "2025-05-01T00:00:00",
          "x1": "2025-05-01T00:00:00",
          "y0": 0,
          "y1": 1,
          "yref": "paper"
         },
         {
          "line": {
           "color": "red",
           "dash": "dash",
           "width": 2
          },
          "type": "line",
          "x0": "2025-05-08T00:00:00",
          "x1": "2025-05-08T00:00:00",
          "y0": 0,
          "y1": 1,
          "yref": "paper"
         },
         {
          "line": {
           "color": "red",
           "dash": "dash",
           "width": 2
          },
          "type": "line",
          "x0": "2025-05-29T00:00:00",
          "x1": "2025-05-29T00:00:00",
          "y0": 0,
          "y1": 1,
          "yref": "paper"
         },
         {
          "line": {
           "color": "red",
           "dash": "dash",
           "width": 2
          },
          "type": "line",
          "x0": "2025-06-09T00:00:00",
          "x1": "2025-06-09T00:00:00",
          "y0": 0,
          "y1": 1,
          "yref": "paper"
         },
         {
          "line": {
           "color": "red",
           "dash": "dash",
           "width": 2
          },
          "type": "line",
          "x0": "2025-07-14T00:00:00",
          "x1": "2025-07-14T00:00:00",
          "y0": 0,
          "y1": 1,
          "yref": "paper"
         },
         {
          "line": {
           "color": "red",
           "dash": "dash",
           "width": 2
          },
          "type": "line",
          "x0": "2025-08-15T00:00:00",
          "x1": "2025-08-15T00:00:00",
          "y0": 0,
          "y1": 1,
          "yref": "paper"
         }
        ],
        "showlegend": true,
        "template": {
         "data": {
          "bar": [
           {
            "error_x": {
             "color": "#2a3f5f"
            },
            "error_y": {
             "color": "#2a3f5f"
            },
            "marker": {
             "line": {
              "color": "#E5ECF6",
              "width": 0.5
             },
             "pattern": {
              "fillmode": "overlay",
              "size": 10,
              "solidity": 0.2
             }
            },
            "type": "bar"
           }
          ],
          "barpolar": [
           {
            "marker": {
             "line": {
              "color": "#E5ECF6",
              "width": 0.5
             },
             "pattern": {
              "fillmode": "overlay",
              "size": 10,
              "solidity": 0.2
             }
            },
            "type": "barpolar"
           }
          ],
          "carpet": [
           {
            "aaxis": {
             "endlinecolor": "#2a3f5f",
             "gridcolor": "white",
             "linecolor": "white",
             "minorgridcolor": "white",
             "startlinecolor": "#2a3f5f"
            },
            "baxis": {
             "endlinecolor": "#2a3f5f",
             "gridcolor": "white",
             "linecolor": "white",
             "minorgridcolor": "white",
             "startlinecolor": "#2a3f5f"
            },
            "type": "carpet"
           }
          ],
          "choropleth": [
           {
            "colorbar": {
             "outlinewidth": 0,
             "ticks": ""
            },
            "type": "choropleth"
           }
          ],
          "contour": [
           {
            "colorbar": {
             "outlinewidth": 0,
             "ticks": ""
            },
            "colorscale": [
             [
              0,
              "#0d0887"
             ],
             [
              0.1111111111111111,
              "#46039f"
             ],
             [
              0.2222222222222222,
              "#7201a8"
             ],
             [
              0.3333333333333333,
              "#9c179e"
             ],
             [
              0.4444444444444444,
              "#bd3786"
             ],
             [
              0.5555555555555556,
              "#d8576b"
             ],
             [
              0.6666666666666666,
              "#ed7953"
             ],
             [
              0.7777777777777778,
              "#fb9f3a"
             ],
             [
              0.8888888888888888,
              "#fdca26"
             ],
             [
              1,
              "#f0f921"
             ]
            ],
            "type": "contour"
           }
          ],
          "contourcarpet": [
           {
            "colorbar": {
             "outlinewidth": 0,
             "ticks": ""
            },
            "type": "contourcarpet"
           }
          ],
          "heatmap": [
           {
            "colorbar": {
             "outlinewidth": 0,
             "ticks": ""
            },
            "colorscale": [
             [
              0,
              "#0d0887"
             ],
             [
              0.1111111111111111,
              "#46039f"
             ],
             [
              0.2222222222222222,
              "#7201a8"
             ],
             [
              0.3333333333333333,
              "#9c179e"
             ],
             [
              0.4444444444444444,
              "#bd3786"
             ],
             [
              0.5555555555555556,
              "#d8576b"
             ],
             [
              0.6666666666666666,
              "#ed7953"
             ],
             [
              0.7777777777777778,
              "#fb9f3a"
             ],
             [
              0.8888888888888888,
              "#fdca26"
             ],
             [
              1,
              "#f0f921"
             ]
            ],
            "type": "heatmap"
           }
          ],
          "histogram": [
           {
            "marker": {
             "pattern": {
              "fillmode": "overlay",
              "size": 10,
              "solidity": 0.2
             }
            },
            "type": "histogram"
           }
          ],
          "histogram2d": [
           {
            "colorbar": {
             "outlinewidth": 0,
             "ticks": ""
            },
            "colorscale": [
             [
              0,
              "#0d0887"
             ],
             [
              0.1111111111111111,
              "#46039f"
             ],
             [
              0.2222222222222222,
              "#7201a8"
             ],
             [
              0.3333333333333333,
              "#9c179e"
             ],
             [
              0.4444444444444444,
              "#bd3786"
             ],
             [
              0.5555555555555556,
              "#d8576b"
             ],
             [
              0.6666666666666666,
              "#ed7953"
             ],
             [
              0.7777777777777778,
              "#fb9f3a"
             ],
             [
              0.8888888888888888,
              "#fdca26"
             ],
             [
              1,
              "#f0f921"
             ]
            ],
            "type": "histogram2d"
           }
          ],
          "histogram2dcontour": [
           {
            "colorbar": {
             "outlinewidth": 0,
             "ticks": ""
            },
            "colorscale": [
             [
              0,
              "#0d0887"
             ],
             [
              0.1111111111111111,
              "#46039f"
             ],
             [
              0.2222222222222222,
              "#7201a8"
             ],
             [
              0.3333333333333333,
              "#9c179e"
             ],
             [
              0.4444444444444444,
              "#bd3786"
             ],
             [
              0.5555555555555556,
              "#d8576b"
             ],
             [
              0.6666666666666666,
              "#ed7953"
             ],
             [
              0.7777777777777778,
              "#fb9f3a"
             ],
             [
              0.8888888888888888,
              "#fdca26"
             ],
             [
              1,
              "#f0f921"
             ]
            ],
            "type": "histogram2dcontour"
           }
          ],
          "mesh3d": [
           {
            "colorbar": {
             "outlinewidth": 0,
             "ticks": ""
            },
            "type": "mesh3d"
           }
          ],
          "parcoords": [
           {
            "line": {
             "colorbar": {
              "outlinewidth": 0,
              "ticks": ""
             }
            },
            "type": "parcoords"
           }
          ],
          "pie": [
           {
            "automargin": true,
            "type": "pie"
           }
          ],
          "scatter": [
           {
            "fillpattern": {
             "fillmode": "overlay",
             "size": 10,
             "solidity": 0.2
            },
            "type": "scatter"
           }
          ],
          "scatter3d": [
           {
            "line": {
             "colorbar": {
              "outlinewidth": 0,
              "ticks": ""
             }
            },
            "marker": {
             "colorbar": {
              "outlinewidth": 0,
              "ticks": ""
             }
            },
            "type": "scatter3d"
           }
          ],
          "scattercarpet": [
           {
            "marker": {
             "colorbar": {
              "outlinewidth": 0,
              "ticks": ""
             }
            },
            "type": "scattercarpet"
           }
          ],
          "scattergeo": [
           {
            "marker": {
             "colorbar": {
              "outlinewidth": 0,
              "ticks": ""
             }
            },
            "type": "scattergeo"
           }
          ],
          "scattergl": [
           {
            "marker": {
             "colorbar": {
              "outlinewidth": 0,
              "ticks": ""
             }
            },
            "type": "scattergl"
           }
          ],
          "scattermap": [
           {
            "marker": {
             "colorbar": {
              "outlinewidth": 0,
              "ticks": ""
             }
            },
            "type": "scattermap"
           }
          ],
          "scattermapbox": [
           {
            "marker": {
             "colorbar": {
              "outlinewidth": 0,
              "ticks": ""
             }
            },
            "type": "scattermapbox"
           }
          ],
          "scatterpolar": [
           {
            "marker": {
             "colorbar": {
              "outlinewidth": 0,
              "ticks": ""
             }
            },
            "type": "scatterpolar"
           }
          ],
          "scatterpolargl": [
           {
            "marker": {
             "colorbar": {
              "outlinewidth": 0,
              "ticks": ""
             }
            },
            "type": "scatterpolargl"
           }
          ],
          "scatterternary": [
           {
            "marker": {
             "colorbar": {
              "outlinewidth": 0,
              "ticks": ""
             }
            },
            "type": "scatterternary"
           }
          ],
          "surface": [
           {
            "colorbar": {
             "outlinewidth": 0,
             "ticks": ""
            },
            "colorscale": [
             [
              0,
              "#0d0887"
             ],
             [
              0.1111111111111111,
              "#46039f"
             ],
             [
              0.2222222222222222,
              "#7201a8"
             ],
             [
              0.3333333333333333,
              "#9c179e"
             ],
             [
              0.4444444444444444,
              "#bd3786"
             ],
             [
              0.5555555555555556,
              "#d8576b"
             ],
             [
              0.6666666666666666,
              "#ed7953"
             ],
             [
              0.7777777777777778,
              "#fb9f3a"
             ],
             [
              0.8888888888888888,
              "#fdca26"
             ],
             [
              1,
              "#f0f921"
             ]
            ],
            "type": "surface"
           }
          ],
          "table": [
           {
            "cells": {
             "fill": {
              "color": "#EBF0F8"
             },
             "line": {
              "color": "white"
             }
            },
            "header": {
             "fill": {
              "color": "#C8D4E3"
             },
             "line": {
              "color": "white"
             }
            },
            "type": "table"
           }
          ]
         },
         "layout": {
          "annotationdefaults": {
           "arrowcolor": "#2a3f5f",
           "arrowhead": 0,
           "arrowwidth": 1
          },
          "autotypenumbers": "strict",
          "coloraxis": {
           "colorbar": {
            "outlinewidth": 0,
            "ticks": ""
           }
          },
          "colorscale": {
           "diverging": [
            [
             0,
             "#8e0152"
            ],
            [
             0.1,
             "#c51b7d"
            ],
            [
             0.2,
             "#de77ae"
            ],
            [
             0.3,
             "#f1b6da"
            ],
            [
             0.4,
             "#fde0ef"
            ],
            [
             0.5,
             "#f7f7f7"
            ],
            [
             0.6,
             "#e6f5d0"
            ],
            [
             0.7,
             "#b8e186"
            ],
            [
             0.8,
             "#7fbc41"
            ],
            [
             0.9,
             "#4d9221"
            ],
            [
             1,
             "#276419"
            ]
           ],
           "sequential": [
            [
             0,
             "#0d0887"
            ],
            [
             0.1111111111111111,
             "#46039f"
            ],
            [
             0.2222222222222222,
             "#7201a8"
            ],
            [
             0.3333333333333333,
             "#9c179e"
            ],
            [
             0.4444444444444444,
             "#bd3786"
            ],
            [
             0.5555555555555556,
             "#d8576b"
            ],
            [
             0.6666666666666666,
             "#ed7953"
            ],
            [
             0.7777777777777778,
             "#fb9f3a"
            ],
            [
             0.8888888888888888,
             "#fdca26"
            ],
            [
             1,
             "#f0f921"
            ]
           ],
           "sequentialminus": [
            [
             0,
             "#0d0887"
            ],
            [
             0.1111111111111111,
             "#46039f"
            ],
            [
             0.2222222222222222,
             "#7201a8"
            ],
            [
             0.3333333333333333,
             "#9c179e"
            ],
            [
             0.4444444444444444,
             "#bd3786"
            ],
            [
             0.5555555555555556,
             "#d8576b"
            ],
            [
             0.6666666666666666,
             "#ed7953"
            ],
            [
             0.7777777777777778,
             "#fb9f3a"
            ],
            [
             0.8888888888888888,
             "#fdca26"
            ],
            [
             1,
             "#f0f921"
            ]
           ]
          },
          "colorway": [
           "#636efa",
           "#EF553B",
           "#00cc96",
           "#ab63fa",
           "#FFA15A",
           "#19d3f3",
           "#FF6692",
           "#B6E880",
           "#FF97FF",
           "#FECB52"
          ],
          "font": {
           "color": "#2a3f5f"
          },
          "geo": {
           "bgcolor": "white",
           "lakecolor": "white",
           "landcolor": "#E5ECF6",
           "showlakes": true,
           "showland": true,
           "subunitcolor": "white"
          },
          "hoverlabel": {
           "align": "left"
          },
          "hovermode": "closest",
          "mapbox": {
           "style": "light"
          },
          "paper_bgcolor": "white",
          "plot_bgcolor": "#E5ECF6",
          "polar": {
           "angularaxis": {
            "gridcolor": "white",
            "linecolor": "white",
            "ticks": ""
           },
           "bgcolor": "#E5ECF6",
           "radialaxis": {
            "gridcolor": "white",
            "linecolor": "white",
            "ticks": ""
           }
          },
          "scene": {
           "xaxis": {
            "backgroundcolor": "#E5ECF6",
            "gridcolor": "white",
            "gridwidth": 2,
            "linecolor": "white",
            "showbackground": true,
            "ticks": "",
            "zerolinecolor": "white"
           },
           "yaxis": {
            "backgroundcolor": "#E5ECF6",
            "gridcolor": "white",
            "gridwidth": 2,
            "linecolor": "white",
            "showbackground": true,
            "ticks": "",
            "zerolinecolor": "white"
           },
           "zaxis": {
            "backgroundcolor": "#E5ECF6",
            "gridcolor": "white",
            "gridwidth": 2,
            "linecolor": "white",
            "showbackground": true,
            "ticks": "",
            "zerolinecolor": "white"
           }
          },
          "shapedefaults": {
           "line": {
            "color": "#2a3f5f"
           }
          },
          "ternary": {
           "aaxis": {
            "gridcolor": "white",
            "linecolor": "white",
            "ticks": ""
           },
           "baxis": {
            "gridcolor": "white",
            "linecolor": "white",
            "ticks": ""
           },
           "bgcolor": "#E5ECF6",
           "caxis": {
            "gridcolor": "white",
            "linecolor": "white",
            "ticks": ""
           }
          },
          "title": {
           "x": 0.05
          },
          "xaxis": {
           "automargin": true,
           "gridcolor": "white",
           "linecolor": "white",
           "ticks": "",
           "title": {
            "standoff": 15
           },
           "zerolinecolor": "white",
           "zerolinewidth": 2
          },
          "yaxis": {
           "automargin": true,
           "gridcolor": "white",
           "linecolor": "white",
           "ticks": "",
           "title": {
            "standoff": 15
           },
           "zerolinecolor": "white",
           "zerolinewidth": 2
          }
         }
        },
        "title": {
         "text": "Daily Income Transactions with French Bank Holidays (2025)"
        },
        "width": 1200,
        "xaxis": {
         "title": {
          "text": "Date"
         }
        },
        "yaxis": {
         "title": {
          "text": "Income (EUR)"
         }
        }
       }
      }
     },
     "metadata": {},
     "output_type": "display_data"
    },
    {
     "name": "stdout",
     "output_type": "stream",
     "text": [
      "\n",
      "✓ DataFrame 'daily_income_chart' created for export\n",
      "Shape: (199, 2)\n",
      "Date range: 2025-01-01 00:00:00 to 2025-08-31 00:00:00\n",
      "Total income: €301,398.61\n",
      "\n",
      "✓ DataFrame 'french_holidays_chart' created for export\n",
      "French holidays count: 9\n",
      "\n",
      "================================================================================\n",
      "COPY-PASTE READY FORMAT (DAILY INCOME):\n",
      "================================================================================\n",
      "const dailyIncomeData = [\n",
      "  { date: 'Jan 01', income: 525.98 },\n",
      "  { date: 'Jan 03', income: 173.33 },\n",
      "  { date: 'Jan 05', income: 204.59 },\n",
      "  { date: 'Jan 06', income: 428.32 },\n",
      "  { date: 'Jan 07', income: 2029.42 },\n",
      "  { date: 'Jan 08', income: 2235.57 },\n",
      "  { date: 'Jan 09', income: 275.75 },\n",
      "  { date: 'Jan 10', income: 437.85 },\n",
      "  { date: 'Jan 12', income: 5420.67 },\n",
      "  { date: 'Jan 13', income: 5932.23 },\n",
      "  { date: 'Jan 14', income: 287.61 },\n",
      "  { date: 'Jan 15', income: 1282.59 },\n",
      "  { date: 'Jan 16', income: 497.08 },\n",
      "  { date: 'Jan 17', income: 2221.28 },\n",
      "  { date: 'Jan 18', income: 2998.9 },\n",
      "  { date: 'Jan 19', income: 411.89 },\n",
      "  { date: 'Jan 21', income: 8969.09 },\n",
      "  { date: 'Jan 22', income: 348.08 },\n",
      "  { date: 'Jan 23', income: 2628.98 },\n",
      "  { date: 'Jan 24', income: 243.72 },\n",
      "  { date: 'Jan 25', income: 1122.32 },\n",
      "  { date: 'Jan 26', income: 552.02 },\n",
      "  { date: 'Jan 28', income: 2759.93 },\n",
      "  { date: 'Jan 29', income: 1162.75 },\n",
      "  { date: 'Jan 30', income: 1129.41 },\n",
      "  { date: 'Feb 01', income: 814.08 },\n",
      "  { date: 'Feb 02', income: 68.93 },\n",
      "  { date: 'Feb 03', income: 3573.44 },\n",
      "  { date: 'Feb 04', income: 319.89 },\n",
      "  { date: 'Feb 05', income: 1972.11 },\n",
      "  { date: 'Feb 06', income: 820.25 },\n",
      "  { date: 'Feb 07', income: 1437.88 },\n",
      "  { date: 'Feb 08', income: 2110.22 },\n",
      "  { date: 'Feb 09', income: 2389.51 },\n",
      "  { date: 'Feb 10', income: 3485.07 },\n",
      "  { date: 'Feb 11', income: 1808.46 },\n",
      "  { date: 'Feb 12', income: 966.02 },\n",
      "  { date: 'Feb 13', income: 1142.1 },\n",
      "  { date: 'Feb 14', income: 271.46 },\n",
      "  { date: 'Feb 15', income: 380.61 },\n",
      "  { date: 'Feb 16', income: 256.2 },\n",
      "  { date: 'Feb 17', income: 3012.84 },\n",
      "  { date: 'Feb 18', income: 594.98 },\n",
      "  { date: 'Feb 20', income: 308.9 },\n",
      "  { date: 'Feb 21', income: 1460.67 },\n",
      "  { date: 'Feb 22', income: 447.66 },\n",
      "  { date: 'Feb 23', income: 5508.78 },\n",
      "  { date: 'Feb 24', income: 1652.99 },\n",
      "  { date: 'Feb 25', income: 4109.26 },\n",
      "  { date: 'Feb 26', income: 1318.77 },\n",
      "  { date: 'Feb 27', income: 1065.97 },\n",
      "  { date: 'Mar 01', income: 188.11 },\n",
      "  { date: 'Mar 02', income: 138.91 },\n",
      "  { date: 'Mar 04', income: 3569.09 },\n",
      "  { date: 'Mar 06', income: 420.16 },\n",
      "  { date: 'Mar 08', income: 379.48 },\n",
      "  { date: 'Mar 09', income: 3828.25 },\n",
      "  { date: 'Mar 10', income: 981.74 },\n",
      "  { date: 'Mar 11', income: 500.97 },\n",
      "  { date: 'Mar 12', income: 3714.45 },\n",
      "  { date: 'Mar 13', income: 455.68 },\n",
      "  { date: 'Mar 16', income: 3779.93 },\n",
      "  { date: 'Mar 17', income: 1827.72 },\n",
      "  { date: 'Mar 20', income: 1930.27 },\n",
      "  { date: 'Mar 21', income: 391.3 },\n",
      "  { date: 'Mar 23', income: 1594.3 },\n",
      "  { date: 'Mar 24', income: 354.04 },\n",
      "  { date: 'Mar 25', income: 2702.55 },\n",
      "  { date: 'Mar 26', income: 362.47 },\n",
      "  { date: 'Mar 29', income: 1006.3 },\n",
      "  { date: 'Mar 31', income: 853.95 },\n",
      "  { date: 'Apr 02', income: 4514.76 },\n",
      "  { date: 'Apr 04', income: 972.34 },\n",
      "  { date: 'Apr 05', income: 4903.31 },\n",
      "  { date: 'Apr 06', income: 2512.22 },\n",
      "  { date: 'Apr 07', income: 502.26 },\n",
      "  { date: 'Apr 08', income: 1610.67 },\n",
      "  { date: 'Apr 09', income: 1635.45 },\n",
      "  { date: 'Apr 10', income: 497.77 },\n",
      "  { date: 'Apr 11', income: 5573.87 },\n",
      "  { date: 'Apr 12', income: 1042.8 },\n",
      "  { date: 'Apr 13', income: 950.39 },\n",
      "  { date: 'Apr 14', income: 694.19 },\n",
      "  { date: 'Apr 15', income: 4477.95 },\n",
      "  { date: 'Apr 16', income: 4047.35 },\n",
      "  { date: 'Apr 17', income: 83.59 },\n",
      "  { date: 'Apr 18', income: 2799.57 },\n",
      "  { date: 'Apr 19', income: 318.55 },\n",
      "  { date: 'Apr 21', income: 1165.54 },\n",
      "  { date: 'Apr 22', income: 4224.88 },\n",
      "  { date: 'Apr 24', income: 1502.74 },\n",
      "  { date: 'Apr 25', income: 732.12 },\n",
      "  { date: 'Apr 26', income: 1127.31 },\n",
      "  { date: 'Apr 28', income: 754.35 },\n",
      "  { date: 'Apr 29', income: 368.3 },\n",
      "  { date: 'Apr 30', income: 2425.46 },\n",
      "  { date: 'May 02', income: 3208.6 },\n",
      "  { date: 'May 03', income: 226.68 },\n",
      "  { date: 'May 04', income: 276.05 },\n",
      "  { date: 'May 05', income: 2401.24 },\n",
      "  { date: 'May 07', income: 166.74 },\n",
      "  { date: 'May 09', income: 2211.24 },\n",
      "  { date: 'May 10', income: 773.11 },\n",
      "  { date: 'May 11', income: 387.6 },\n",
      "  { date: 'May 12', income: 290.14 },\n",
      "  { date: 'May 14', income: 1588.83 },\n",
      "  { date: 'May 15', income: 1840.61 },\n",
      "  { date: 'May 16', income: 1558.95 },\n",
      "  { date: 'May 17', income: 699.66 },\n",
      "  { date: 'May 18', income: 176.04 },\n",
      "  { date: 'May 19', income: 368.22 },\n",
      "  { date: 'May 21', income: 4103.06 },\n",
      "  { date: 'May 22', income: 4799.67 },\n",
      "  { date: 'May 23', income: 2891.89 },\n",
      "  { date: 'May 24', income: 1250.04 },\n",
      "  { date: 'May 25', income: 3184.64 },\n",
      "  { date: 'May 26', income: 2853.87 },\n",
      "  { date: 'May 27', income: 3542.01 },\n",
      "  { date: 'May 28', income: 3143.84 },\n",
      "  { date: 'May 29', income: 1638.48 },\n",
      "  { date: 'May 30', income: 303.32 },\n",
      "  { date: 'May 31', income: 3235.76 },\n",
      "  { date: 'Jun 01', income: 156.26 },\n",
      "  { date: 'Jun 02', income: 116.04 },\n",
      "  { date: 'Jun 03', income: 899.71 },\n",
      "  { date: 'Jun 05', income: 1104.44 },\n",
      "  { date: 'Jun 07', income: 1593.8 },\n",
      "  { date: 'Jun 08', income: 740.47 },\n",
      "  { date: 'Jun 09', income: 1353.46 },\n",
      "  { date: 'Jun 10', income: 507.55 },\n",
      "  { date: 'Jun 11', income: 2691.76 },\n",
      "  { date: 'Jun 12', income: 3779.65 },\n",
      "  { date: 'Jun 13', income: 307.31 },\n",
      "  { date: 'Jun 14', income: 422.84 },\n",
      "  { date: 'Jun 17', income: 1465.74 },\n",
      "  { date: 'Jun 19', income: 4677.93 },\n",
      "  { date: 'Jun 20', income: 2550.43 },\n",
      "  { date: 'Jun 21', income: 396.47 },\n",
      "  { date: 'Jun 22', income: 451.36 },\n",
      "  { date: 'Jun 23', income: 362.85 },\n",
      "  { date: 'Jun 24', income: 238.84 },\n",
      "  { date: 'Jun 25', income: 318.28 },\n",
      "  { date: 'Jun 26', income: 1455.23 },\n",
      "  { date: 'Jun 27', income: 1008.21 },\n",
      "  { date: 'Jun 29', income: 222.32 },\n",
      "  { date: 'Jun 30', income: 2506.31 },\n",
      "  { date: 'Jul 01', income: 109.47 },\n",
      "  { date: 'Jul 02', income: 3659.14 },\n",
      "  { date: 'Jul 03', income: 268.13 },\n",
      "  { date: 'Jul 06', income: 440.54 },\n",
      "  { date: 'Jul 07', income: 935.31 },\n",
      "  { date: 'Jul 08', income: 531.41 },\n",
      "  { date: 'Jul 09', income: 803.77 },\n",
      "  { date: 'Jul 12', income: 2357.97 },\n",
      "  { date: 'Jul 13', income: 1386.67 },\n",
      "  { date: 'Jul 14', income: 242.75 },\n",
      "  { date: 'Jul 15', income: 272.04 },\n",
      "  { date: 'Jul 16', income: 1172.72 },\n",
      "  { date: 'Jul 17', income: 3387.98 },\n",
      "  { date: 'Jul 18', income: 2805.05 },\n",
      "  { date: 'Jul 19', income: 772.91 },\n",
      "  { date: 'Jul 20', income: 525.12 },\n",
      "  { date: 'Jul 21', income: 374.88 },\n",
      "  { date: 'Jul 23', income: 1861.18 },\n",
      "  { date: 'Jul 25', income: 380.36 },\n",
      "  { date: 'Jul 26', income: 1271.27 },\n",
      "  { date: 'Jul 28', income: 460.95 },\n",
      "  { date: 'Jul 29', income: 3237.65 },\n",
      "  { date: 'Jul 30', income: 170.63 },\n",
      "  { date: 'Jul 31', income: 199.33 },\n",
      "  { date: 'Aug 01', income: 2476.54 },\n",
      "  { date: 'Aug 02', income: 251.47 },\n",
      "  { date: 'Aug 03', income: 499.43 },\n",
      "  { date: 'Aug 04', income: 548.68 },\n",
      "  { date: 'Aug 05', income: 667.2 },\n",
      "  { date: 'Aug 07', income: 868.26 },\n",
      "  { date: 'Aug 08', income: 114.17 },\n",
      "  { date: 'Aug 09', income: 404.4 },\n",
      "  { date: 'Aug 10', income: 2078.78 },\n",
      "  { date: 'Aug 11', income: 967.81 },\n",
      "  { date: 'Aug 12', income: 352.59 },\n",
      "  { date: 'Aug 13', income: 1324.52 },\n",
      "  { date: 'Aug 14', income: 1647.32 },\n",
      "  { date: 'Aug 15', income: 2492.43 },\n",
      "  { date: 'Aug 16', income: 2791.57 },\n",
      "  { date: 'Aug 17', income: 538.88 },\n",
      "  { date: 'Aug 19', income: 3112.02 },\n",
      "  { date: 'Aug 20', income: 774.04 },\n",
      "  { date: 'Aug 21', income: 1122.26 },\n",
      "  { date: 'Aug 22', income: 376.53 },\n",
      "  { date: 'Aug 23', income: 192.86 },\n",
      "  { date: 'Aug 24', income: 473.47 },\n",
      "  { date: 'Aug 25', income: 2509.26 },\n",
      "  { date: 'Aug 26', income: 814.53 },\n",
      "  { date: 'Aug 27', income: 1998.22 },\n",
      "  { date: 'Aug 28', income: 289.53 },\n",
      "  { date: 'Aug 29', income: 956.62 },\n",
      "  { date: 'Aug 30', income: 135.27 },\n",
      "  { date: 'Aug 31', income: 2551.35 },\n",
      "];\n",
      "================================================================================\n",
      "\n",
      "================================================================================\n",
      "COPY-PASTE READY FORMAT (FRENCH HOLIDAYS):\n",
      "================================================================================\n",
      "const frenchHolidays = [\n",
      "  { date: 'Jan 01', holiday: 'New Year's Day' },\n",
      "  { date: 'Apr 18', holiday: 'Good Friday (Alsace and Moselle only)' },\n",
      "  { date: 'Apr 21', holiday: 'Easter Monday' },\n",
      "  { date: 'May 01', holiday: 'Labor Day' },\n",
      "  { date: 'May 08', holiday: 'Victory Day' },\n",
      "  { date: 'May 29', holiday: 'Ascension Day' },\n",
      "  { date: 'Jun 09', holiday: 'Whit Monday' },\n",
      "  { date: 'Jul 14', holiday: 'Bastille Day' },\n",
      "  { date: 'Aug 15', holiday: 'Assumption of Mary' },\n",
      "];\n",
      "================================================================================\n"
     ]
    }
   ],
   "source": [
    "# CHART 5: Daily Income Transactions with French Holidays\n",
    "\n",
    "# Load bank holidays and filter for France\n",
    "holidays_path = base_dir / \"bank_holidays_2025.csv\"\n",
    "holidays_df = pd.read_csv(holidays_path)\n",
    "france_holidays = holidays_df[holidays_df['Country'] == 'France'].copy()\n",
    "france_holidays['Date'] = pd.to_datetime(france_holidays['Date'])\n",
    "\n",
    "# Get daily income (CRDT transactions) - use loaded transactions\n",
    "income_data = transactions[transactions['credit_or_debit'] == 'CRDT'].copy()\n",
    "income_data['date'] = pd.to_datetime(income_data[trx_date_col])\n",
    "\n",
    "# Aggregate daily income\n",
    "daily_income = income_data.groupby('date')['amount'].sum().reset_index()\n",
    "daily_income.columns = ['date', 'income']\n",
    "\n",
    "# Create chart\n",
    "fig5 = go.Figure()\n",
    "\n",
    "# Add income bars\n",
    "fig5.add_trace(go.Bar(\n",
    "    x=daily_income['date'],\n",
    "    y=daily_income['income'],\n",
    "    name='Daily Income',\n",
    "    marker_color='lightgreen',\n",
    "    hovertemplate='%{x|%Y-%m-%d}<br>Income: €%{y:,.2f}<extra></extra>'\n",
    "))\n",
    "\n",
    "# Add vertical lines for French holidays using shapes\n",
    "for idx, holiday in france_holidays.iterrows():\n",
    "    # Convert Timestamp to datetime for plotly\n",
    "    holiday_date = pd.Timestamp(holiday['Date']).to_pydatetime()\n",
    "    \n",
    "    fig5.add_shape(\n",
    "        type=\"line\",\n",
    "        x0=holiday_date,\n",
    "        x1=holiday_date,\n",
    "        y0=0,\n",
    "        y1=1,\n",
    "        yref=\"paper\",\n",
    "        line=dict(color=\"red\", width=2, dash=\"dash\")\n",
    "    )\n",
    "    \n",
    "    # Add annotation\n",
    "    fig5.add_annotation(\n",
    "        x=holiday_date,\n",
    "        y=1,\n",
    "        yref=\"paper\",\n",
    "        text=holiday['Holiday'],\n",
    "        showarrow=False,\n",
    "        textangle=-90,\n",
    "        font=dict(size=8, color=\"red\"),\n",
    "        yanchor=\"bottom\"\n",
    "    )\n",
    "\n",
    "fig5.update_layout(\n",
    "    title='Daily Income Transactions with French Bank Holidays (2025)',\n",
    "    xaxis=dict(title='Date'),\n",
    "    yaxis=dict(title='Income (EUR)'),\n",
    "    hovermode='x unified',\n",
    "    height=600,\n",
    "    width=1200,\n",
    "    showlegend=True\n",
    ")\n",
    "\n",
    "fig5.show()\n",
    "\n",
    "# Create alias for export\n",
    "daily_income_chart = daily_income.copy()\n",
    "french_holidays_chart = france_holidays.copy()\n",
    "\n",
    "print(\"\\n✓ DataFrame 'daily_income_chart' created for export\")\n",
    "print(f\"Shape: {daily_income_chart.shape}\")\n",
    "print(f\"Date range: {daily_income_chart['date'].min()} to {daily_income_chart['date'].max()}\")\n",
    "print(f\"Total income: €{daily_income_chart['income'].sum():,.2f}\")\n",
    "\n",
    "print(\"\\n✓ DataFrame 'french_holidays_chart' created for export\")\n",
    "print(f\"French holidays count: {len(french_holidays_chart)}\")\n",
    "\n",
    "# Format output for JavaScript/TypeScript\n",
    "print(\"\\n\" + \"=\"*80)\n",
    "print(\"COPY-PASTE READY FORMAT (DAILY INCOME):\")\n",
    "print(\"=\"*80)\n",
    "print(\"const dailyIncomeData = [\")\n",
    "\n",
    "for idx, row in daily_income_chart.iterrows():\n",
    "    date_formatted = row['date'].strftime('%b %d')\n",
    "    income_value = round(row['income'], 2)\n",
    "    print(f\"  {{ date: '{date_formatted}', income: {income_value} }},\")\n",
    "\n",
    "print(\"];\")\n",
    "print(\"=\"*80)\n",
    "\n",
    "print(\"\\n\" + \"=\"*80)\n",
    "print(\"COPY-PASTE READY FORMAT (FRENCH HOLIDAYS):\")\n",
    "print(\"=\"*80)\n",
    "print(\"const frenchHolidays = [\")\n",
    "\n",
    "for idx, row in french_holidays_chart.iterrows():\n",
    "    date_formatted = row['Date'].strftime('%b %d')\n",
    "    holiday_name = row['Holiday']\n",
    "    print(f\"  {{ date: '{date_formatted}', holiday: '{holiday_name}' }},\")\n",
    "\n",
    "print(\"];\")\n",
    "print(\"=\"*80)\n"
   ]
  },
  {
   "cell_type": "code",
   "execution_count": 45,
   "id": "1d3fb058",
   "metadata": {},
   "outputs": [
    {
     "name": "stdout",
     "output_type": "stream",
     "text": [
      "================================================================================\n",
      "MONTHLY INCOME BY CATEGORY:\n",
      "================================================================================\n"
     ]
    },
    {
     "data": {
      "text/html": [
       "<div>\n",
       "<style scoped>\n",
       "    .dataframe tbody tr th:only-of-type {\n",
       "        vertical-align: middle;\n",
       "    }\n",
       "\n",
       "    .dataframe tbody tr th {\n",
       "        vertical-align: top;\n",
       "    }\n",
       "\n",
       "    .dataframe thead th {\n",
       "        text-align: right;\n",
       "    }\n",
       "</style>\n",
       "<table border=\"1\" class=\"dataframe\">\n",
       "  <thead>\n",
       "    <tr style=\"text-align: right;\">\n",
       "      <th>category</th>\n",
       "      <th>date</th>\n",
       "      <th>Investment Income</th>\n",
       "      <th>Resort Revenue</th>\n",
       "      <th>Tax Refund</th>\n",
       "    </tr>\n",
       "  </thead>\n",
       "  <tbody>\n",
       "    <tr>\n",
       "      <th>0</th>\n",
       "      <td>2025-01</td>\n",
       "      <td>3367.12</td>\n",
       "      <td>33853.13</td>\n",
       "      <td>7059.11</td>\n",
       "    </tr>\n",
       "    <tr>\n",
       "      <th>1</th>\n",
       "      <td>2025-02</td>\n",
       "      <td>3103.59</td>\n",
       "      <td>32941.23</td>\n",
       "      <td>5252.23</td>\n",
       "    </tr>\n",
       "    <tr>\n",
       "      <th>2</th>\n",
       "      <td>2025-03</td>\n",
       "      <td>2644.63</td>\n",
       "      <td>18299.88</td>\n",
       "      <td>8035.16</td>\n",
       "    </tr>\n",
       "    <tr>\n",
       "      <th>3</th>\n",
       "      <td>2025-04</td>\n",
       "      <td>6276.67</td>\n",
       "      <td>38573.91</td>\n",
       "      <td>4587.16</td>\n",
       "    </tr>\n",
       "    <tr>\n",
       "      <th>4</th>\n",
       "      <td>2025-05</td>\n",
       "      <td>3852.89</td>\n",
       "      <td>39019.67</td>\n",
       "      <td>4247.73</td>\n",
       "    </tr>\n",
       "    <tr>\n",
       "      <th>5</th>\n",
       "      <td>2025-06</td>\n",
       "      <td>2840.91</td>\n",
       "      <td>19610.74</td>\n",
       "      <td>6875.61</td>\n",
       "    </tr>\n",
       "    <tr>\n",
       "      <th>6</th>\n",
       "      <td>2025-07</td>\n",
       "      <td>3088.56</td>\n",
       "      <td>17552.80</td>\n",
       "      <td>6985.87</td>\n",
       "    </tr>\n",
       "    <tr>\n",
       "      <th>7</th>\n",
       "      <td>2025-08</td>\n",
       "      <td>4311.61</td>\n",
       "      <td>22063.65</td>\n",
       "      <td>6954.75</td>\n",
       "    </tr>\n",
       "  </tbody>\n",
       "</table>\n",
       "</div>"
      ],
      "text/plain": [
       "category     date  Investment Income  Resort Revenue  Tax Refund\n",
       "0         2025-01            3367.12        33853.13     7059.11\n",
       "1         2025-02            3103.59        32941.23     5252.23\n",
       "2         2025-03            2644.63        18299.88     8035.16\n",
       "3         2025-04            6276.67        38573.91     4587.16\n",
       "4         2025-05            3852.89        39019.67     4247.73\n",
       "5         2025-06            2840.91        19610.74     6875.61\n",
       "6         2025-07            3088.56        17552.80     6985.87\n",
       "7         2025-08            4311.61        22063.65     6954.75"
      ]
     },
     "metadata": {},
     "output_type": "display_data"
    },
    {
     "name": "stdout",
     "output_type": "stream",
     "text": [
      "\n",
      "================================================================================\n",
      "COPY-PASTE READY FORMAT (MONTHLY INCOME - EXAMPLE STYLE):\n",
      "================================================================================\n",
      "const monthlyIncomeData = [\n",
      "  { date: 'Jan 25', Investment Income: 3367.12, Resort Revenue: 33853.13, Tax Refund: 7059.11 },\n",
      "  { date: 'Feb 25', Investment Income: 3103.59, Resort Revenue: 32941.23, Tax Refund: 5252.23 },\n",
      "  { date: 'Mar 25', Investment Income: 2644.63, Resort Revenue: 18299.88, Tax Refund: 8035.16 },\n",
      "  { date: 'Apr 25', Investment Income: 6276.67, Resort Revenue: 38573.91, Tax Refund: 4587.16 },\n",
      "  { date: 'May 25', Investment Income: 3852.89, Resort Revenue: 39019.67, Tax Refund: 4247.73 },\n",
      "  { date: 'Jun 25', Investment Income: 2840.91, Resort Revenue: 19610.74, Tax Refund: 6875.61 },\n",
      "  { date: 'Jul 25', Investment Income: 3088.56, Resort Revenue: 17552.8, Tax Refund: 6985.87 },\n",
      "  { date: 'Aug 25', Investment Income: 4311.61, Resort Revenue: 22063.65, Tax Refund: 6954.75 },\n",
      "];\n",
      "================================================================================\n",
      "\n",
      "================================================================================\n",
      "SUMMARY:\n",
      "================================================================================\n",
      "Total months: 8\n",
      "Categories found: ['Investment Income', 'Resort Revenue', 'Tax Refund']\n",
      "Total income: €301,398.61\n",
      "\n",
      "Breakdown by category:\n",
      "  Investment Income: €29,485.98 (9.8%)\n",
      "  Resort Revenue: €221,915.01 (73.6%)\n",
      "  Tax Refund: €49,997.62 (16.6%)\n"
     ]
    }
   ],
   "source": [
    "# Export Monthly Income Data (similar to the example format with categories)\n",
    "\n",
    "# Create monthly aggregation of income\n",
    "monthly_income_breakdown = income_data.copy()\n",
    "monthly_income_breakdown['month'] = monthly_income_breakdown['date'].dt.to_period('M')\n",
    "\n",
    "# Extract category/type from additional_info if available\n",
    "monthly_income_breakdown['category'] = monthly_income_breakdown['additional_info'].str.extract(r'(.*?) - ')[0]\n",
    "\n",
    "# If no clear categories, check for patterns in creditor_name or remittence_info\n",
    "if monthly_income_breakdown['category'].isna().all():\n",
    "    # Try to extract from creditor_name\n",
    "    monthly_income_breakdown['category'] = 'Revenue'  # Default category\n",
    "else:\n",
    "    monthly_income_breakdown['category'] = monthly_income_breakdown['category'].fillna('Other')\n",
    "\n",
    "# Group by month and category\n",
    "monthly_income_by_category = monthly_income_breakdown.groupby(['month', 'category'])['amount'].sum().reset_index()\n",
    "\n",
    "# Pivot to get categories as columns\n",
    "monthly_income_pivot = monthly_income_by_category.pivot(index='month', columns='category', values='amount').reset_index()\n",
    "monthly_income_pivot = monthly_income_pivot.fillna(0)\n",
    "\n",
    "# Convert month to string\n",
    "monthly_income_pivot['date'] = monthly_income_pivot['month'].astype(str)\n",
    "monthly_income_pivot = monthly_income_pivot.drop('month', axis=1)\n",
    "\n",
    "# Reorder columns\n",
    "column_order = ['date'] + [col for col in monthly_income_pivot.columns if col != 'date']\n",
    "monthly_income_pivot = monthly_income_pivot[column_order]\n",
    "\n",
    "print(\"=\"*80)\n",
    "print(\"MONTHLY INCOME BY CATEGORY:\")\n",
    "print(\"=\"*80)\n",
    "display(monthly_income_pivot)\n",
    "\n",
    "# Format for TypeScript/JavaScript (similar to the example provided)\n",
    "print(\"\\n\" + \"=\"*80)\n",
    "print(\"COPY-PASTE READY FORMAT (MONTHLY INCOME - EXAMPLE STYLE):\")\n",
    "print(\"=\"*80)\n",
    "print(\"const monthlyIncomeData = [\")\n",
    "\n",
    "for idx, row in monthly_income_pivot.iterrows():\n",
    "    # Convert date string \"2025-01\" to \"Jan 25\" format\n",
    "    month_period = pd.Period(row['date'], freq='M')\n",
    "    date_formatted = month_period.strftime('%b %y')\n",
    "    \n",
    "    # Build the object dynamically based on available categories\n",
    "    row_str = f\"  {{ date: '{date_formatted}'\"\n",
    "    \n",
    "    for col in monthly_income_pivot.columns:\n",
    "        if col != 'date':\n",
    "            value = round(row[col], 2)\n",
    "            row_str += f\", {col}: {value}\"\n",
    "    \n",
    "    row_str += \" },\"\n",
    "    print(row_str)\n",
    "\n",
    "print(\"];\")\n",
    "print(\"=\"*80)\n",
    "\n",
    "# Also provide a summary\n",
    "print(\"\\n\" + \"=\"*80)\n",
    "print(\"SUMMARY:\")\n",
    "print(\"=\"*80)\n",
    "print(f\"Total months: {len(monthly_income_pivot)}\")\n",
    "print(f\"Categories found: {[col for col in monthly_income_pivot.columns if col != 'date']}\")\n",
    "print(f\"Total income: €{monthly_income_breakdown['amount'].sum():,.2f}\")\n",
    "\n",
    "# Create breakdown by category\n",
    "if len(monthly_income_pivot.columns) > 2:  # More than just date + one category\n",
    "    print(\"\\nBreakdown by category:\")\n",
    "    for col in monthly_income_pivot.columns:\n",
    "        if col != 'date':\n",
    "            total = monthly_income_pivot[col].sum()\n",
    "            pct = (total / monthly_income_breakdown['amount'].sum()) * 100\n",
    "            print(f\"  {col}: €{total:,.2f} ({pct:.1f}%)\")\n"
   ]
  },
  {
   "cell_type": "markdown",
   "id": "d82fc8f1",
   "metadata": {},
   "source": [
    "## 7) Chart 6: Investment Expenses & FX Fees\n",
    "\n",
    "This chart shows investment expenses and FX fees as grouped bars for comparison.\n"
   ]
  },
  {
   "cell_type": "code",
   "execution_count": 29,
   "id": "70ae59b6",
   "metadata": {},
   "outputs": [
    {
     "name": "stdout",
     "output_type": "stream",
     "text": [
      "FX fees transactions found: 153\n"
     ]
    },
    {
     "data": {
      "application/vnd.plotly.v1+json": {
       "config": {
        "plotlyServerURL": "https://plot.ly"
       },
       "data": [
        {
         "hovertemplate": "%{x}<br>Investment: €%{y:,.2f}<extra></extra>",
         "marker": {
          "color": "lightcoral"
         },
         "name": "Investment Expenses",
         "type": "bar",
         "x": [
          "2025-01",
          "2025-02",
          "2025-03",
          "2025-04",
          "2025-05",
          "2025-06",
          "2025-07",
          "2025-08"
         ],
         "y": {
          "bdata": "61G4HoWArkAAAAAAAKOlQML1KFwP6KZAzczMzMx0iUBI4XoUrtShQHE9CtejbqFAKVyPwnVFq0ApXI/CdTWsQA==",
          "dtype": "f8"
         }
        },
        {
         "hovertemplate": "%{x}<br>FX Fees: €%{y:,.2f}<extra></extra>",
         "marker": {
          "color": "steelblue"
         },
         "name": "FX Fees",
         "type": "bar",
         "x": [
          "2025-01",
          "2025-02",
          "2025-03",
          "2025-04",
          "2025-05",
          "2025-06",
          "2025-07",
          "2025-08"
         ],
         "y": {
          "bdata": "CtejcL2YvkB7FK5HoYezQD0K16NwULlAcT0K1yOGskBmZmZm5km4QKRwPQrXXrdAKVyPwrWzsEBcj8L1qPa1QA==",
          "dtype": "f8"
         }
        }
       ],
       "layout": {
        "barmode": "group",
        "height": 600,
        "hovermode": "x unified",
        "legend": {
         "orientation": "h",
         "x": 1,
         "xanchor": "right",
         "y": 1.02,
         "yanchor": "bottom"
        },
        "template": {
         "data": {
          "bar": [
           {
            "error_x": {
             "color": "#2a3f5f"
            },
            "error_y": {
             "color": "#2a3f5f"
            },
            "marker": {
             "line": {
              "color": "#E5ECF6",
              "width": 0.5
             },
             "pattern": {
              "fillmode": "overlay",
              "size": 10,
              "solidity": 0.2
             }
            },
            "type": "bar"
           }
          ],
          "barpolar": [
           {
            "marker": {
             "line": {
              "color": "#E5ECF6",
              "width": 0.5
             },
             "pattern": {
              "fillmode": "overlay",
              "size": 10,
              "solidity": 0.2
             }
            },
            "type": "barpolar"
           }
          ],
          "carpet": [
           {
            "aaxis": {
             "endlinecolor": "#2a3f5f",
             "gridcolor": "white",
             "linecolor": "white",
             "minorgridcolor": "white",
             "startlinecolor": "#2a3f5f"
            },
            "baxis": {
             "endlinecolor": "#2a3f5f",
             "gridcolor": "white",
             "linecolor": "white",
             "minorgridcolor": "white",
             "startlinecolor": "#2a3f5f"
            },
            "type": "carpet"
           }
          ],
          "choropleth": [
           {
            "colorbar": {
             "outlinewidth": 0,
             "ticks": ""
            },
            "type": "choropleth"
           }
          ],
          "contour": [
           {
            "colorbar": {
             "outlinewidth": 0,
             "ticks": ""
            },
            "colorscale": [
             [
              0,
              "#0d0887"
             ],
             [
              0.1111111111111111,
              "#46039f"
             ],
             [
              0.2222222222222222,
              "#7201a8"
             ],
             [
              0.3333333333333333,
              "#9c179e"
             ],
             [
              0.4444444444444444,
              "#bd3786"
             ],
             [
              0.5555555555555556,
              "#d8576b"
             ],
             [
              0.6666666666666666,
              "#ed7953"
             ],
             [
              0.7777777777777778,
              "#fb9f3a"
             ],
             [
              0.8888888888888888,
              "#fdca26"
             ],
             [
              1,
              "#f0f921"
             ]
            ],
            "type": "contour"
           }
          ],
          "contourcarpet": [
           {
            "colorbar": {
             "outlinewidth": 0,
             "ticks": ""
            },
            "type": "contourcarpet"
           }
          ],
          "heatmap": [
           {
            "colorbar": {
             "outlinewidth": 0,
             "ticks": ""
            },
            "colorscale": [
             [
              0,
              "#0d0887"
             ],
             [
              0.1111111111111111,
              "#46039f"
             ],
             [
              0.2222222222222222,
              "#7201a8"
             ],
             [
              0.3333333333333333,
              "#9c179e"
             ],
             [
              0.4444444444444444,
              "#bd3786"
             ],
             [
              0.5555555555555556,
              "#d8576b"
             ],
             [
              0.6666666666666666,
              "#ed7953"
             ],
             [
              0.7777777777777778,
              "#fb9f3a"
             ],
             [
              0.8888888888888888,
              "#fdca26"
             ],
             [
              1,
              "#f0f921"
             ]
            ],
            "type": "heatmap"
           }
          ],
          "histogram": [
           {
            "marker": {
             "pattern": {
              "fillmode": "overlay",
              "size": 10,
              "solidity": 0.2
             }
            },
            "type": "histogram"
           }
          ],
          "histogram2d": [
           {
            "colorbar": {
             "outlinewidth": 0,
             "ticks": ""
            },
            "colorscale": [
             [
              0,
              "#0d0887"
             ],
             [
              0.1111111111111111,
              "#46039f"
             ],
             [
              0.2222222222222222,
              "#7201a8"
             ],
             [
              0.3333333333333333,
              "#9c179e"
             ],
             [
              0.4444444444444444,
              "#bd3786"
             ],
             [
              0.5555555555555556,
              "#d8576b"
             ],
             [
              0.6666666666666666,
              "#ed7953"
             ],
             [
              0.7777777777777778,
              "#fb9f3a"
             ],
             [
              0.8888888888888888,
              "#fdca26"
             ],
             [
              1,
              "#f0f921"
             ]
            ],
            "type": "histogram2d"
           }
          ],
          "histogram2dcontour": [
           {
            "colorbar": {
             "outlinewidth": 0,
             "ticks": ""
            },
            "colorscale": [
             [
              0,
              "#0d0887"
             ],
             [
              0.1111111111111111,
              "#46039f"
             ],
             [
              0.2222222222222222,
              "#7201a8"
             ],
             [
              0.3333333333333333,
              "#9c179e"
             ],
             [
              0.4444444444444444,
              "#bd3786"
             ],
             [
              0.5555555555555556,
              "#d8576b"
             ],
             [
              0.6666666666666666,
              "#ed7953"
             ],
             [
              0.7777777777777778,
              "#fb9f3a"
             ],
             [
              0.8888888888888888,
              "#fdca26"
             ],
             [
              1,
              "#f0f921"
             ]
            ],
            "type": "histogram2dcontour"
           }
          ],
          "mesh3d": [
           {
            "colorbar": {
             "outlinewidth": 0,
             "ticks": ""
            },
            "type": "mesh3d"
           }
          ],
          "parcoords": [
           {
            "line": {
             "colorbar": {
              "outlinewidth": 0,
              "ticks": ""
             }
            },
            "type": "parcoords"
           }
          ],
          "pie": [
           {
            "automargin": true,
            "type": "pie"
           }
          ],
          "scatter": [
           {
            "fillpattern": {
             "fillmode": "overlay",
             "size": 10,
             "solidity": 0.2
            },
            "type": "scatter"
           }
          ],
          "scatter3d": [
           {
            "line": {
             "colorbar": {
              "outlinewidth": 0,
              "ticks": ""
             }
            },
            "marker": {
             "colorbar": {
              "outlinewidth": 0,
              "ticks": ""
             }
            },
            "type": "scatter3d"
           }
          ],
          "scattercarpet": [
           {
            "marker": {
             "colorbar": {
              "outlinewidth": 0,
              "ticks": ""
             }
            },
            "type": "scattercarpet"
           }
          ],
          "scattergeo": [
           {
            "marker": {
             "colorbar": {
              "outlinewidth": 0,
              "ticks": ""
             }
            },
            "type": "scattergeo"
           }
          ],
          "scattergl": [
           {
            "marker": {
             "colorbar": {
              "outlinewidth": 0,
              "ticks": ""
             }
            },
            "type": "scattergl"
           }
          ],
          "scattermap": [
           {
            "marker": {
             "colorbar": {
              "outlinewidth": 0,
              "ticks": ""
             }
            },
            "type": "scattermap"
           }
          ],
          "scattermapbox": [
           {
            "marker": {
             "colorbar": {
              "outlinewidth": 0,
              "ticks": ""
             }
            },
            "type": "scattermapbox"
           }
          ],
          "scatterpolar": [
           {
            "marker": {
             "colorbar": {
              "outlinewidth": 0,
              "ticks": ""
             }
            },
            "type": "scatterpolar"
           }
          ],
          "scatterpolargl": [
           {
            "marker": {
             "colorbar": {
              "outlinewidth": 0,
              "ticks": ""
             }
            },
            "type": "scatterpolargl"
           }
          ],
          "scatterternary": [
           {
            "marker": {
             "colorbar": {
              "outlinewidth": 0,
              "ticks": ""
             }
            },
            "type": "scatterternary"
           }
          ],
          "surface": [
           {
            "colorbar": {
             "outlinewidth": 0,
             "ticks": ""
            },
            "colorscale": [
             [
              0,
              "#0d0887"
             ],
             [
              0.1111111111111111,
              "#46039f"
             ],
             [
              0.2222222222222222,
              "#7201a8"
             ],
             [
              0.3333333333333333,
              "#9c179e"
             ],
             [
              0.4444444444444444,
              "#bd3786"
             ],
             [
              0.5555555555555556,
              "#d8576b"
             ],
             [
              0.6666666666666666,
              "#ed7953"
             ],
             [
              0.7777777777777778,
              "#fb9f3a"
             ],
             [
              0.8888888888888888,
              "#fdca26"
             ],
             [
              1,
              "#f0f921"
             ]
            ],
            "type": "surface"
           }
          ],
          "table": [
           {
            "cells": {
             "fill": {
              "color": "#EBF0F8"
             },
             "line": {
              "color": "white"
             }
            },
            "header": {
             "fill": {
              "color": "#C8D4E3"
             },
             "line": {
              "color": "white"
             }
            },
            "type": "table"
           }
          ]
         },
         "layout": {
          "annotationdefaults": {
           "arrowcolor": "#2a3f5f",
           "arrowhead": 0,
           "arrowwidth": 1
          },
          "autotypenumbers": "strict",
          "coloraxis": {
           "colorbar": {
            "outlinewidth": 0,
            "ticks": ""
           }
          },
          "colorscale": {
           "diverging": [
            [
             0,
             "#8e0152"
            ],
            [
             0.1,
             "#c51b7d"
            ],
            [
             0.2,
             "#de77ae"
            ],
            [
             0.3,
             "#f1b6da"
            ],
            [
             0.4,
             "#fde0ef"
            ],
            [
             0.5,
             "#f7f7f7"
            ],
            [
             0.6,
             "#e6f5d0"
            ],
            [
             0.7,
             "#b8e186"
            ],
            [
             0.8,
             "#7fbc41"
            ],
            [
             0.9,
             "#4d9221"
            ],
            [
             1,
             "#276419"
            ]
           ],
           "sequential": [
            [
             0,
             "#0d0887"
            ],
            [
             0.1111111111111111,
             "#46039f"
            ],
            [
             0.2222222222222222,
             "#7201a8"
            ],
            [
             0.3333333333333333,
             "#9c179e"
            ],
            [
             0.4444444444444444,
             "#bd3786"
            ],
            [
             0.5555555555555556,
             "#d8576b"
            ],
            [
             0.6666666666666666,
             "#ed7953"
            ],
            [
             0.7777777777777778,
             "#fb9f3a"
            ],
            [
             0.8888888888888888,
             "#fdca26"
            ],
            [
             1,
             "#f0f921"
            ]
           ],
           "sequentialminus": [
            [
             0,
             "#0d0887"
            ],
            [
             0.1111111111111111,
             "#46039f"
            ],
            [
             0.2222222222222222,
             "#7201a8"
            ],
            [
             0.3333333333333333,
             "#9c179e"
            ],
            [
             0.4444444444444444,
             "#bd3786"
            ],
            [
             0.5555555555555556,
             "#d8576b"
            ],
            [
             0.6666666666666666,
             "#ed7953"
            ],
            [
             0.7777777777777778,
             "#fb9f3a"
            ],
            [
             0.8888888888888888,
             "#fdca26"
            ],
            [
             1,
             "#f0f921"
            ]
           ]
          },
          "colorway": [
           "#636efa",
           "#EF553B",
           "#00cc96",
           "#ab63fa",
           "#FFA15A",
           "#19d3f3",
           "#FF6692",
           "#B6E880",
           "#FF97FF",
           "#FECB52"
          ],
          "font": {
           "color": "#2a3f5f"
          },
          "geo": {
           "bgcolor": "white",
           "lakecolor": "white",
           "landcolor": "#E5ECF6",
           "showlakes": true,
           "showland": true,
           "subunitcolor": "white"
          },
          "hoverlabel": {
           "align": "left"
          },
          "hovermode": "closest",
          "mapbox": {
           "style": "light"
          },
          "paper_bgcolor": "white",
          "plot_bgcolor": "#E5ECF6",
          "polar": {
           "angularaxis": {
            "gridcolor": "white",
            "linecolor": "white",
            "ticks": ""
           },
           "bgcolor": "#E5ECF6",
           "radialaxis": {
            "gridcolor": "white",
            "linecolor": "white",
            "ticks": ""
           }
          },
          "scene": {
           "xaxis": {
            "backgroundcolor": "#E5ECF6",
            "gridcolor": "white",
            "gridwidth": 2,
            "linecolor": "white",
            "showbackground": true,
            "ticks": "",
            "zerolinecolor": "white"
           },
           "yaxis": {
            "backgroundcolor": "#E5ECF6",
            "gridcolor": "white",
            "gridwidth": 2,
            "linecolor": "white",
            "showbackground": true,
            "ticks": "",
            "zerolinecolor": "white"
           },
           "zaxis": {
            "backgroundcolor": "#E5ECF6",
            "gridcolor": "white",
            "gridwidth": 2,
            "linecolor": "white",
            "showbackground": true,
            "ticks": "",
            "zerolinecolor": "white"
           }
          },
          "shapedefaults": {
           "line": {
            "color": "#2a3f5f"
           }
          },
          "ternary": {
           "aaxis": {
            "gridcolor": "white",
            "linecolor": "white",
            "ticks": ""
           },
           "baxis": {
            "gridcolor": "white",
            "linecolor": "white",
            "ticks": ""
           },
           "bgcolor": "#E5ECF6",
           "caxis": {
            "gridcolor": "white",
            "linecolor": "white",
            "ticks": ""
           }
          },
          "title": {
           "x": 0.05
          },
          "xaxis": {
           "automargin": true,
           "gridcolor": "white",
           "linecolor": "white",
           "ticks": "",
           "title": {
            "standoff": 15
           },
           "zerolinecolor": "white",
           "zerolinewidth": 2
          },
          "yaxis": {
           "automargin": true,
           "gridcolor": "white",
           "linecolor": "white",
           "ticks": "",
           "title": {
            "standoff": 15
           },
           "zerolinecolor": "white",
           "zerolinewidth": 2
          }
         }
        },
        "title": {
         "text": "Investment Expenses & FX Fees by Month"
        },
        "width": 1200,
        "xaxis": {
         "title": {
          "text": "Month"
         }
        },
        "yaxis": {
         "title": {
          "text": "Amount (EUR)"
         }
        }
       }
      }
     },
     "metadata": {},
     "output_type": "display_data"
    },
    {
     "name": "stdout",
     "output_type": "stream",
     "text": [
      "\n",
      "Monthly Investment & FX Fees Summary:\n",
      "  month_str  investment_expenses  fx_fees\n",
      "0   2025-01              3904.26  7832.74\n",
      "1   2025-02              2769.50  4999.63\n",
      "2   2025-03              2932.03  6480.44\n",
      "3   2025-04               814.60  4742.14\n",
      "4   2025-05              2282.34  6217.90\n",
      "5   2025-06              2231.32  5982.84\n",
      "6   2025-07              3490.73  4275.71\n",
      "7   2025-08              3610.73  5622.66\n"
     ]
    }
   ],
   "source": [
    "# CHART 6: Exchange Fees Ratio (Line) + Investment Expenses (Bar)\n",
    "\n",
    "# Prepare monthly data - use loaded transactions\n",
    "tx_monthly = transactions.copy()\n",
    "tx_monthly['date'] = pd.to_datetime(tx_monthly[trx_date_col])\n",
    "tx_monthly['month'] = tx_monthly['date'].dt.to_period('M')\n",
    "\n",
    "# Calculate monthly income (CRDT)\n",
    "monthly_income = tx_monthly[tx_monthly['credit_or_debit'] == 'CRDT'].groupby('month')['amount'].sum().reset_index()\n",
    "monthly_income.columns = ['month', 'income']\n",
    "\n",
    "# Calculate monthly exchange fees (FX fees where debtor_name is 'FX Bank')\n",
    "fx_expenses = tx_monthly[\n",
    "    (tx_monthly['credit_or_debit'] == 'DBIT') & \n",
    "    (tx_monthly['debtor_name'] == 'FX Bank')\n",
    "].groupby('month')['amount'].sum().reset_index()\n",
    "fx_expenses.columns = ['month', 'fx_fees']\n",
    "\n",
    "print(f\"FX fees transactions found: {len(tx_monthly[(tx_monthly['credit_or_debit'] == 'DBIT') & (tx_monthly['debtor_name'] == 'FX Bank')])}\")\n",
    "\n",
    "# Calculate monthly investment expenses\n",
    "investment_expenses = tx_monthly[\n",
    "    (tx_monthly['credit_or_debit'] == 'DBIT') & \n",
    "    (tx_monthly['additional_info'].str.contains('Investment', na=False))\n",
    "].groupby('month')['amount'].sum().reset_index()\n",
    "investment_expenses.columns = ['month', 'investment_expenses']\n",
    "\n",
    "# Merge data\n",
    "chart6_data = monthly_income.merge(fx_expenses, on='month', how='left')\n",
    "chart6_data = chart6_data.merge(investment_expenses, on='month', how='left')\n",
    "chart6_data['fx_fees'] = chart6_data['fx_fees'].fillna(0)\n",
    "chart6_data['investment_expenses'] = chart6_data['investment_expenses'].fillna(0)\n",
    "\n",
    "chart6_data['month_str'] = chart6_data['month'].astype(str)\n",
    "\n",
    "# Create grouped bar chart\n",
    "fig6 = go.Figure()\n",
    "\n",
    "# Add investment expenses bars\n",
    "fig6.add_trace(go.Bar(\n",
    "    x=chart6_data['month_str'],\n",
    "    y=chart6_data['investment_expenses'],\n",
    "    name='Investment Expenses',\n",
    "    marker_color='lightcoral',\n",
    "    hovertemplate='%{x}<br>Investment: €%{y:,.2f}<extra></extra>'\n",
    "))\n",
    "\n",
    "# Add FX fees bars\n",
    "fig6.add_trace(go.Bar(\n",
    "    x=chart6_data['month_str'],\n",
    "    y=chart6_data['fx_fees'],\n",
    "    name='FX Fees',\n",
    "    marker_color='steelblue',\n",
    "    hovertemplate='%{x}<br>FX Fees: €%{y:,.2f}<extra></extra>'\n",
    "))\n",
    "\n",
    "# Update layout for grouped bars\n",
    "fig6.update_layout(\n",
    "    title='Investment Expenses & FX Fees by Month',\n",
    "    xaxis=dict(title='Month'),\n",
    "    yaxis=dict(title='Amount (EUR)'),\n",
    "    barmode='group',\n",
    "    hovermode='x unified',\n",
    "    height=600,\n",
    "    width=1200,\n",
    "    legend=dict(orientation='h', yanchor='bottom', y=1.02, xanchor='right', x=1)\n",
    ")\n",
    "\n",
    "fig6.show()\n",
    "\n",
    "# Display summary stats\n",
    "print(\"\\nMonthly Investment & FX Fees Summary:\")\n",
    "print(chart6_data[['month_str', 'investment_expenses', 'fx_fees']])\n"
   ]
  },
  {
   "cell_type": "markdown",
   "id": "69323fb1",
   "metadata": {},
   "source": [
    "## Summary & Instructions\n",
    "\n",
    "### Setup Instructions:\n",
    "\n",
    "1. **Install Dependencies:**\n",
    "   ```bash\n",
    "   cd /Users/gianniskotsas/Documents/Side Projects/palm-case-study/scripts\n",
    "   pip install -e .\n",
    "   ```\n",
    "\n",
    "2. **Run the Notebook:**\n",
    "   - Execute cells in order\n",
    "   - Cell 2: Load datasets (transactions, balances, forecasts)\n",
    "   - Cell 3: Optional OpenAI setup (can skip)\n",
    "   - Cells 4-15: Generate all 6 charts\n",
    "\n",
    "### Charts Created:\n",
    "\n",
    "1. **Monthly Expenses by Category + Revenue** - Stacked bar chart of expenses with hotel revenue line (includes average % share)\n",
    "2. **Revenue Heatmap** - Day of week vs week of year\n",
    "3. **Net Cashflow & Cumulative Cash** - Daily net cashflow bars with cumulative line (starting from initial balance in balances.csv)\n",
    "4. **Monthly Balance Deviations** - Shows only deviation bars (using value_date) with color coding (green=positive, red=negative)\n",
    "5. **Daily Income with French Holidays** - Income bars with French holiday markers\n",
    "6. **Investment Expenses & FX Fees** - Grouped bar chart comparing investment expenses and FX fees\n",
    "\n",
    "### Data Sources:\n",
    "All charts use the pre-loaded datasets from Cell 2:\n",
    "- `transactions` - Main transaction data\n",
    "- `balances` - Daily balance snapshots\n",
    "- `trx_date_col` - Auto-detected date column name\n",
    "- `base_dir` - Path to datasets/raw folder\n"
   ]
  }
 ],
 "metadata": {
  "kernelspec": {
   "display_name": "Python (palm-scripts)",
   "language": "python",
   "name": "palm-scripts"
  },
  "language_info": {
   "codemirror_mode": {
    "name": "ipython",
    "version": 3
   },
   "file_extension": ".py",
   "mimetype": "text/x-python",
   "name": "python",
   "nbconvert_exporter": "python",
   "pygments_lexer": "ipython3",
   "version": "3.13.3"
  }
 },
 "nbformat": 4,
 "nbformat_minor": 5
}
